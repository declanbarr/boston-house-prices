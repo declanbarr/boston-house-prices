{
 "cells": [
  {
   "cell_type": "markdown",
   "metadata": {},
   "source": [
    "# Introduction\n",
    "\n",
    "The Boston House Prices Dataset contains data on 506 towns in Boston. The dataset has 14 attributes such as the crime rate per town, parent teacher ratio and the median value of owner-occupied homes. The dataset was created in 1978 by Harrison, D. and Rubinfeld, D.L. The dataset can be downloaded from [Boston Housing Data](https://archive.ics.uci.edu/ml/machine-learning-databases/housing/housing.data). The dataset doesn't contain the column names but these are contained in the .names file from [Boston Housing Names](https://archive.ics.uci.edu/ml/machine-learning-databases/housing/housing.names). The original paper which published the dataset can be found [here]( http://citeseerx.ist.psu.edu/viewdoc/download?doi=10.1.1.926.5532&rep=rep1&type=pdf). \n",
    "\n",
    "The dataset is comprised of data obtained from the 1970 Boston Standard Metropolitan Statistical Area census [Cite Seer X - Hedonic Housing Prices and the Demand for Clean Air](http://citeseerx.ist.psu.edu/viewdoc/download?doi=10.1.1.926.5532&rep=rep1&type=pdf)\n",
    "\n",
    "The census from which the dataset was built can be viewed [here](https://www2.census.gov/library/publications/decennial/1970/phc-1/39204513p3ch06.pdf)\n",
    "\n",
    "This project will start off by describing the the dataset: visualising the correlations between attributes, the distribution of the values for each attribute, and giving the summary statisitcs.\n",
    "\n",
    "Next we will look at wether Inferential Statistics can be used to determine if there is a difference in median house prices for house along the Charles River vs those that are not along the Charles River.\n",
    "\n",
    "Finally we will try to predict using a neural network, the median house price when given the values for the other attributes."
   ]
  },
  {
   "cell_type": "markdown",
   "metadata": {},
   "source": [
    "# Describe"
   ]
  },
  {
   "cell_type": "code",
   "execution_count": 1,
   "metadata": {},
   "outputs": [
    {
     "name": "stdout",
     "output_type": "stream",
     "text": [
      "1. Title: Boston Housing Data\n",
      "\n",
      "2. Sources:\n",
      "   (a) Origin:  This dataset was taken from the StatLib library which is\n",
      "                maintained at Carnegie Mellon University.\n",
      "   (b) Creator:  Harrison, D. and Rubinfeld, D.L. 'Hedonic prices and the \n",
      "                 demand for clean air', J. Environ. Economics & Management,\n",
      "                 vol.5, 81-102, 1978.\n",
      "   (c) Date: July 7, 1993\n",
      "\n",
      "3. Past Usage:\n",
      "   -   Used in Belsley, Kuh & Welsch, 'Regression diagnostics ...', Wiley, \n",
      "       1980.   N.B. Various transformations are used in the table on\n",
      "       pages 244-261.\n",
      "    -  Quinlan,R. (1993). Combining Instance-Based and Model-Based Learning.\n",
      "       In Proceedings on the Tenth International Conference of Machine \n",
      "       Learning, 236-243, University of Massachusetts, Amherst. Morgan\n",
      "       Kaufmann.\n",
      "\n",
      "4. Relevant Information:\n",
      "\n",
      "   Concerns housing values in suburbs of Boston.\n",
      "\n",
      "5. Number of Instances: 506\n",
      "\n",
      "6. Number of Attributes: 13 continuous attributes (including \"class\"\n",
      "                         attribute \"MEDV\"), 1 binary-valued attribute.\n",
      "\n",
      "7. Attribute Information:\n",
      "\n",
      "    1. CRIM      per capita crime rate by town\n",
      "    2. ZN        proportion of residential land zoned for lots over \n",
      "                 25,000 sq.ft.\n",
      "    3. INDUS     proportion of non-retail business acres per town\n",
      "    4. CHAS      Charles River dummy variable (= 1 if tract bounds \n",
      "                 river; 0 otherwise)\n",
      "    5. NOX       nitric oxides concentration (parts per 10 million)\n",
      "    6. RM        average number of rooms per dwelling\n",
      "    7. AGE       proportion of owner-occupied units built prior to 1940\n",
      "    8. DIS       weighted distances to five Boston employment centres\n",
      "    9. RAD       index of accessibility to radial highways\n",
      "    10. TAX      full-value property-tax rate per $10,000\n",
      "    11. PTRATIO  pupil-teacher ratio by town\n",
      "    12. B        1000(Bk - 0.63)^2 where Bk is the proportion of blacks \n",
      "                 by town\n",
      "    13. LSTAT    % lower status of the population\n",
      "    14. MEDV     Median value of owner-occupied homes in $1000's\n",
      "\n",
      "8. Missing Attribute Values:  None.\n",
      "\n",
      "\n",
      "\n",
      "\n"
     ]
    }
   ],
   "source": [
    "# Import package that will enable opening of names file from url\n",
    "from urllib.request import urlopen\n",
    "\n",
    "# Open the names file and assign it to data\n",
    "data = urlopen(\"https://archive.ics.uci.edu/ml/machine-learning-databases/housing/housing.names\")\n",
    "\n",
    "# Adapted from https://bugs.python.org/issue5419\n",
    "# Decode the content of the names file and print the output\n",
    "print(data.read().decode('utf-8'))"
   ]
  },
  {
   "cell_type": "code",
   "execution_count": 2,
   "metadata": {},
   "outputs": [
    {
     "data": {
      "text/html": [
       "<div>\n",
       "<style scoped>\n",
       "    .dataframe tbody tr th:only-of-type {\n",
       "        vertical-align: middle;\n",
       "    }\n",
       "\n",
       "    .dataframe tbody tr th {\n",
       "        vertical-align: top;\n",
       "    }\n",
       "\n",
       "    .dataframe thead th {\n",
       "        text-align: right;\n",
       "    }\n",
       "</style>\n",
       "<table border=\"1\" class=\"dataframe\">\n",
       "  <thead>\n",
       "    <tr style=\"text-align: right;\">\n",
       "      <th></th>\n",
       "      <th>CRIM</th>\n",
       "      <th>ZN</th>\n",
       "      <th>INDUS</th>\n",
       "      <th>CHAS</th>\n",
       "      <th>NOX</th>\n",
       "      <th>RM</th>\n",
       "      <th>AGE</th>\n",
       "      <th>DIS</th>\n",
       "      <th>RAD</th>\n",
       "      <th>TAX</th>\n",
       "      <th>PTRATIO</th>\n",
       "      <th>B</th>\n",
       "      <th>LSTAT</th>\n",
       "      <th>MEDV</th>\n",
       "    </tr>\n",
       "  </thead>\n",
       "  <tbody>\n",
       "    <tr>\n",
       "      <td>0</td>\n",
       "      <td>0.00632</td>\n",
       "      <td>18.0</td>\n",
       "      <td>2.31</td>\n",
       "      <td>0</td>\n",
       "      <td>0.538</td>\n",
       "      <td>6.575</td>\n",
       "      <td>65.2</td>\n",
       "      <td>4.0900</td>\n",
       "      <td>1</td>\n",
       "      <td>296.0</td>\n",
       "      <td>15.3</td>\n",
       "      <td>396.90</td>\n",
       "      <td>4.98</td>\n",
       "      <td>24.0</td>\n",
       "    </tr>\n",
       "    <tr>\n",
       "      <td>1</td>\n",
       "      <td>0.02731</td>\n",
       "      <td>0.0</td>\n",
       "      <td>7.07</td>\n",
       "      <td>0</td>\n",
       "      <td>0.469</td>\n",
       "      <td>6.421</td>\n",
       "      <td>78.9</td>\n",
       "      <td>4.9671</td>\n",
       "      <td>2</td>\n",
       "      <td>242.0</td>\n",
       "      <td>17.8</td>\n",
       "      <td>396.90</td>\n",
       "      <td>9.14</td>\n",
       "      <td>21.6</td>\n",
       "    </tr>\n",
       "    <tr>\n",
       "      <td>2</td>\n",
       "      <td>0.02729</td>\n",
       "      <td>0.0</td>\n",
       "      <td>7.07</td>\n",
       "      <td>0</td>\n",
       "      <td>0.469</td>\n",
       "      <td>7.185</td>\n",
       "      <td>61.1</td>\n",
       "      <td>4.9671</td>\n",
       "      <td>2</td>\n",
       "      <td>242.0</td>\n",
       "      <td>17.8</td>\n",
       "      <td>392.83</td>\n",
       "      <td>4.03</td>\n",
       "      <td>34.7</td>\n",
       "    </tr>\n",
       "    <tr>\n",
       "      <td>3</td>\n",
       "      <td>0.03237</td>\n",
       "      <td>0.0</td>\n",
       "      <td>2.18</td>\n",
       "      <td>0</td>\n",
       "      <td>0.458</td>\n",
       "      <td>6.998</td>\n",
       "      <td>45.8</td>\n",
       "      <td>6.0622</td>\n",
       "      <td>3</td>\n",
       "      <td>222.0</td>\n",
       "      <td>18.7</td>\n",
       "      <td>394.63</td>\n",
       "      <td>2.94</td>\n",
       "      <td>33.4</td>\n",
       "    </tr>\n",
       "    <tr>\n",
       "      <td>4</td>\n",
       "      <td>0.06905</td>\n",
       "      <td>0.0</td>\n",
       "      <td>2.18</td>\n",
       "      <td>0</td>\n",
       "      <td>0.458</td>\n",
       "      <td>7.147</td>\n",
       "      <td>54.2</td>\n",
       "      <td>6.0622</td>\n",
       "      <td>3</td>\n",
       "      <td>222.0</td>\n",
       "      <td>18.7</td>\n",
       "      <td>396.90</td>\n",
       "      <td>5.33</td>\n",
       "      <td>36.2</td>\n",
       "    </tr>\n",
       "  </tbody>\n",
       "</table>\n",
       "</div>"
      ],
      "text/plain": [
       "      CRIM    ZN  INDUS  CHAS    NOX     RM   AGE     DIS  RAD    TAX  \\\n",
       "0  0.00632  18.0   2.31     0  0.538  6.575  65.2  4.0900    1  296.0   \n",
       "1  0.02731   0.0   7.07     0  0.469  6.421  78.9  4.9671    2  242.0   \n",
       "2  0.02729   0.0   7.07     0  0.469  7.185  61.1  4.9671    2  242.0   \n",
       "3  0.03237   0.0   2.18     0  0.458  6.998  45.8  6.0622    3  222.0   \n",
       "4  0.06905   0.0   2.18     0  0.458  7.147  54.2  6.0622    3  222.0   \n",
       "\n",
       "   PTRATIO       B  LSTAT  MEDV  \n",
       "0     15.3  396.90   4.98  24.0  \n",
       "1     17.8  396.90   9.14  21.6  \n",
       "2     17.8  392.83   4.03  34.7  \n",
       "3     18.7  394.63   2.94  33.4  \n",
       "4     18.7  396.90   5.33  36.2  "
      ]
     },
     "execution_count": 2,
     "metadata": {},
     "output_type": "execute_result"
    }
   ],
   "source": [
    "# Importing pandas\n",
    "import pandas as pd\n",
    "\n",
    "# Reading the tab-delimited dataset into a DataFile and adding column names from the housing.names file shown above\n",
    "df = pd.read_csv(\"https://archive.ics.uci.edu/ml/machine-learning-databases/housing/housing.data\", sep='\\s+', names=[\"CRIM\", \"ZN\", \"INDUS\", \"CHAS\", \"NOX\", \"RM\", \"AGE\", \"DIS\", \"RAD\", \"TAX\", \"PTRATIO\", \"B\", \"LSTAT\", \"MEDV\"])\n",
    "\n",
    "# Viewing the first five rows of the dataset\n",
    "df.head()"
   ]
  },
  {
   "cell_type": "markdown",
   "metadata": {},
   "source": [
    "## Visualising the dataset\n",
    "\n",
    "### Scatter plots\n",
    "\n",
    "MEDV is the variable that we will be trying to predict using the keras machine learning library.\n",
    "\n",
    "From the scatter plot below, there appears to be a negative correlation with house prices and the following: CRIM, INDUS, NOX, LSTAT, PTRATIO and possibly TAX.\n",
    "\n",
    "There appears to be a positive correlation between house prices and RM"
   ]
  },
  {
   "cell_type": "code",
   "execution_count": 3,
   "metadata": {},
   "outputs": [
    {
     "data": {
      "text/plain": [
       "<Figure size 432x288 with 0 Axes>"
      ]
     },
     "metadata": {},
     "output_type": "display_data"
    },
    {
     "data": {
      "image/png": "[encoded data removed]",
      "text/plain": [
       "<Figure size 1008x1152 with 15 Axes>"
      ]
     },
     "metadata": {
      "needs_background": "light"
     },
     "output_type": "display_data"
    }
   ],
   "source": [
    "# Adapted from https://github.com/Tsmith5151/Boston-Housing-Prices/blob/master/boston_housing.ipynb\n",
    "# Importing visualisation package matplotlib\n",
    "%matplotlib inline\n",
    "import matplotlib.pyplot as plt\n",
    "\n",
    "# Creat the figures\n",
    "plt.figure()\n",
    "fig,axes = plt.subplots(5, 3, figsize=(14, 16))\n",
    "fig.subplots_adjust(wspace=.2, hspace=.4)\n",
    "img_index = 0\n",
    "\n",
    "# Determine the number of columns in the dataframe\n",
    "cols = len(df.columns)\n",
    "\n",
    "# Loop through the colmuns\n",
    "for i in range(cols - 1):\n",
    "    # Each row will contain 3 plots \n",
    "    row, col = i // 3, i % 3\n",
    "    # Create the scatter plots for each attribute against MEDV\n",
    "    axes[row][col].scatter(df.iloc[:, i], df.loc[:, \"MEDV\"], alpha=0.5, s=10)\n",
    "    axes[row][col].set_title(df.columns[i] + ' and MEDV')\n",
    "    axes[row][col].set_xlabel(df.columns[i])        \n",
    "    axes[row][col].set_ylabel('MEDV')\n",
    "\n",
    "# Show the plots\n",
    "plt.show()"
   ]
  },
  {
   "cell_type": "markdown",
   "metadata": {},
   "source": [
    "### Creating a diagonal correlation heat map"
   ]
  },
  {
   "cell_type": "code",
   "execution_count": 4,
   "metadata": {},
   "outputs": [
    {
     "data": {
      "image/png": "[encoded data removed]",
      "text/plain": [
       "<Figure size 1008x576 with 2 Axes>"
      ]
     },
     "metadata": {},
     "output_type": "display_data"
    }
   ],
   "source": [
    "# Import packages\n",
    "import numpy as np\n",
    "import pandas as pd\n",
    "import matplotlib.pyplot as plt\n",
    "import seaborn as sns\n",
    "\n",
    "# Creating a correlation matrix\n",
    "corr = df.corr()\n",
    "\n",
    "# Setting the size of the heat map\n",
    "sns.set(rc={'figure.figsize':(14,8)})\n",
    "\n",
    "# Adapted from https://seaborn.pydata.org/generated/seaborn.heatmap.html\n",
    "mask = np.zeros_like(corr) \n",
    "mask[np.triu_indices_from(mask)] = True\n",
    "\n",
    "# Creating the correlation heatmap\n",
    "sns.heatmap(corr, annot=True, mask=mask,cmap='RdBu', vmin=-0.8, vmax=0.8)\n",
    "\n",
    "\n",
    "# Adapted from https://github.com/mwaskom/seaborn/issues/1773\n",
    "# Altered to fix blank row at top and at the right\n",
    "\n",
    "# Changes to the y-axis\n",
    "b, t= plt.ylim() # discover the values for bottom and top\n",
    "b += 0.5 # Add 0.5 to the bottom\n",
    "t += 0.5 # Add 0.5 to the top\n",
    "plt.ylim(b, t) # update the ylim(bottom, top) values\n",
    "\n",
    "# Changes to the x-axis\n",
    "l, r = plt.xlim()\n",
    "r -= 1 # Subtract 1 from the right\n",
    "plt.xlim(l, r)\n",
    "\n",
    "# Showing the heatmap\n",
    "plt.show()"
   ]
  },
  {
   "cell_type": "markdown",
   "metadata": {},
   "source": [
    "### Deciding which variables to look at\n",
    "\n",
    "From the above the variables that strongly correlate with MEDV (either positively or negatively) are LSTAT (-0.74), PTRATIO (-0.51) and RM (0.70). The highest correlation between any two variables is 0.91 for RAD vs TAX. The lowest correlation between any two variables is -0.0075 for RAD vs CHAS. When comparing one variable against all other variables, the CHAS variable has the lowest correlation. The highest correlation between CHAS and any other variable is with MEDV at 0.18. In the next section we will look at using inferential statistics to determine if there is a significant difference in house prices between houses that are along the Charles River and those that aren't.\n",
    "\n",
    "In the prediction section, I initially chose the variables that had the highest correlation to MEDV but then I found that I was able to get a much better result by using all the variables."
   ]
  },
  {
   "cell_type": "markdown",
   "metadata": {},
   "source": [
    "### Summary statistics"
   ]
  },
  {
   "cell_type": "code",
   "execution_count": 5,
   "metadata": {},
   "outputs": [
    {
     "data": {
      "text/html": [
       "<div>\n",
       "<style scoped>\n",
       "    .dataframe tbody tr th:only-of-type {\n",
       "        vertical-align: middle;\n",
       "    }\n",
       "\n",
       "    .dataframe tbody tr th {\n",
       "        vertical-align: top;\n",
       "    }\n",
       "\n",
       "    .dataframe thead th {\n",
       "        text-align: right;\n",
       "    }\n",
       "</style>\n",
       "<table border=\"1\" class=\"dataframe\">\n",
       "  <thead>\n",
       "    <tr style=\"text-align: right;\">\n",
       "      <th></th>\n",
       "      <th>CRIM</th>\n",
       "      <th>ZN</th>\n",
       "      <th>INDUS</th>\n",
       "      <th>CHAS</th>\n",
       "      <th>NOX</th>\n",
       "      <th>RM</th>\n",
       "      <th>AGE</th>\n",
       "      <th>DIS</th>\n",
       "      <th>RAD</th>\n",
       "      <th>TAX</th>\n",
       "      <th>PTRATIO</th>\n",
       "      <th>B</th>\n",
       "      <th>LSTAT</th>\n",
       "      <th>MEDV</th>\n",
       "    </tr>\n",
       "  </thead>\n",
       "  <tbody>\n",
       "    <tr>\n",
       "      <td>count</td>\n",
       "      <td>506.000000</td>\n",
       "      <td>506.000000</td>\n",
       "      <td>506.000000</td>\n",
       "      <td>506.000000</td>\n",
       "      <td>506.000000</td>\n",
       "      <td>506.000000</td>\n",
       "      <td>506.000000</td>\n",
       "      <td>506.000000</td>\n",
       "      <td>506.000000</td>\n",
       "      <td>506.000000</td>\n",
       "      <td>506.000000</td>\n",
       "      <td>506.000000</td>\n",
       "      <td>506.000000</td>\n",
       "      <td>506.000000</td>\n",
       "    </tr>\n",
       "    <tr>\n",
       "      <td>mean</td>\n",
       "      <td>3.613524</td>\n",
       "      <td>11.363636</td>\n",
       "      <td>11.136779</td>\n",
       "      <td>0.069170</td>\n",
       "      <td>0.554695</td>\n",
       "      <td>6.284634</td>\n",
       "      <td>68.574901</td>\n",
       "      <td>3.795043</td>\n",
       "      <td>9.549407</td>\n",
       "      <td>408.237154</td>\n",
       "      <td>18.455534</td>\n",
       "      <td>356.674032</td>\n",
       "      <td>12.653063</td>\n",
       "      <td>22.532806</td>\n",
       "    </tr>\n",
       "    <tr>\n",
       "      <td>std</td>\n",
       "      <td>8.601545</td>\n",
       "      <td>23.322453</td>\n",
       "      <td>6.860353</td>\n",
       "      <td>0.253994</td>\n",
       "      <td>0.115878</td>\n",
       "      <td>0.702617</td>\n",
       "      <td>28.148861</td>\n",
       "      <td>2.105710</td>\n",
       "      <td>8.707259</td>\n",
       "      <td>168.537116</td>\n",
       "      <td>2.164946</td>\n",
       "      <td>91.294864</td>\n",
       "      <td>7.141062</td>\n",
       "      <td>9.197104</td>\n",
       "    </tr>\n",
       "    <tr>\n",
       "      <td>min</td>\n",
       "      <td>0.006320</td>\n",
       "      <td>0.000000</td>\n",
       "      <td>0.460000</td>\n",
       "      <td>0.000000</td>\n",
       "      <td>0.385000</td>\n",
       "      <td>3.561000</td>\n",
       "      <td>2.900000</td>\n",
       "      <td>1.129600</td>\n",
       "      <td>1.000000</td>\n",
       "      <td>187.000000</td>\n",
       "      <td>12.600000</td>\n",
       "      <td>0.320000</td>\n",
       "      <td>1.730000</td>\n",
       "      <td>5.000000</td>\n",
       "    </tr>\n",
       "    <tr>\n",
       "      <td>25%</td>\n",
       "      <td>0.082045</td>\n",
       "      <td>0.000000</td>\n",
       "      <td>5.190000</td>\n",
       "      <td>0.000000</td>\n",
       "      <td>0.449000</td>\n",
       "      <td>5.885500</td>\n",
       "      <td>45.025000</td>\n",
       "      <td>2.100175</td>\n",
       "      <td>4.000000</td>\n",
       "      <td>279.000000</td>\n",
       "      <td>17.400000</td>\n",
       "      <td>375.377500</td>\n",
       "      <td>6.950000</td>\n",
       "      <td>17.025000</td>\n",
       "    </tr>\n",
       "    <tr>\n",
       "      <td>50%</td>\n",
       "      <td>0.256510</td>\n",
       "      <td>0.000000</td>\n",
       "      <td>9.690000</td>\n",
       "      <td>0.000000</td>\n",
       "      <td>0.538000</td>\n",
       "      <td>6.208500</td>\n",
       "      <td>77.500000</td>\n",
       "      <td>3.207450</td>\n",
       "      <td>5.000000</td>\n",
       "      <td>330.000000</td>\n",
       "      <td>19.050000</td>\n",
       "      <td>391.440000</td>\n",
       "      <td>11.360000</td>\n",
       "      <td>21.200000</td>\n",
       "    </tr>\n",
       "    <tr>\n",
       "      <td>75%</td>\n",
       "      <td>3.677082</td>\n",
       "      <td>12.500000</td>\n",
       "      <td>18.100000</td>\n",
       "      <td>0.000000</td>\n",
       "      <td>0.624000</td>\n",
       "      <td>6.623500</td>\n",
       "      <td>94.075000</td>\n",
       "      <td>5.188425</td>\n",
       "      <td>24.000000</td>\n",
       "      <td>666.000000</td>\n",
       "      <td>20.200000</td>\n",
       "      <td>396.225000</td>\n",
       "      <td>16.955000</td>\n",
       "      <td>25.000000</td>\n",
       "    </tr>\n",
       "    <tr>\n",
       "      <td>max</td>\n",
       "      <td>88.976200</td>\n",
       "      <td>100.000000</td>\n",
       "      <td>27.740000</td>\n",
       "      <td>1.000000</td>\n",
       "      <td>0.871000</td>\n",
       "      <td>8.780000</td>\n",
       "      <td>100.000000</td>\n",
       "      <td>12.126500</td>\n",
       "      <td>24.000000</td>\n",
       "      <td>711.000000</td>\n",
       "      <td>22.000000</td>\n",
       "      <td>396.900000</td>\n",
       "      <td>37.970000</td>\n",
       "      <td>50.000000</td>\n",
       "    </tr>\n",
       "  </tbody>\n",
       "</table>\n",
       "</div>"
      ],
      "text/plain": [
       "             CRIM          ZN       INDUS        CHAS         NOX          RM  \\\n",
       "count  506.000000  506.000000  506.000000  506.000000  506.000000  506.000000   \n",
       "mean     3.613524   11.363636   11.136779    0.069170    0.554695    6.284634   \n",
       "std      8.601545   23.322453    6.860353    0.253994    0.115878    0.702617   \n",
       "min      0.006320    0.000000    0.460000    0.000000    0.385000    3.561000   \n",
       "25%      0.082045    0.000000    5.190000    0.000000    0.449000    5.885500   \n",
       "50%      0.256510    0.000000    9.690000    0.000000    0.538000    6.208500   \n",
       "75%      3.677082   12.500000   18.100000    0.000000    0.624000    6.623500   \n",
       "max     88.976200  100.000000   27.740000    1.000000    0.871000    8.780000   \n",
       "\n",
       "              AGE         DIS         RAD         TAX     PTRATIO           B  \\\n",
       "count  506.000000  506.000000  506.000000  506.000000  506.000000  506.000000   \n",
       "mean    68.574901    3.795043    9.549407  408.237154   18.455534  356.674032   \n",
       "std     28.148861    2.105710    8.707259  168.537116    2.164946   91.294864   \n",
       "min      2.900000    1.129600    1.000000  187.000000   12.600000    0.320000   \n",
       "25%     45.025000    2.100175    4.000000  279.000000   17.400000  375.377500   \n",
       "50%     77.500000    3.207450    5.000000  330.000000   19.050000  391.440000   \n",
       "75%     94.075000    5.188425   24.000000  666.000000   20.200000  396.225000   \n",
       "max    100.000000   12.126500   24.000000  711.000000   22.000000  396.900000   \n",
       "\n",
       "            LSTAT        MEDV  \n",
       "count  506.000000  506.000000  \n",
       "mean    12.653063   22.532806  \n",
       "std      7.141062    9.197104  \n",
       "min      1.730000    5.000000  \n",
       "25%      6.950000   17.025000  \n",
       "50%     11.360000   21.200000  \n",
       "75%     16.955000   25.000000  \n",
       "max     37.970000   50.000000  "
      ]
     },
     "execution_count": 5,
     "metadata": {},
     "output_type": "execute_result"
    }
   ],
   "source": [
    "# Provide summary statistics on the dataset\n",
    "df.describe()"
   ]
  },
  {
   "cell_type": "markdown",
   "metadata": {},
   "source": [
    "### Histograms\n",
    "\n",
    "From the histogram below we can see that the majority of towns (~400) have a crime rate of less than 4 per capita. From the summary statistics we can see that 75% of towns have a crime rate per capita of 3.7 but the mean is also close to this value at 3.6. This is due to a maximum value of 88.9 which is resulting in a right skew. The standard deviation for this is 8.6. \n",
    "\n",
    "For the B variable the opposite is true. From the histogram we can see that the majority (close to 400) are at the high end of the scale with a value greater than 375. From the summary stats we can see that the Q1 value is 375.4, the max is 396.9 and the minimum is 0.32. The mean (356.7) is close to the Q1 value (375.4). This attribute has a left skew.\n",
    "\n",
    "\n",
    "\n",
    "These differences, along with the differences in correlations above, are important to note for later on when we try to fit the data to the neural network. Preprocessing the data to remove the correlations, create a zero mean and standard deviation of 1 will improve the performance of the neural network."
   ]
  },
  {
   "cell_type": "code",
   "execution_count": 6,
   "metadata": {},
   "outputs": [
    {
     "data": {
      "text/plain": [
       "<Figure size 432x288 with 0 Axes>"
      ]
     },
     "metadata": {},
     "output_type": "display_data"
    },
    {
     "data": {
      "image/png": "[encoded data removed]",
      "text/plain": [
       "<Figure size 1008x1152 with 15 Axes>"
      ]
     },
     "metadata": {
      "needs_background": "light"
     },
     "output_type": "display_data"
    }
   ],
   "source": [
    "# Adapted from https://github.com/Tsmith5151/Boston-Housing-Prices/blob/master/boston_housing.ipynb\n",
    "%matplotlib inline\n",
    "import matplotlib.pyplot as plt\n",
    "\n",
    "plt.figure()\n",
    "fig,axes = plt.subplots(5, 3, figsize=(14, 16))\n",
    "fig.subplots_adjust(wspace=.2, hspace=.4)\n",
    "img_index = 0\n",
    "\n",
    "# Determine the number of columns in the dataframe\n",
    "cols = len(df.columns)\n",
    "\n",
    "# Loop through the colmuns\n",
    "for i in range(cols ):\n",
    "    # Each row will contain 3 plots\n",
    "    row, col = i // 3, i % 3\n",
    "    # Create the histograms for each attribute\n",
    "    axes[row][col].hist(df.iloc[:, i], bins=20)\n",
    "    axes[row][col].set_title(df.columns[i])\n",
    "plt.show()"
   ]
  },
  {
   "cell_type": "markdown",
   "metadata": {},
   "source": [
    "## Inferential Statistics\n",
    "\n",
    "We are interested in determining if there is a significant difference in house prices between houses that are along the Charles River and those that aren't. The Boston House Prices dataset does not contain the data for the entire population of houses in Boston but instead contains a sample which are the median values for each town. We can use inferential statistics to make inferences about the population from the sample data [towardsdatascience-Inferential Statistics for Data Science](https://towardsdatascience.com/inferential-statistics-for-data-science-b0075670fc8a). Inferential statistics can be used to determine the probability that there is a true relationship between two variables [Science Direct-Inferential Statistics](https://www.sciencedirect.com/topics/medicine-and-dentistry/inferential-statistics).  "
   ]
  },
  {
   "cell_type": "code",
   "execution_count": 7,
   "metadata": {},
   "outputs": [
    {
     "data": {
      "text/plain": [
       "CHAS\n",
       "0    22.093843\n",
       "1    28.440000\n",
       "Name: MEDV, dtype: float64"
      ]
     },
     "execution_count": 7,
     "metadata": {},
     "output_type": "execute_result"
    }
   ],
   "source": [
    "# Determining the mean for both groups\n",
    "df[\"MEDV\"].groupby(df[\"CHAS\"]).mean()"
   ]
  },
  {
   "cell_type": "markdown",
   "metadata": {},
   "source": [
    "We can see that there is a difference in the means between the two groups but we have to determine if this difference is statistically significant. We can use a t-test to determine this. [Investopedia - T-Test](https://www.investopedia.com/terms/t/t-test.asp)"
   ]
  },
  {
   "cell_type": "markdown",
   "metadata": {},
   "source": [
    "### Selecting an appropriate test\n",
    "\n",
    "#### Student t-test\n",
    "\n",
    "The Student t-test was developed by William Sealy Gosset in 1908, while he was working for the Guinness brewery [Wikipedia - Student's t-test](https://en.wikipedia.org/wiki/Student%27s_t-test). As the test was designed as an economical way to monitor the quality of stout, there was a fear that it could be used by Guinnesses competitors so the work was published under the pseudonym \"Student\"[Wikipedia - Student's t-test](https://en.wikipedia.org/wiki/Student%27s_t-test).\n",
    "\n",
    "There will be only one comparison made here: MEDV for CHAS = 0 and MEDV for CHAS = 1. As there is only one comparison to be made an ANOVA isn't necessary in this case and a t-test will be sufficient.\n",
    "\n",
    "We need to decide if a dependent or an independent t-test should be used. A dependent samples t-test is used when each entry is present in both samples. [Step by Step Solutions: T-tests: Paired/Dependent and Independent- RPubs](https://rpubs.com/raquelsbf/t-tests). As the towns that tract the Charles River are different to the towns that don't, then an independent Student t-test should be used here.\n",
    "\n",
    "For an independent Student t-test the samples should be of equal size and have the same variance. [Wikipedia- Student's t-test](https://en.wikipedia.org/wiki/Student%27s_t-test#Independent_two-sample_t-test). In this case, as can be seen from below, the sample sizes are unequal with 471 and 35, and variances of 78.0 and 140.0, for those not along the Charles river and those along it respectively. Therefore, in this case a Student t-test is not appropriate."
   ]
  },
  {
   "cell_type": "code",
   "execution_count": 8,
   "metadata": {},
   "outputs": [
    {
     "data": {
      "text/plain": [
       "CHAS\n",
       "0    471\n",
       "1     35\n",
       "Name: MEDV, dtype: int64"
      ]
     },
     "execution_count": 8,
     "metadata": {},
     "output_type": "execute_result"
    }
   ],
   "source": [
    "# Determining the count for both groups\n",
    "df[\"MEDV\"].groupby(df[\"CHAS\"]).count()"
   ]
  },
  {
   "cell_type": "code",
   "execution_count": 9,
   "metadata": {},
   "outputs": [
    {
     "data": {
      "text/plain": [
       "CHAS\n",
       "0     77.992962\n",
       "1    139.633059\n",
       "Name: MEDV, dtype: float64"
      ]
     },
     "execution_count": 9,
     "metadata": {},
     "output_type": "execute_result"
    }
   ],
   "source": [
    "# Determining the variance for both groups\n",
    "df[\"MEDV\"].groupby(df[\"CHAS\"]).var()"
   ]
  },
  {
   "cell_type": "code",
   "execution_count": 10,
   "metadata": {},
   "outputs": [
    {
     "data": {
      "text/plain": [
       "CHAS\n",
       "0     8.831362\n",
       "1    11.816643\n",
       "Name: MEDV, dtype: float64"
      ]
     },
     "execution_count": 10,
     "metadata": {},
     "output_type": "execute_result"
    }
   ],
   "source": [
    "# Determining the standard deviation for both groups\n",
    "df[\"MEDV\"].groupby(df[\"CHAS\"]).std()"
   ]
  },
  {
   "cell_type": "markdown",
   "metadata": {},
   "source": [
    "#### Welch's t-test\n",
    "\n",
    "Benard Lewis Welch developed an adaption of the Student t-test. Welch's t-test can be used in place of the Student t-test where the variance and/or sample sizes differ. [Wikipedia - Welch's t-test](https://en.wikipedia.org/wiki/Welch%27s_t-test).\n",
    "\n",
    "A requirement for both the Student t-test and the Welch t-test is that the distributions must be normal. [Wikipedia - Welch's t-test](https://en.wikipedia.org/wiki/Welch%27s_t-test). However, as seen below, the distributions are not normal and therefore a Welch's t-test is not appropriate here either."
   ]
  },
  {
   "cell_type": "code",
   "execution_count": 11,
   "metadata": {},
   "outputs": [
    {
     "name": "stderr",
     "output_type": "stream",
     "text": [
      "C:\\ProgramData\\Anaconda3\\lib\\site-packages\\scipy\\stats\\stats.py:1713: FutureWarning: Using a non-tuple sequence for multidimensional indexing is deprecated; use `arr[tuple(seq)]` instead of `arr[seq]`. In the future this will be interpreted as an array index, `arr[np.array(seq)]`, which will result either in an error or a different result.\n",
      "  return np.add.reduce(sorted[indexer] * weights, axis=axis) / sumval\n"
     ]
    },
    {
     "data": {
      "text/plain": [
       "<function matplotlib.pyplot.show(*args, **kw)>"
      ]
     },
     "execution_count": 11,
     "metadata": {},
     "output_type": "execute_result"
    },
    {
     "data": {
      "image/png": "[encoded data removed]",
      "text/plain": [
       "<Figure size 432x288 with 1 Axes>"
      ]
     },
     "metadata": {
      "needs_background": "light"
     },
     "output_type": "display_data"
    }
   ],
   "source": [
    "# Importing seaborn to create distplots\n",
    "import seaborn as sns\n",
    "\n",
    "# Creating distplots \n",
    "sns.distplot(df[\"MEDV\"][df[\"CHAS\"] == 0], label=\"Not Along Charles River\")\n",
    "sns.distplot(df[\"MEDV\"][df[\"CHAS\"] == 1], label=\"Along Charles River\")\n",
    "\n",
    "# Plotting legends\n",
    "plt.legend()\n",
    "\n",
    "# Showing the plot\n",
    "plt.show"
   ]
  },
  {
   "cell_type": "markdown",
   "metadata": {},
   "source": [
    "From the above it looks like they may be normally distributed, except for the large number of entries for a MEDV of 50. The values above 50 may have been capped. [Towards Data Science - Linear Regression on Boston Housing Dataset](https://towardsdatascience.com/linear-regression-on-boston-housing-dataset-f409b7e4a155). The census from which the dataset is composed has values above 50 recorded as 50+ so this may be so. We can use the [Shapiro-Wilk test](https://docs.scipy.org/doc/scipy-0.19.1/reference/generated/scipy.stats.shapiro.html) for normality which is provided by the [SciPy package](https://docs.scipy.org/doc/), to test if these are normally distributed."
   ]
  },
  {
   "cell_type": "code",
   "execution_count": 12,
   "metadata": {},
   "outputs": [
    {
     "data": {
      "text/plain": [
       "0.00011230883683310822"
      ]
     },
     "execution_count": 12,
     "metadata": {},
     "output_type": "execute_result"
    }
   ],
   "source": [
    "# Importing stats module from scipy\n",
    "from scipy import stats\n",
    "\n",
    "# Selecting the Median Value of houses along the Charles River\n",
    "alongCharlesRiver = df[\"MEDV\"][df[\"CHAS\"] == 1]\n",
    "\n",
    "# Determining if the distribution for tracts along Charles River are normal\n",
    "testStat, pValue = stats.shapiro(df[\"MEDV\"][df[\"CHAS\"] == 1])\n",
    "\n",
    "pValue"
   ]
  },
  {
   "cell_type": "code",
   "execution_count": 13,
   "metadata": {},
   "outputs": [
    {
     "data": {
      "text/plain": [
       "3.113930960958397e-14"
      ]
     },
     "execution_count": 13,
     "metadata": {},
     "output_type": "execute_result"
    }
   ],
   "source": [
    "# Selecting the Median Value of houses not along the Charles River\n",
    "notAlongCharlesRiver = df[\"MEDV\"][df[\"CHAS\"] == 0]\n",
    "\n",
    "# Determining if the distribution for tracts not along the Charles River are normal\n",
    "testStat, pValue = stats.shapiro(notAlongCharlesRiver)\n",
    "\n",
    "pValue"
   ]
  },
  {
   "cell_type": "markdown",
   "metadata": {},
   "source": [
    "The p-values above for both along and not along the Charles River are below 0.05, so we can reject the null hypothesis that the data is normally distributed. As these values may be affected by the MEDV 50.0 value. We can try to run the shapiro test again on the two subsets without the MEDV 50.0 value. As can be seen below, for those along the Charles River the p-value of 0.029 is still below 0.05 and therefore we again can reject the null hypothesis that the data is normally distributed."
   ]
  },
  {
   "cell_type": "code",
   "execution_count": 14,
   "metadata": {},
   "outputs": [
    {
     "data": {
      "text/plain": [
       "0.028505902737379074"
      ]
     },
     "execution_count": 14,
     "metadata": {},
     "output_type": "execute_result"
    }
   ],
   "source": [
    "testStat, pValue = stats.shapiro(alongCharlesRiver[df[\"MEDV\"] != 50.0])\n",
    "\n",
    "pValue"
   ]
  },
  {
   "cell_type": "code",
   "execution_count": 15,
   "metadata": {},
   "outputs": [
    {
     "data": {
      "text/plain": [
       "5.540209957466402e-10"
      ]
     },
     "execution_count": 15,
     "metadata": {},
     "output_type": "execute_result"
    }
   ],
   "source": [
    "testStat, pValue = stats.shapiro(notAlongCharlesRiver[df[\"MEDV\"] != 50.0])\n",
    "\n",
    "pValue"
   ]
  },
  {
   "cell_type": "markdown",
   "metadata": {},
   "source": [
    "#### Mann-Whitney U test\n",
    "As the data is not normally distributed a non-parametric test should be used. [University of Minnesota-Types of Statistical Test](https://cyfar.org/types-statistical-tests). The Mann-Whitney U test (or Wilcoxon rank-sum test) can be used for non-para-metric data to test for the difference between two independent variables.[University of Minnesota-Types of Statistical Test](https://cyfar.org/types-statistical-tests)\n",
    "\n",
    "Although the Student t-test and Welch t-test aren't appropriate here, I've included them below to show how the values between these tests can vary."
   ]
  },
  {
   "cell_type": "markdown",
   "metadata": {},
   "source": [
    "### Student t-test\n",
    "\n",
    "The p-value for the Student t-test is less than 0.05 and we can therefore reject the null hypothesis as there is a significant difference between the means"
   ]
  },
  {
   "cell_type": "code",
   "execution_count": 16,
   "metadata": {},
   "outputs": [
    {
     "data": {
      "text/plain": [
       "7.390623170519905e-05"
      ]
     },
     "execution_count": 16,
     "metadata": {},
     "output_type": "execute_result"
    }
   ],
   "source": [
    "# Code for Student t-test\n",
    "from scipy.stats import ttest_ind as tti\n",
    "\n",
    "stti_stat, stti_p = tti(df[\"MEDV\"][df[\"CHAS\"] == 0], df[\"MEDV\"][df[\"CHAS\"] == 1], equal_var=True)\n",
    "\n",
    "stti_p"
   ]
  },
  {
   "cell_type": "markdown",
   "metadata": {},
   "source": [
    "### Welch t-test\n",
    "\n",
    "The p-value for the Welch t-test is less than 0.05 and we can therefore reject the null hypothesis as there is a significant difference between the means"
   ]
  },
  {
   "cell_type": "code",
   "execution_count": 17,
   "metadata": {},
   "outputs": [
    {
     "data": {
      "text/plain": [
       "0.003567170098137517"
      ]
     },
     "execution_count": 17,
     "metadata": {},
     "output_type": "execute_result"
    }
   ],
   "source": [
    "# Code for Welch t-test\n",
    "\n",
    "from scipy.stats import ttest_ind as tti\n",
    "\n",
    "wtti_stat, wtti_p = tti(df[\"MEDV\"][df[\"CHAS\"] == 0], df[\"MEDV\"][df[\"CHAS\"] == 1], equal_var=False)\n",
    "\n",
    "wtti_p"
   ]
  },
  {
   "cell_type": "markdown",
   "metadata": {},
   "source": [
    "### Mann-Whitney U test \n",
    "\n",
    "The p-value for the Mann-Whitney U test is less than 0.05 and we can therefore reject the null hypothesis as there is a significant difference between the means"
   ]
  },
  {
   "cell_type": "code",
   "execution_count": 18,
   "metadata": {},
   "outputs": [
    {
     "data": {
      "text/plain": [
       "MannwhitneyuResult(statistic=5605.5, pvalue=0.0007908352505647487)"
      ]
     },
     "execution_count": 18,
     "metadata": {},
     "output_type": "execute_result"
    }
   ],
   "source": [
    "# Code for Mann-Whitney U test\n",
    "from scipy.stats import mannwhitneyu as mwu\n",
    "\n",
    "mwu(df[\"MEDV\"][df[\"CHAS\"] == 0], df[\"MEDV\"][df[\"CHAS\"] == 1])"
   ]
  },
  {
   "cell_type": "markdown",
   "metadata": {},
   "source": [
    "## Predicting the Median Value of Owner-Occupied Homes\n",
    "This is a regression predictive modeling problem. Regression predictive modeling problems involve predicting a real-valued quantity [machinelearningmastery - How to Choose Loss Functions When Training Deep Learning Neural Networks](https://machinelearningmastery.com/how-to-choose-loss-functions-when-training-deep-learning-neural-networks/)\n",
    "\n",
    "Here we will try to predict the median value of owner-occupied homes by providing the values to the remaining attributes of the dataset to a neural network developed using the [Keras](https://keras.io/) package. Keras is an open-source neural network package which can run on top of TensorFlow as well as other packages. [Wikipedia - Keras](https://en.wikipedia.org/wiki/Keras)\n",
    "\n",
    "![Neuron](https://upload.wikimedia.org/wikipedia/commons/4/44/Neuron3.png \"Neuron\")\n",
    "\n",
    "Neural networks are alorgithms that are modelled on the human brain[Skymind - A Beginner's Guide to Neural Networks and Deep Learning](https://skymind.ai/wiki/neural-network). The human brain is composed of neurons which can recieve inputs via dendrites and can output signals via axon terminals.[Wikipedia - Artificial neural network](https://en.wikipedia.org/wiki/Artificial_neural_network) Neural networks, when given a dataset to train on, can make predictions about that dataset. [Skymind - A Beginner's Guide to Neural Networks and Deep Learning](https://skymind.ai/wiki/neural-network). In this example, we will train the neural network with the training dataset, then we will provide the test inputs and make predictions about what the outputs will be. We can then compare the predicted outputs against the test outputs. We can determine how much each predicted output varys from the test output by squaring the difference between these and then getting the mean of those values. That will give us the Mean Squared Error (MSE). The Root Mean Squared Error (RMSE) can then be got by getting the square root of the MSE. The performance of the neural network will be measured by the RMSE, with a small RMSE meaning that it is performing well.\n",
    "\n",
    "![Neural Network](https://upload.wikimedia.org/wikipedia/commons/thumb/4/46/Colored_neural_network.svg/296px-Colored_neural_network.svg.png \"Neural Network\")\n",
    "\n"
   ]
  },
  {
   "cell_type": "markdown",
   "metadata": {},
   "source": [
    "### Preparing the data for the neural network"
   ]
  },
  {
   "cell_type": "markdown",
   "metadata": {},
   "source": [
    "Creating separate columns for true and false values for CHAS"
   ]
  },
  {
   "cell_type": "code",
   "execution_count": 19,
   "metadata": {},
   "outputs": [],
   "source": [
    "# Adapted from course materials\n",
    "# Importing numpy package\n",
    "import numpy as np\n",
    "\n",
    "# Creating true and false attributes for CHAS variable\n",
    "df[\"CHAS_True\"] = df[\"CHAS\"]\n",
    "df[\"CHAS_False\"] = (df[\"CHAS\"] == 0).astype(np.int)"
   ]
  },
  {
   "cell_type": "markdown",
   "metadata": {},
   "source": [
    "Separating the data into the independent variables and the target variable 'MEDV'. Dropping the 'CHAS' variable from the input as this is included in the 'CHAS_True' and 'CHAS_False' variables created above"
   ]
  },
  {
   "cell_type": "code",
   "execution_count": 20,
   "metadata": {},
   "outputs": [
    {
     "data": {
      "text/html": [
       "<div>\n",
       "<style scoped>\n",
       "    .dataframe tbody tr th:only-of-type {\n",
       "        vertical-align: middle;\n",
       "    }\n",
       "\n",
       "    .dataframe tbody tr th {\n",
       "        vertical-align: top;\n",
       "    }\n",
       "\n",
       "    .dataframe thead th {\n",
       "        text-align: right;\n",
       "    }\n",
       "</style>\n",
       "<table border=\"1\" class=\"dataframe\">\n",
       "  <thead>\n",
       "    <tr style=\"text-align: right;\">\n",
       "      <th></th>\n",
       "      <th>CRIM</th>\n",
       "      <th>ZN</th>\n",
       "      <th>INDUS</th>\n",
       "      <th>CHAS</th>\n",
       "      <th>NOX</th>\n",
       "      <th>RM</th>\n",
       "      <th>AGE</th>\n",
       "      <th>DIS</th>\n",
       "      <th>RAD</th>\n",
       "      <th>TAX</th>\n",
       "      <th>PTRATIO</th>\n",
       "      <th>B</th>\n",
       "      <th>LSTAT</th>\n",
       "      <th>MEDV</th>\n",
       "      <th>CHAS_True</th>\n",
       "      <th>CHAS_False</th>\n",
       "    </tr>\n",
       "  </thead>\n",
       "  <tbody>\n",
       "    <tr>\n",
       "      <td>0</td>\n",
       "      <td>0.00632</td>\n",
       "      <td>18.0</td>\n",
       "      <td>2.31</td>\n",
       "      <td>0</td>\n",
       "      <td>0.538</td>\n",
       "      <td>6.575</td>\n",
       "      <td>65.2</td>\n",
       "      <td>4.0900</td>\n",
       "      <td>1</td>\n",
       "      <td>296.0</td>\n",
       "      <td>15.3</td>\n",
       "      <td>396.90</td>\n",
       "      <td>4.98</td>\n",
       "      <td>24.0</td>\n",
       "      <td>0</td>\n",
       "      <td>1</td>\n",
       "    </tr>\n",
       "    <tr>\n",
       "      <td>1</td>\n",
       "      <td>0.02731</td>\n",
       "      <td>0.0</td>\n",
       "      <td>7.07</td>\n",
       "      <td>0</td>\n",
       "      <td>0.469</td>\n",
       "      <td>6.421</td>\n",
       "      <td>78.9</td>\n",
       "      <td>4.9671</td>\n",
       "      <td>2</td>\n",
       "      <td>242.0</td>\n",
       "      <td>17.8</td>\n",
       "      <td>396.90</td>\n",
       "      <td>9.14</td>\n",
       "      <td>21.6</td>\n",
       "      <td>0</td>\n",
       "      <td>1</td>\n",
       "    </tr>\n",
       "    <tr>\n",
       "      <td>2</td>\n",
       "      <td>0.02729</td>\n",
       "      <td>0.0</td>\n",
       "      <td>7.07</td>\n",
       "      <td>0</td>\n",
       "      <td>0.469</td>\n",
       "      <td>7.185</td>\n",
       "      <td>61.1</td>\n",
       "      <td>4.9671</td>\n",
       "      <td>2</td>\n",
       "      <td>242.0</td>\n",
       "      <td>17.8</td>\n",
       "      <td>392.83</td>\n",
       "      <td>4.03</td>\n",
       "      <td>34.7</td>\n",
       "      <td>0</td>\n",
       "      <td>1</td>\n",
       "    </tr>\n",
       "    <tr>\n",
       "      <td>3</td>\n",
       "      <td>0.03237</td>\n",
       "      <td>0.0</td>\n",
       "      <td>2.18</td>\n",
       "      <td>0</td>\n",
       "      <td>0.458</td>\n",
       "      <td>6.998</td>\n",
       "      <td>45.8</td>\n",
       "      <td>6.0622</td>\n",
       "      <td>3</td>\n",
       "      <td>222.0</td>\n",
       "      <td>18.7</td>\n",
       "      <td>394.63</td>\n",
       "      <td>2.94</td>\n",
       "      <td>33.4</td>\n",
       "      <td>0</td>\n",
       "      <td>1</td>\n",
       "    </tr>\n",
       "    <tr>\n",
       "      <td>4</td>\n",
       "      <td>0.06905</td>\n",
       "      <td>0.0</td>\n",
       "      <td>2.18</td>\n",
       "      <td>0</td>\n",
       "      <td>0.458</td>\n",
       "      <td>7.147</td>\n",
       "      <td>54.2</td>\n",
       "      <td>6.0622</td>\n",
       "      <td>3</td>\n",
       "      <td>222.0</td>\n",
       "      <td>18.7</td>\n",
       "      <td>396.90</td>\n",
       "      <td>5.33</td>\n",
       "      <td>36.2</td>\n",
       "      <td>0</td>\n",
       "      <td>1</td>\n",
       "    </tr>\n",
       "    <tr>\n",
       "      <td>...</td>\n",
       "      <td>...</td>\n",
       "      <td>...</td>\n",
       "      <td>...</td>\n",
       "      <td>...</td>\n",
       "      <td>...</td>\n",
       "      <td>...</td>\n",
       "      <td>...</td>\n",
       "      <td>...</td>\n",
       "      <td>...</td>\n",
       "      <td>...</td>\n",
       "      <td>...</td>\n",
       "      <td>...</td>\n",
       "      <td>...</td>\n",
       "      <td>...</td>\n",
       "      <td>...</td>\n",
       "      <td>...</td>\n",
       "    </tr>\n",
       "    <tr>\n",
       "      <td>501</td>\n",
       "      <td>0.06263</td>\n",
       "      <td>0.0</td>\n",
       "      <td>11.93</td>\n",
       "      <td>0</td>\n",
       "      <td>0.573</td>\n",
       "      <td>6.593</td>\n",
       "      <td>69.1</td>\n",
       "      <td>2.4786</td>\n",
       "      <td>1</td>\n",
       "      <td>273.0</td>\n",
       "      <td>21.0</td>\n",
       "      <td>391.99</td>\n",
       "      <td>9.67</td>\n",
       "      <td>22.4</td>\n",
       "      <td>0</td>\n",
       "      <td>1</td>\n",
       "    </tr>\n",
       "    <tr>\n",
       "      <td>502</td>\n",
       "      <td>0.04527</td>\n",
       "      <td>0.0</td>\n",
       "      <td>11.93</td>\n",
       "      <td>0</td>\n",
       "      <td>0.573</td>\n",
       "      <td>6.120</td>\n",
       "      <td>76.7</td>\n",
       "      <td>2.2875</td>\n",
       "      <td>1</td>\n",
       "      <td>273.0</td>\n",
       "      <td>21.0</td>\n",
       "      <td>396.90</td>\n",
       "      <td>9.08</td>\n",
       "      <td>20.6</td>\n",
       "      <td>0</td>\n",
       "      <td>1</td>\n",
       "    </tr>\n",
       "    <tr>\n",
       "      <td>503</td>\n",
       "      <td>0.06076</td>\n",
       "      <td>0.0</td>\n",
       "      <td>11.93</td>\n",
       "      <td>0</td>\n",
       "      <td>0.573</td>\n",
       "      <td>6.976</td>\n",
       "      <td>91.0</td>\n",
       "      <td>2.1675</td>\n",
       "      <td>1</td>\n",
       "      <td>273.0</td>\n",
       "      <td>21.0</td>\n",
       "      <td>396.90</td>\n",
       "      <td>5.64</td>\n",
       "      <td>23.9</td>\n",
       "      <td>0</td>\n",
       "      <td>1</td>\n",
       "    </tr>\n",
       "    <tr>\n",
       "      <td>504</td>\n",
       "      <td>0.10959</td>\n",
       "      <td>0.0</td>\n",
       "      <td>11.93</td>\n",
       "      <td>0</td>\n",
       "      <td>0.573</td>\n",
       "      <td>6.794</td>\n",
       "      <td>89.3</td>\n",
       "      <td>2.3889</td>\n",
       "      <td>1</td>\n",
       "      <td>273.0</td>\n",
       "      <td>21.0</td>\n",
       "      <td>393.45</td>\n",
       "      <td>6.48</td>\n",
       "      <td>22.0</td>\n",
       "      <td>0</td>\n",
       "      <td>1</td>\n",
       "    </tr>\n",
       "    <tr>\n",
       "      <td>505</td>\n",
       "      <td>0.04741</td>\n",
       "      <td>0.0</td>\n",
       "      <td>11.93</td>\n",
       "      <td>0</td>\n",
       "      <td>0.573</td>\n",
       "      <td>6.030</td>\n",
       "      <td>80.8</td>\n",
       "      <td>2.5050</td>\n",
       "      <td>1</td>\n",
       "      <td>273.0</td>\n",
       "      <td>21.0</td>\n",
       "      <td>396.90</td>\n",
       "      <td>7.88</td>\n",
       "      <td>11.9</td>\n",
       "      <td>0</td>\n",
       "      <td>1</td>\n",
       "    </tr>\n",
       "  </tbody>\n",
       "</table>\n",
       "<p>506 rows × 16 columns</p>\n",
       "</div>"
      ],
      "text/plain": [
       "        CRIM    ZN  INDUS  CHAS    NOX     RM   AGE     DIS  RAD    TAX  \\\n",
       "0    0.00632  18.0   2.31     0  0.538  6.575  65.2  4.0900    1  296.0   \n",
       "1    0.02731   0.0   7.07     0  0.469  6.421  78.9  4.9671    2  242.0   \n",
       "2    0.02729   0.0   7.07     0  0.469  7.185  61.1  4.9671    2  242.0   \n",
       "3    0.03237   0.0   2.18     0  0.458  6.998  45.8  6.0622    3  222.0   \n",
       "4    0.06905   0.0   2.18     0  0.458  7.147  54.2  6.0622    3  222.0   \n",
       "..       ...   ...    ...   ...    ...    ...   ...     ...  ...    ...   \n",
       "501  0.06263   0.0  11.93     0  0.573  6.593  69.1  2.4786    1  273.0   \n",
       "502  0.04527   0.0  11.93     0  0.573  6.120  76.7  2.2875    1  273.0   \n",
       "503  0.06076   0.0  11.93     0  0.573  6.976  91.0  2.1675    1  273.0   \n",
       "504  0.10959   0.0  11.93     0  0.573  6.794  89.3  2.3889    1  273.0   \n",
       "505  0.04741   0.0  11.93     0  0.573  6.030  80.8  2.5050    1  273.0   \n",
       "\n",
       "     PTRATIO       B  LSTAT  MEDV  CHAS_True  CHAS_False  \n",
       "0       15.3  396.90   4.98  24.0          0           1  \n",
       "1       17.8  396.90   9.14  21.6          0           1  \n",
       "2       17.8  392.83   4.03  34.7          0           1  \n",
       "3       18.7  394.63   2.94  33.4          0           1  \n",
       "4       18.7  396.90   5.33  36.2          0           1  \n",
       "..       ...     ...    ...   ...        ...         ...  \n",
       "501     21.0  391.99   9.67  22.4          0           1  \n",
       "502     21.0  396.90   9.08  20.6          0           1  \n",
       "503     21.0  396.90   5.64  23.9          0           1  \n",
       "504     21.0  393.45   6.48  22.0          0           1  \n",
       "505     21.0  396.90   7.88  11.9          0           1  \n",
       "\n",
       "[506 rows x 16 columns]"
      ]
     },
     "execution_count": 20,
     "metadata": {},
     "output_type": "execute_result"
    }
   ],
   "source": [
    "df"
   ]
  },
  {
   "cell_type": "code",
   "execution_count": 21,
   "metadata": {},
   "outputs": [],
   "source": [
    "# Input/independent variables\n",
    "X = df.drop(columns=[\"MEDV\", \"CHAS\"])\n",
    "\n",
    "# Output/dependent variable\n",
    "y = df[\"MEDV\"]"
   ]
  },
  {
   "cell_type": "code",
   "execution_count": 22,
   "metadata": {},
   "outputs": [
    {
     "data": {
      "text/html": [
       "<div>\n",
       "<style scoped>\n",
       "    .dataframe tbody tr th:only-of-type {\n",
       "        vertical-align: middle;\n",
       "    }\n",
       "\n",
       "    .dataframe tbody tr th {\n",
       "        vertical-align: top;\n",
       "    }\n",
       "\n",
       "    .dataframe thead th {\n",
       "        text-align: right;\n",
       "    }\n",
       "</style>\n",
       "<table border=\"1\" class=\"dataframe\">\n",
       "  <thead>\n",
       "    <tr style=\"text-align: right;\">\n",
       "      <th></th>\n",
       "      <th>CRIM</th>\n",
       "      <th>ZN</th>\n",
       "      <th>INDUS</th>\n",
       "      <th>NOX</th>\n",
       "      <th>RM</th>\n",
       "      <th>AGE</th>\n",
       "      <th>DIS</th>\n",
       "      <th>RAD</th>\n",
       "      <th>TAX</th>\n",
       "      <th>PTRATIO</th>\n",
       "      <th>B</th>\n",
       "      <th>LSTAT</th>\n",
       "      <th>CHAS_True</th>\n",
       "      <th>CHAS_False</th>\n",
       "    </tr>\n",
       "  </thead>\n",
       "  <tbody>\n",
       "    <tr>\n",
       "      <td>0</td>\n",
       "      <td>0.00632</td>\n",
       "      <td>18.0</td>\n",
       "      <td>2.31</td>\n",
       "      <td>0.538</td>\n",
       "      <td>6.575</td>\n",
       "      <td>65.2</td>\n",
       "      <td>4.0900</td>\n",
       "      <td>1</td>\n",
       "      <td>296.0</td>\n",
       "      <td>15.3</td>\n",
       "      <td>396.90</td>\n",
       "      <td>4.98</td>\n",
       "      <td>0</td>\n",
       "      <td>1</td>\n",
       "    </tr>\n",
       "    <tr>\n",
       "      <td>1</td>\n",
       "      <td>0.02731</td>\n",
       "      <td>0.0</td>\n",
       "      <td>7.07</td>\n",
       "      <td>0.469</td>\n",
       "      <td>6.421</td>\n",
       "      <td>78.9</td>\n",
       "      <td>4.9671</td>\n",
       "      <td>2</td>\n",
       "      <td>242.0</td>\n",
       "      <td>17.8</td>\n",
       "      <td>396.90</td>\n",
       "      <td>9.14</td>\n",
       "      <td>0</td>\n",
       "      <td>1</td>\n",
       "    </tr>\n",
       "    <tr>\n",
       "      <td>2</td>\n",
       "      <td>0.02729</td>\n",
       "      <td>0.0</td>\n",
       "      <td>7.07</td>\n",
       "      <td>0.469</td>\n",
       "      <td>7.185</td>\n",
       "      <td>61.1</td>\n",
       "      <td>4.9671</td>\n",
       "      <td>2</td>\n",
       "      <td>242.0</td>\n",
       "      <td>17.8</td>\n",
       "      <td>392.83</td>\n",
       "      <td>4.03</td>\n",
       "      <td>0</td>\n",
       "      <td>1</td>\n",
       "    </tr>\n",
       "    <tr>\n",
       "      <td>3</td>\n",
       "      <td>0.03237</td>\n",
       "      <td>0.0</td>\n",
       "      <td>2.18</td>\n",
       "      <td>0.458</td>\n",
       "      <td>6.998</td>\n",
       "      <td>45.8</td>\n",
       "      <td>6.0622</td>\n",
       "      <td>3</td>\n",
       "      <td>222.0</td>\n",
       "      <td>18.7</td>\n",
       "      <td>394.63</td>\n",
       "      <td>2.94</td>\n",
       "      <td>0</td>\n",
       "      <td>1</td>\n",
       "    </tr>\n",
       "    <tr>\n",
       "      <td>4</td>\n",
       "      <td>0.06905</td>\n",
       "      <td>0.0</td>\n",
       "      <td>2.18</td>\n",
       "      <td>0.458</td>\n",
       "      <td>7.147</td>\n",
       "      <td>54.2</td>\n",
       "      <td>6.0622</td>\n",
       "      <td>3</td>\n",
       "      <td>222.0</td>\n",
       "      <td>18.7</td>\n",
       "      <td>396.90</td>\n",
       "      <td>5.33</td>\n",
       "      <td>0</td>\n",
       "      <td>1</td>\n",
       "    </tr>\n",
       "  </tbody>\n",
       "</table>\n",
       "</div>"
      ],
      "text/plain": [
       "      CRIM    ZN  INDUS    NOX     RM   AGE     DIS  RAD    TAX  PTRATIO  \\\n",
       "0  0.00632  18.0   2.31  0.538  6.575  65.2  4.0900    1  296.0     15.3   \n",
       "1  0.02731   0.0   7.07  0.469  6.421  78.9  4.9671    2  242.0     17.8   \n",
       "2  0.02729   0.0   7.07  0.469  7.185  61.1  4.9671    2  242.0     17.8   \n",
       "3  0.03237   0.0   2.18  0.458  6.998  45.8  6.0622    3  222.0     18.7   \n",
       "4  0.06905   0.0   2.18  0.458  7.147  54.2  6.0622    3  222.0     18.7   \n",
       "\n",
       "        B  LSTAT  CHAS_True  CHAS_False  \n",
       "0  396.90   4.98          0           1  \n",
       "1  396.90   9.14          0           1  \n",
       "2  392.83   4.03          0           1  \n",
       "3  394.63   2.94          0           1  \n",
       "4  396.90   5.33          0           1  "
      ]
     },
     "execution_count": 22,
     "metadata": {},
     "output_type": "execute_result"
    }
   ],
   "source": [
    "X.head()"
   ]
  },
  {
   "cell_type": "code",
   "execution_count": 23,
   "metadata": {},
   "outputs": [
    {
     "data": {
      "text/plain": [
       "0    24.0\n",
       "1    21.6\n",
       "2    34.7\n",
       "3    33.4\n",
       "4    36.2\n",
       "Name: MEDV, dtype: float64"
      ]
     },
     "execution_count": 23,
     "metadata": {},
     "output_type": "execute_result"
    }
   ],
   "source": [
    "y.head()"
   ]
  },
  {
   "cell_type": "markdown",
   "metadata": {},
   "source": [
    "#### Splitting datasets into random train and test subsets\n",
    "\n",
    "Setting the test size to 33% of the dataset"
   ]
  },
  {
   "cell_type": "code",
   "execution_count": 24,
   "metadata": {},
   "outputs": [],
   "source": [
    "# Importing train test split from sklearn\n",
    "from sklearn.model_selection import train_test_split\n",
    "\n",
    "# Splitting the output and input datasets into train and test subsets\n",
    "X_train, X_test, y_train, y_test = train_test_split(X, y, test_size=0.33)"
   ]
  },
  {
   "cell_type": "code",
   "execution_count": 25,
   "metadata": {},
   "outputs": [
    {
     "data": {
      "text/html": [
       "<div>\n",
       "<style scoped>\n",
       "    .dataframe tbody tr th:only-of-type {\n",
       "        vertical-align: middle;\n",
       "    }\n",
       "\n",
       "    .dataframe tbody tr th {\n",
       "        vertical-align: top;\n",
       "    }\n",
       "\n",
       "    .dataframe thead th {\n",
       "        text-align: right;\n",
       "    }\n",
       "</style>\n",
       "<table border=\"1\" class=\"dataframe\">\n",
       "  <thead>\n",
       "    <tr style=\"text-align: right;\">\n",
       "      <th></th>\n",
       "      <th>CRIM</th>\n",
       "      <th>ZN</th>\n",
       "      <th>INDUS</th>\n",
       "      <th>NOX</th>\n",
       "      <th>RM</th>\n",
       "      <th>AGE</th>\n",
       "      <th>DIS</th>\n",
       "      <th>RAD</th>\n",
       "      <th>TAX</th>\n",
       "      <th>PTRATIO</th>\n",
       "      <th>B</th>\n",
       "      <th>LSTAT</th>\n",
       "      <th>CHAS_True</th>\n",
       "      <th>CHAS_False</th>\n",
       "    </tr>\n",
       "  </thead>\n",
       "  <tbody>\n",
       "    <tr>\n",
       "      <td>173</td>\n",
       "      <td>0.09178</td>\n",
       "      <td>0.0</td>\n",
       "      <td>4.05</td>\n",
       "      <td>0.510</td>\n",
       "      <td>6.416</td>\n",
       "      <td>84.1</td>\n",
       "      <td>2.6463</td>\n",
       "      <td>5</td>\n",
       "      <td>296.0</td>\n",
       "      <td>16.6</td>\n",
       "      <td>395.50</td>\n",
       "      <td>9.04</td>\n",
       "      <td>0</td>\n",
       "      <td>1</td>\n",
       "    </tr>\n",
       "    <tr>\n",
       "      <td>51</td>\n",
       "      <td>0.04337</td>\n",
       "      <td>21.0</td>\n",
       "      <td>5.64</td>\n",
       "      <td>0.439</td>\n",
       "      <td>6.115</td>\n",
       "      <td>63.0</td>\n",
       "      <td>6.8147</td>\n",
       "      <td>4</td>\n",
       "      <td>243.0</td>\n",
       "      <td>16.8</td>\n",
       "      <td>393.97</td>\n",
       "      <td>9.43</td>\n",
       "      <td>0</td>\n",
       "      <td>1</td>\n",
       "    </tr>\n",
       "    <tr>\n",
       "      <td>21</td>\n",
       "      <td>0.85204</td>\n",
       "      <td>0.0</td>\n",
       "      <td>8.14</td>\n",
       "      <td>0.538</td>\n",
       "      <td>5.965</td>\n",
       "      <td>89.2</td>\n",
       "      <td>4.0123</td>\n",
       "      <td>4</td>\n",
       "      <td>307.0</td>\n",
       "      <td>21.0</td>\n",
       "      <td>392.53</td>\n",
       "      <td>13.83</td>\n",
       "      <td>0</td>\n",
       "      <td>1</td>\n",
       "    </tr>\n",
       "    <tr>\n",
       "      <td>486</td>\n",
       "      <td>5.69175</td>\n",
       "      <td>0.0</td>\n",
       "      <td>18.10</td>\n",
       "      <td>0.583</td>\n",
       "      <td>6.114</td>\n",
       "      <td>79.8</td>\n",
       "      <td>3.5459</td>\n",
       "      <td>24</td>\n",
       "      <td>666.0</td>\n",
       "      <td>20.2</td>\n",
       "      <td>392.68</td>\n",
       "      <td>14.98</td>\n",
       "      <td>0</td>\n",
       "      <td>1</td>\n",
       "    </tr>\n",
       "    <tr>\n",
       "      <td>364</td>\n",
       "      <td>3.47428</td>\n",
       "      <td>0.0</td>\n",
       "      <td>18.10</td>\n",
       "      <td>0.718</td>\n",
       "      <td>8.780</td>\n",
       "      <td>82.9</td>\n",
       "      <td>1.9047</td>\n",
       "      <td>24</td>\n",
       "      <td>666.0</td>\n",
       "      <td>20.2</td>\n",
       "      <td>354.55</td>\n",
       "      <td>5.29</td>\n",
       "      <td>1</td>\n",
       "      <td>0</td>\n",
       "    </tr>\n",
       "  </tbody>\n",
       "</table>\n",
       "</div>"
      ],
      "text/plain": [
       "        CRIM    ZN  INDUS    NOX     RM   AGE     DIS  RAD    TAX  PTRATIO  \\\n",
       "173  0.09178   0.0   4.05  0.510  6.416  84.1  2.6463    5  296.0     16.6   \n",
       "51   0.04337  21.0   5.64  0.439  6.115  63.0  6.8147    4  243.0     16.8   \n",
       "21   0.85204   0.0   8.14  0.538  5.965  89.2  4.0123    4  307.0     21.0   \n",
       "486  5.69175   0.0  18.10  0.583  6.114  79.8  3.5459   24  666.0     20.2   \n",
       "364  3.47428   0.0  18.10  0.718  8.780  82.9  1.9047   24  666.0     20.2   \n",
       "\n",
       "          B  LSTAT  CHAS_True  CHAS_False  \n",
       "173  395.50   9.04          0           1  \n",
       "51   393.97   9.43          0           1  \n",
       "21   392.53  13.83          0           1  \n",
       "486  392.68  14.98          0           1  \n",
       "364  354.55   5.29          1           0  "
      ]
     },
     "execution_count": 25,
     "metadata": {},
     "output_type": "execute_result"
    }
   ],
   "source": [
    "X_train.head()"
   ]
  },
  {
   "cell_type": "code",
   "execution_count": 26,
   "metadata": {},
   "outputs": [
    {
     "data": {
      "text/html": [
       "<div>\n",
       "<style scoped>\n",
       "    .dataframe tbody tr th:only-of-type {\n",
       "        vertical-align: middle;\n",
       "    }\n",
       "\n",
       "    .dataframe tbody tr th {\n",
       "        vertical-align: top;\n",
       "    }\n",
       "\n",
       "    .dataframe thead th {\n",
       "        text-align: right;\n",
       "    }\n",
       "</style>\n",
       "<table border=\"1\" class=\"dataframe\">\n",
       "  <thead>\n",
       "    <tr style=\"text-align: right;\">\n",
       "      <th></th>\n",
       "      <th>CRIM</th>\n",
       "      <th>ZN</th>\n",
       "      <th>INDUS</th>\n",
       "      <th>NOX</th>\n",
       "      <th>RM</th>\n",
       "      <th>AGE</th>\n",
       "      <th>DIS</th>\n",
       "      <th>RAD</th>\n",
       "      <th>TAX</th>\n",
       "      <th>PTRATIO</th>\n",
       "      <th>B</th>\n",
       "      <th>LSTAT</th>\n",
       "      <th>CHAS_True</th>\n",
       "      <th>CHAS_False</th>\n",
       "    </tr>\n",
       "  </thead>\n",
       "  <tbody>\n",
       "    <tr>\n",
       "      <td>291</td>\n",
       "      <td>0.07886</td>\n",
       "      <td>80.0</td>\n",
       "      <td>4.95</td>\n",
       "      <td>0.411</td>\n",
       "      <td>7.148</td>\n",
       "      <td>27.7</td>\n",
       "      <td>5.1167</td>\n",
       "      <td>4</td>\n",
       "      <td>245.0</td>\n",
       "      <td>19.2</td>\n",
       "      <td>396.90</td>\n",
       "      <td>3.56</td>\n",
       "      <td>0</td>\n",
       "      <td>1</td>\n",
       "    </tr>\n",
       "    <tr>\n",
       "      <td>179</td>\n",
       "      <td>0.05780</td>\n",
       "      <td>0.0</td>\n",
       "      <td>2.46</td>\n",
       "      <td>0.488</td>\n",
       "      <td>6.980</td>\n",
       "      <td>58.4</td>\n",
       "      <td>2.8290</td>\n",
       "      <td>3</td>\n",
       "      <td>193.0</td>\n",
       "      <td>17.8</td>\n",
       "      <td>396.90</td>\n",
       "      <td>5.04</td>\n",
       "      <td>0</td>\n",
       "      <td>1</td>\n",
       "    </tr>\n",
       "    <tr>\n",
       "      <td>411</td>\n",
       "      <td>14.05070</td>\n",
       "      <td>0.0</td>\n",
       "      <td>18.10</td>\n",
       "      <td>0.597</td>\n",
       "      <td>6.657</td>\n",
       "      <td>100.0</td>\n",
       "      <td>1.5275</td>\n",
       "      <td>24</td>\n",
       "      <td>666.0</td>\n",
       "      <td>20.2</td>\n",
       "      <td>35.05</td>\n",
       "      <td>21.22</td>\n",
       "      <td>0</td>\n",
       "      <td>1</td>\n",
       "    </tr>\n",
       "    <tr>\n",
       "      <td>25</td>\n",
       "      <td>0.84054</td>\n",
       "      <td>0.0</td>\n",
       "      <td>8.14</td>\n",
       "      <td>0.538</td>\n",
       "      <td>5.599</td>\n",
       "      <td>85.7</td>\n",
       "      <td>4.4546</td>\n",
       "      <td>4</td>\n",
       "      <td>307.0</td>\n",
       "      <td>21.0</td>\n",
       "      <td>303.42</td>\n",
       "      <td>16.51</td>\n",
       "      <td>0</td>\n",
       "      <td>1</td>\n",
       "    </tr>\n",
       "    <tr>\n",
       "      <td>158</td>\n",
       "      <td>1.34284</td>\n",
       "      <td>0.0</td>\n",
       "      <td>19.58</td>\n",
       "      <td>0.605</td>\n",
       "      <td>6.066</td>\n",
       "      <td>100.0</td>\n",
       "      <td>1.7573</td>\n",
       "      <td>5</td>\n",
       "      <td>403.0</td>\n",
       "      <td>14.7</td>\n",
       "      <td>353.89</td>\n",
       "      <td>6.43</td>\n",
       "      <td>0</td>\n",
       "      <td>1</td>\n",
       "    </tr>\n",
       "  </tbody>\n",
       "</table>\n",
       "</div>"
      ],
      "text/plain": [
       "         CRIM    ZN  INDUS    NOX     RM    AGE     DIS  RAD    TAX  PTRATIO  \\\n",
       "291   0.07886  80.0   4.95  0.411  7.148   27.7  5.1167    4  245.0     19.2   \n",
       "179   0.05780   0.0   2.46  0.488  6.980   58.4  2.8290    3  193.0     17.8   \n",
       "411  14.05070   0.0  18.10  0.597  6.657  100.0  1.5275   24  666.0     20.2   \n",
       "25    0.84054   0.0   8.14  0.538  5.599   85.7  4.4546    4  307.0     21.0   \n",
       "158   1.34284   0.0  19.58  0.605  6.066  100.0  1.7573    5  403.0     14.7   \n",
       "\n",
       "          B  LSTAT  CHAS_True  CHAS_False  \n",
       "291  396.90   3.56          0           1  \n",
       "179  396.90   5.04          0           1  \n",
       "411   35.05  21.22          0           1  \n",
       "25   303.42  16.51          0           1  \n",
       "158  353.89   6.43          0           1  "
      ]
     },
     "execution_count": 26,
     "metadata": {},
     "output_type": "execute_result"
    }
   ],
   "source": [
    "X_test.head()"
   ]
  },
  {
   "cell_type": "code",
   "execution_count": 27,
   "metadata": {},
   "outputs": [
    {
     "data": {
      "text/plain": [
       "173    23.6\n",
       "51     20.5\n",
       "21     19.6\n",
       "486    19.1\n",
       "364    21.9\n",
       "Name: MEDV, dtype: float64"
      ]
     },
     "execution_count": 27,
     "metadata": {},
     "output_type": "execute_result"
    }
   ],
   "source": [
    "y_train.head()"
   ]
  },
  {
   "cell_type": "code",
   "execution_count": 28,
   "metadata": {},
   "outputs": [
    {
     "data": {
      "text/plain": [
       "291    37.3\n",
       "179    37.2\n",
       "411    17.2\n",
       "25     13.9\n",
       "158    24.3\n",
       "Name: MEDV, dtype: float64"
      ]
     },
     "execution_count": 28,
     "metadata": {},
     "output_type": "execute_result"
    }
   ],
   "source": [
    "y_test.head()"
   ]
  },
  {
   "cell_type": "markdown",
   "metadata": {},
   "source": [
    "### Preprocessing the dataset"
   ]
  },
  {
   "cell_type": "markdown",
   "metadata": {},
   "source": [
    "#### Scaling the dataset\n",
    "\n",
    "Machine learning algorithms can sometimes perform poorly if the dataset is not first standarized [scikit learn - Preprocessing data](https://scikit-learn.org/stable/modules/preprocessing.html). Using the [sklearn](https://scikit-learn.org/stable/modules/preprocessing.html) StandardScaler function, which removes the mean value from each feature and then divides by them by their standard deviation in order to scale them [scikit learn - Preprocessing data](https://scikit-learn.org/stable/modules/preprocessing.html)."
   ]
  },
  {
   "cell_type": "code",
   "execution_count": 29,
   "metadata": {},
   "outputs": [
    {
     "name": "stderr",
     "output_type": "stream",
     "text": [
      "C:\\ProgramData\\Anaconda3\\lib\\site-packages\\sklearn\\preprocessing\\data.py:625: DataConversionWarning: Data with input dtype int32, int64, float64 were all converted to float64 by StandardScaler.\n",
      "  return self.partial_fit(X, y)\n",
      "C:\\ProgramData\\Anaconda3\\lib\\site-packages\\ipykernel_launcher.py:12: DataConversionWarning: Data with input dtype int32, int64, float64 were all converted to float64 by StandardScaler.\n",
      "  if sys.path[0] == '':\n",
      "C:\\ProgramData\\Anaconda3\\lib\\site-packages\\ipykernel_launcher.py:13: DataConversionWarning: Data with input dtype int32, int64, float64 were all converted to float64 by StandardScaler.\n",
      "  del sys.path[0]\n"
     ]
    }
   ],
   "source": [
    "# Adapted from course materials\n",
    "import pandas as pd\n",
    "import sklearn.preprocessing as pre\n",
    "import numpy as np\n",
    "\n",
    "# Initialize the scaler\n",
    "scaler = pre.StandardScaler()\n",
    "# Fit the scaler to the training input dataset\n",
    "scaler.fit(X_train)\n",
    "\n",
    "# Scale the train and test input datasets\n",
    "scaled_X_train =  pd.DataFrame(scaler.transform(X_train), columns=X_train.columns)\n",
    "scaled_X_test = pd.DataFrame(scaler.transform(X_test), columns=X_test.columns)"
   ]
  },
  {
   "cell_type": "code",
   "execution_count": 30,
   "metadata": {},
   "outputs": [
    {
     "data": {
      "text/html": [
       "<div>\n",
       "<style scoped>\n",
       "    .dataframe tbody tr th:only-of-type {\n",
       "        vertical-align: middle;\n",
       "    }\n",
       "\n",
       "    .dataframe tbody tr th {\n",
       "        vertical-align: top;\n",
       "    }\n",
       "\n",
       "    .dataframe thead th {\n",
       "        text-align: right;\n",
       "    }\n",
       "</style>\n",
       "<table border=\"1\" class=\"dataframe\">\n",
       "  <thead>\n",
       "    <tr style=\"text-align: right;\">\n",
       "      <th></th>\n",
       "      <th>CRIM</th>\n",
       "      <th>ZN</th>\n",
       "      <th>INDUS</th>\n",
       "      <th>NOX</th>\n",
       "      <th>RM</th>\n",
       "      <th>AGE</th>\n",
       "      <th>DIS</th>\n",
       "      <th>RAD</th>\n",
       "      <th>TAX</th>\n",
       "      <th>PTRATIO</th>\n",
       "      <th>B</th>\n",
       "      <th>LSTAT</th>\n",
       "      <th>CHAS_True</th>\n",
       "      <th>CHAS_False</th>\n",
       "    </tr>\n",
       "  </thead>\n",
       "  <tbody>\n",
       "    <tr>\n",
       "      <td>count</td>\n",
       "      <td>339.00</td>\n",
       "      <td>339.00</td>\n",
       "      <td>339.00</td>\n",
       "      <td>339.00</td>\n",
       "      <td>339.00</td>\n",
       "      <td>339.00</td>\n",
       "      <td>339.00</td>\n",
       "      <td>339.00</td>\n",
       "      <td>339.00</td>\n",
       "      <td>339.00</td>\n",
       "      <td>339.00</td>\n",
       "      <td>339.00</td>\n",
       "      <td>339.00</td>\n",
       "      <td>339.00</td>\n",
       "    </tr>\n",
       "    <tr>\n",
       "      <td>mean</td>\n",
       "      <td>0.00</td>\n",
       "      <td>-0.00</td>\n",
       "      <td>0.00</td>\n",
       "      <td>0.00</td>\n",
       "      <td>0.00</td>\n",
       "      <td>-0.00</td>\n",
       "      <td>0.00</td>\n",
       "      <td>0.00</td>\n",
       "      <td>0.00</td>\n",
       "      <td>0.00</td>\n",
       "      <td>-0.00</td>\n",
       "      <td>0.00</td>\n",
       "      <td>-0.00</td>\n",
       "      <td>-0.00</td>\n",
       "    </tr>\n",
       "    <tr>\n",
       "      <td>std</td>\n",
       "      <td>1.00</td>\n",
       "      <td>1.00</td>\n",
       "      <td>1.00</td>\n",
       "      <td>1.00</td>\n",
       "      <td>1.00</td>\n",
       "      <td>1.00</td>\n",
       "      <td>1.00</td>\n",
       "      <td>1.00</td>\n",
       "      <td>1.00</td>\n",
       "      <td>1.00</td>\n",
       "      <td>1.00</td>\n",
       "      <td>1.00</td>\n",
       "      <td>1.00</td>\n",
       "      <td>1.00</td>\n",
       "    </tr>\n",
       "    <tr>\n",
       "      <td>min</td>\n",
       "      <td>-0.43</td>\n",
       "      <td>-0.51</td>\n",
       "      <td>-1.52</td>\n",
       "      <td>-1.36</td>\n",
       "      <td>-3.77</td>\n",
       "      <td>-2.25</td>\n",
       "      <td>-1.26</td>\n",
       "      <td>-0.97</td>\n",
       "      <td>-1.31</td>\n",
       "      <td>-2.63</td>\n",
       "      <td>-4.16</td>\n",
       "      <td>-1.55</td>\n",
       "      <td>-0.27</td>\n",
       "      <td>-3.71</td>\n",
       "    </tr>\n",
       "    <tr>\n",
       "      <td>25%</td>\n",
       "      <td>-0.42</td>\n",
       "      <td>-0.51</td>\n",
       "      <td>-0.84</td>\n",
       "      <td>-0.89</td>\n",
       "      <td>-0.59</td>\n",
       "      <td>-0.84</td>\n",
       "      <td>-0.82</td>\n",
       "      <td>-0.63</td>\n",
       "      <td>-0.77</td>\n",
       "      <td>-0.64</td>\n",
       "      <td>0.19</td>\n",
       "      <td>-0.78</td>\n",
       "      <td>-0.27</td>\n",
       "      <td>0.27</td>\n",
       "    </tr>\n",
       "    <tr>\n",
       "      <td>50%</td>\n",
       "      <td>-0.40</td>\n",
       "      <td>-0.51</td>\n",
       "      <td>-0.35</td>\n",
       "      <td>-0.18</td>\n",
       "      <td>-0.14</td>\n",
       "      <td>0.32</td>\n",
       "      <td>-0.29</td>\n",
       "      <td>-0.51</td>\n",
       "      <td>-0.45</td>\n",
       "      <td>0.26</td>\n",
       "      <td>0.36</td>\n",
       "      <td>-0.24</td>\n",
       "      <td>-0.27</td>\n",
       "      <td>0.27</td>\n",
       "    </tr>\n",
       "    <tr>\n",
       "      <td>75%</td>\n",
       "      <td>0.06</td>\n",
       "      <td>0.31</td>\n",
       "      <td>1.03</td>\n",
       "      <td>0.60</td>\n",
       "      <td>0.43</td>\n",
       "      <td>0.90</td>\n",
       "      <td>0.64</td>\n",
       "      <td>1.68</td>\n",
       "      <td>1.55</td>\n",
       "      <td>0.80</td>\n",
       "      <td>0.42</td>\n",
       "      <td>0.64</td>\n",
       "      <td>-0.27</td>\n",
       "      <td>0.27</td>\n",
       "    </tr>\n",
       "    <tr>\n",
       "      <td>max</td>\n",
       "      <td>10.01</td>\n",
       "      <td>3.59</td>\n",
       "      <td>2.43</td>\n",
       "      <td>2.70</td>\n",
       "      <td>3.38</td>\n",
       "      <td>1.12</td>\n",
       "      <td>3.70</td>\n",
       "      <td>1.68</td>\n",
       "      <td>1.82</td>\n",
       "      <td>1.62</td>\n",
       "      <td>0.43</td>\n",
       "      <td>3.37</td>\n",
       "      <td>3.71</td>\n",
       "      <td>0.27</td>\n",
       "    </tr>\n",
       "  </tbody>\n",
       "</table>\n",
       "</div>"
      ],
      "text/plain": [
       "         CRIM      ZN   INDUS     NOX      RM     AGE     DIS     RAD     TAX  \\\n",
       "count  339.00  339.00  339.00  339.00  339.00  339.00  339.00  339.00  339.00   \n",
       "mean     0.00   -0.00    0.00    0.00    0.00   -0.00    0.00    0.00    0.00   \n",
       "std      1.00    1.00    1.00    1.00    1.00    1.00    1.00    1.00    1.00   \n",
       "min     -0.43   -0.51   -1.52   -1.36   -3.77   -2.25   -1.26   -0.97   -1.31   \n",
       "25%     -0.42   -0.51   -0.84   -0.89   -0.59   -0.84   -0.82   -0.63   -0.77   \n",
       "50%     -0.40   -0.51   -0.35   -0.18   -0.14    0.32   -0.29   -0.51   -0.45   \n",
       "75%      0.06    0.31    1.03    0.60    0.43    0.90    0.64    1.68    1.55   \n",
       "max     10.01    3.59    2.43    2.70    3.38    1.12    3.70    1.68    1.82   \n",
       "\n",
       "       PTRATIO       B   LSTAT  CHAS_True  CHAS_False  \n",
       "count   339.00  339.00  339.00     339.00      339.00  \n",
       "mean      0.00   -0.00    0.00      -0.00       -0.00  \n",
       "std       1.00    1.00    1.00       1.00        1.00  \n",
       "min      -2.63   -4.16   -1.55      -0.27       -3.71  \n",
       "25%      -0.64    0.19   -0.78      -0.27        0.27  \n",
       "50%       0.26    0.36   -0.24      -0.27        0.27  \n",
       "75%       0.80    0.42    0.64      -0.27        0.27  \n",
       "max       1.62    0.43    3.37       3.71        0.27  "
      ]
     },
     "execution_count": 30,
     "metadata": {},
     "output_type": "execute_result"
    }
   ],
   "source": [
    "# Viewing the scaled training input dataset\n",
    "round(scaled_X_train.describe(), 2)"
   ]
  },
  {
   "cell_type": "markdown",
   "metadata": {},
   "source": [
    "#### Whitening the dataset\n",
    "\n",
    "A dataset can be whitened by using Principal Components Analysis, which is used for dimensionality reduction [Stanford University - PCA Whitening](http://ufldl.stanford.edu/tutorial/unsupervised/PCAWhitening/). Whitening the dataset will have the effect of uncorrelating the variables [Wikipedia - Whitening transformation](https://en.wikipedia.org/wiki/Whitening_transformation)"
   ]
  },
  {
   "cell_type": "code",
   "execution_count": 31,
   "metadata": {},
   "outputs": [],
   "source": [
    "# Adapted from course materials\n",
    "import sklearn.decomposition as dec\n",
    "\n",
    "# Create the PCA model that will whiten the input datasets\n",
    "pca = dec.PCA(n_components=len(X_train.columns), whiten=True)\n",
    "\n",
    "# Fit the model to the input training dataset\n",
    "pca.fit(X_train)\n",
    "\n",
    "# Create the whitened input datasets\n",
    "whitened_X_train = pd.DataFrame(pca.transform(X_train), columns=X_train.columns)\n",
    "whitened_X_test = pd.DataFrame(pca.transform(X_test), columns=X_test.columns)"
   ]
  },
  {
   "cell_type": "code",
   "execution_count": 32,
   "metadata": {},
   "outputs": [
    {
     "data": {
      "text/html": [
       "<div>\n",
       "<style scoped>\n",
       "    .dataframe tbody tr th:only-of-type {\n",
       "        vertical-align: middle;\n",
       "    }\n",
       "\n",
       "    .dataframe tbody tr th {\n",
       "        vertical-align: top;\n",
       "    }\n",
       "\n",
       "    .dataframe thead th {\n",
       "        text-align: right;\n",
       "    }\n",
       "</style>\n",
       "<table border=\"1\" class=\"dataframe\">\n",
       "  <thead>\n",
       "    <tr style=\"text-align: right;\">\n",
       "      <th></th>\n",
       "      <th>CRIM</th>\n",
       "      <th>ZN</th>\n",
       "      <th>INDUS</th>\n",
       "      <th>NOX</th>\n",
       "      <th>RM</th>\n",
       "      <th>AGE</th>\n",
       "      <th>DIS</th>\n",
       "      <th>RAD</th>\n",
       "      <th>TAX</th>\n",
       "      <th>PTRATIO</th>\n",
       "      <th>B</th>\n",
       "      <th>LSTAT</th>\n",
       "      <th>CHAS_True</th>\n",
       "      <th>CHAS_False</th>\n",
       "    </tr>\n",
       "  </thead>\n",
       "  <tbody>\n",
       "    <tr>\n",
       "      <td>CRIM</td>\n",
       "      <td>1.0</td>\n",
       "      <td>-0.0</td>\n",
       "      <td>-0.0</td>\n",
       "      <td>-0.0</td>\n",
       "      <td>0.0</td>\n",
       "      <td>-0.0</td>\n",
       "      <td>0.0</td>\n",
       "      <td>0.0</td>\n",
       "      <td>0.0</td>\n",
       "      <td>0.0</td>\n",
       "      <td>-0.0</td>\n",
       "      <td>0.0</td>\n",
       "      <td>-0.0</td>\n",
       "      <td>0.0</td>\n",
       "    </tr>\n",
       "    <tr>\n",
       "      <td>ZN</td>\n",
       "      <td>-0.0</td>\n",
       "      <td>1.0</td>\n",
       "      <td>0.0</td>\n",
       "      <td>-0.0</td>\n",
       "      <td>0.0</td>\n",
       "      <td>0.0</td>\n",
       "      <td>-0.0</td>\n",
       "      <td>0.0</td>\n",
       "      <td>0.0</td>\n",
       "      <td>-0.0</td>\n",
       "      <td>-0.0</td>\n",
       "      <td>-0.0</td>\n",
       "      <td>0.0</td>\n",
       "      <td>0.0</td>\n",
       "    </tr>\n",
       "    <tr>\n",
       "      <td>INDUS</td>\n",
       "      <td>-0.0</td>\n",
       "      <td>0.0</td>\n",
       "      <td>1.0</td>\n",
       "      <td>-0.0</td>\n",
       "      <td>0.0</td>\n",
       "      <td>0.0</td>\n",
       "      <td>0.0</td>\n",
       "      <td>0.0</td>\n",
       "      <td>0.0</td>\n",
       "      <td>-0.0</td>\n",
       "      <td>-0.0</td>\n",
       "      <td>-0.0</td>\n",
       "      <td>-0.0</td>\n",
       "      <td>-0.0</td>\n",
       "    </tr>\n",
       "    <tr>\n",
       "      <td>NOX</td>\n",
       "      <td>-0.0</td>\n",
       "      <td>-0.0</td>\n",
       "      <td>-0.0</td>\n",
       "      <td>1.0</td>\n",
       "      <td>0.0</td>\n",
       "      <td>0.0</td>\n",
       "      <td>0.0</td>\n",
       "      <td>-0.0</td>\n",
       "      <td>0.0</td>\n",
       "      <td>0.0</td>\n",
       "      <td>-0.0</td>\n",
       "      <td>0.0</td>\n",
       "      <td>0.0</td>\n",
       "      <td>-0.0</td>\n",
       "    </tr>\n",
       "    <tr>\n",
       "      <td>RM</td>\n",
       "      <td>0.0</td>\n",
       "      <td>0.0</td>\n",
       "      <td>0.0</td>\n",
       "      <td>0.0</td>\n",
       "      <td>1.0</td>\n",
       "      <td>-0.0</td>\n",
       "      <td>-0.0</td>\n",
       "      <td>0.0</td>\n",
       "      <td>-0.0</td>\n",
       "      <td>0.0</td>\n",
       "      <td>-0.0</td>\n",
       "      <td>-0.0</td>\n",
       "      <td>-0.0</td>\n",
       "      <td>-0.0</td>\n",
       "    </tr>\n",
       "    <tr>\n",
       "      <td>AGE</td>\n",
       "      <td>-0.0</td>\n",
       "      <td>0.0</td>\n",
       "      <td>0.0</td>\n",
       "      <td>0.0</td>\n",
       "      <td>-0.0</td>\n",
       "      <td>1.0</td>\n",
       "      <td>-0.0</td>\n",
       "      <td>-0.0</td>\n",
       "      <td>-0.0</td>\n",
       "      <td>-0.0</td>\n",
       "      <td>0.0</td>\n",
       "      <td>0.0</td>\n",
       "      <td>-0.0</td>\n",
       "      <td>-0.0</td>\n",
       "    </tr>\n",
       "    <tr>\n",
       "      <td>DIS</td>\n",
       "      <td>0.0</td>\n",
       "      <td>-0.0</td>\n",
       "      <td>0.0</td>\n",
       "      <td>0.0</td>\n",
       "      <td>-0.0</td>\n",
       "      <td>-0.0</td>\n",
       "      <td>1.0</td>\n",
       "      <td>-0.0</td>\n",
       "      <td>-0.0</td>\n",
       "      <td>0.0</td>\n",
       "      <td>0.0</td>\n",
       "      <td>0.0</td>\n",
       "      <td>-0.0</td>\n",
       "      <td>-0.0</td>\n",
       "    </tr>\n",
       "    <tr>\n",
       "      <td>RAD</td>\n",
       "      <td>0.0</td>\n",
       "      <td>0.0</td>\n",
       "      <td>0.0</td>\n",
       "      <td>-0.0</td>\n",
       "      <td>0.0</td>\n",
       "      <td>-0.0</td>\n",
       "      <td>-0.0</td>\n",
       "      <td>1.0</td>\n",
       "      <td>-0.0</td>\n",
       "      <td>-0.0</td>\n",
       "      <td>-0.0</td>\n",
       "      <td>-0.0</td>\n",
       "      <td>0.0</td>\n",
       "      <td>0.0</td>\n",
       "    </tr>\n",
       "    <tr>\n",
       "      <td>TAX</td>\n",
       "      <td>0.0</td>\n",
       "      <td>0.0</td>\n",
       "      <td>0.0</td>\n",
       "      <td>0.0</td>\n",
       "      <td>-0.0</td>\n",
       "      <td>-0.0</td>\n",
       "      <td>-0.0</td>\n",
       "      <td>-0.0</td>\n",
       "      <td>1.0</td>\n",
       "      <td>-0.0</td>\n",
       "      <td>-0.0</td>\n",
       "      <td>-0.0</td>\n",
       "      <td>-0.0</td>\n",
       "      <td>0.0</td>\n",
       "    </tr>\n",
       "    <tr>\n",
       "      <td>PTRATIO</td>\n",
       "      <td>0.0</td>\n",
       "      <td>-0.0</td>\n",
       "      <td>-0.0</td>\n",
       "      <td>0.0</td>\n",
       "      <td>0.0</td>\n",
       "      <td>-0.0</td>\n",
       "      <td>0.0</td>\n",
       "      <td>-0.0</td>\n",
       "      <td>-0.0</td>\n",
       "      <td>1.0</td>\n",
       "      <td>-0.0</td>\n",
       "      <td>0.0</td>\n",
       "      <td>-0.0</td>\n",
       "      <td>-0.0</td>\n",
       "    </tr>\n",
       "    <tr>\n",
       "      <td>B</td>\n",
       "      <td>-0.0</td>\n",
       "      <td>-0.0</td>\n",
       "      <td>-0.0</td>\n",
       "      <td>-0.0</td>\n",
       "      <td>-0.0</td>\n",
       "      <td>0.0</td>\n",
       "      <td>0.0</td>\n",
       "      <td>-0.0</td>\n",
       "      <td>-0.0</td>\n",
       "      <td>-0.0</td>\n",
       "      <td>1.0</td>\n",
       "      <td>0.0</td>\n",
       "      <td>-0.0</td>\n",
       "      <td>1.0</td>\n",
       "    </tr>\n",
       "    <tr>\n",
       "      <td>LSTAT</td>\n",
       "      <td>0.0</td>\n",
       "      <td>-0.0</td>\n",
       "      <td>-0.0</td>\n",
       "      <td>0.0</td>\n",
       "      <td>-0.0</td>\n",
       "      <td>0.0</td>\n",
       "      <td>0.0</td>\n",
       "      <td>-0.0</td>\n",
       "      <td>-0.0</td>\n",
       "      <td>0.0</td>\n",
       "      <td>0.0</td>\n",
       "      <td>1.0</td>\n",
       "      <td>-0.0</td>\n",
       "      <td>1.0</td>\n",
       "    </tr>\n",
       "    <tr>\n",
       "      <td>CHAS_True</td>\n",
       "      <td>-0.0</td>\n",
       "      <td>0.0</td>\n",
       "      <td>-0.0</td>\n",
       "      <td>0.0</td>\n",
       "      <td>-0.0</td>\n",
       "      <td>-0.0</td>\n",
       "      <td>-0.0</td>\n",
       "      <td>0.0</td>\n",
       "      <td>-0.0</td>\n",
       "      <td>-0.0</td>\n",
       "      <td>-0.0</td>\n",
       "      <td>-0.0</td>\n",
       "      <td>1.0</td>\n",
       "      <td>-0.0</td>\n",
       "    </tr>\n",
       "    <tr>\n",
       "      <td>CHAS_False</td>\n",
       "      <td>0.0</td>\n",
       "      <td>0.0</td>\n",
       "      <td>-0.0</td>\n",
       "      <td>-0.0</td>\n",
       "      <td>-0.0</td>\n",
       "      <td>-0.0</td>\n",
       "      <td>-0.0</td>\n",
       "      <td>0.0</td>\n",
       "      <td>0.0</td>\n",
       "      <td>-0.0</td>\n",
       "      <td>1.0</td>\n",
       "      <td>1.0</td>\n",
       "      <td>-0.0</td>\n",
       "      <td>1.0</td>\n",
       "    </tr>\n",
       "  </tbody>\n",
       "</table>\n",
       "</div>"
      ],
      "text/plain": [
       "            CRIM   ZN  INDUS  NOX   RM  AGE  DIS  RAD  TAX  PTRATIO    B  \\\n",
       "CRIM         1.0 -0.0   -0.0 -0.0  0.0 -0.0  0.0  0.0  0.0      0.0 -0.0   \n",
       "ZN          -0.0  1.0    0.0 -0.0  0.0  0.0 -0.0  0.0  0.0     -0.0 -0.0   \n",
       "INDUS       -0.0  0.0    1.0 -0.0  0.0  0.0  0.0  0.0  0.0     -0.0 -0.0   \n",
       "NOX         -0.0 -0.0   -0.0  1.0  0.0  0.0  0.0 -0.0  0.0      0.0 -0.0   \n",
       "RM           0.0  0.0    0.0  0.0  1.0 -0.0 -0.0  0.0 -0.0      0.0 -0.0   \n",
       "AGE         -0.0  0.0    0.0  0.0 -0.0  1.0 -0.0 -0.0 -0.0     -0.0  0.0   \n",
       "DIS          0.0 -0.0    0.0  0.0 -0.0 -0.0  1.0 -0.0 -0.0      0.0  0.0   \n",
       "RAD          0.0  0.0    0.0 -0.0  0.0 -0.0 -0.0  1.0 -0.0     -0.0 -0.0   \n",
       "TAX          0.0  0.0    0.0  0.0 -0.0 -0.0 -0.0 -0.0  1.0     -0.0 -0.0   \n",
       "PTRATIO      0.0 -0.0   -0.0  0.0  0.0 -0.0  0.0 -0.0 -0.0      1.0 -0.0   \n",
       "B           -0.0 -0.0   -0.0 -0.0 -0.0  0.0  0.0 -0.0 -0.0     -0.0  1.0   \n",
       "LSTAT        0.0 -0.0   -0.0  0.0 -0.0  0.0  0.0 -0.0 -0.0      0.0  0.0   \n",
       "CHAS_True   -0.0  0.0   -0.0  0.0 -0.0 -0.0 -0.0  0.0 -0.0     -0.0 -0.0   \n",
       "CHAS_False   0.0  0.0   -0.0 -0.0 -0.0 -0.0 -0.0  0.0  0.0     -0.0  1.0   \n",
       "\n",
       "            LSTAT  CHAS_True  CHAS_False  \n",
       "CRIM          0.0       -0.0         0.0  \n",
       "ZN           -0.0        0.0         0.0  \n",
       "INDUS        -0.0       -0.0        -0.0  \n",
       "NOX           0.0        0.0        -0.0  \n",
       "RM           -0.0       -0.0        -0.0  \n",
       "AGE           0.0       -0.0        -0.0  \n",
       "DIS           0.0       -0.0        -0.0  \n",
       "RAD          -0.0        0.0         0.0  \n",
       "TAX          -0.0       -0.0         0.0  \n",
       "PTRATIO       0.0       -0.0        -0.0  \n",
       "B             0.0       -0.0         1.0  \n",
       "LSTAT         1.0       -0.0         1.0  \n",
       "CHAS_True    -0.0        1.0        -0.0  \n",
       "CHAS_False    1.0       -0.0         1.0  "
      ]
     },
     "execution_count": 32,
     "metadata": {},
     "output_type": "execute_result"
    }
   ],
   "source": [
    "# Viewing the whitened dataset\n",
    "round(whitened_X_train.corr())"
   ]
  },
  {
   "cell_type": "markdown",
   "metadata": {},
   "source": [
    "#### Combining Whitening with Scaling"
   ]
  },
  {
   "cell_type": "code",
   "execution_count": 33,
   "metadata": {},
   "outputs": [],
   "source": [
    "# Adapted from course materials\n",
    "import sklearn.decomposition as dec\n",
    "\n",
    "# Create the PCA model that will whiten the input datasets\n",
    "pca = dec.PCA(n_components=len(scaled_X_train.columns), whiten=True)\n",
    "\n",
    "# Fitting the PCA model to the Scaled dataset\n",
    "pca.fit(scaled_X_train)\n",
    "\n",
    "# Creating the scaled and whitened input datasets\n",
    "whitenedAndScaled_X_train = pd.DataFrame(pca.transform(scaled_X_train), columns=scaled_X_train.columns)\n",
    "whitenedAndScaled_X_test = pd.DataFrame(pca.transform(scaled_X_test), columns=scaled_X_test.columns)"
   ]
  },
  {
   "cell_type": "markdown",
   "metadata": {},
   "source": [
    "### Defining the neural net\n",
    "\n",
    "The input dimensions have been set to the number of columns in the input dataset. The first hidden layer is set at twice the input size. The next layer is equal in size to the input layer. The output has been set to 1. The whitened dataset above has been chosen based on further testing done below which appears to give the best result out of either the whitened/scaled/whitened and scaled datasets.\n",
    "\n",
    "All layers are using the Rectified Linear Unit (ReLU) activation function. Other activation functions didn't appear to give as good a result but maybe different combinations of activation functions might have. The ReLU activation function produces a zero output for all negative inputs and a positive linear output for postive inputs [Medium - A Practical Guide to ReLU](https://medium.com/@danqing/a-practical-guide-to-relu-b83ca804f1f7)"
   ]
  },
  {
   "cell_type": "code",
   "execution_count": 34,
   "metadata": {},
   "outputs": [
    {
     "name": "stderr",
     "output_type": "stream",
     "text": [
      "Using TensorFlow backend.\n"
     ]
    }
   ],
   "source": [
    "# Adapted from https://machinelearningmastery.com/tutorial-first-neural-network-python-keras/\n",
    "\n",
    "# Importing packages\n",
    "from keras.models import Sequential\n",
    "from keras.layers import Dense\n",
    "\n",
    "# Determining the size of the input\n",
    "inputSize = len(whitened_X_train.columns)\n",
    "\n",
    "# Defining the neural network\n",
    "model = Sequential()\n",
    "model.add(Dense(2*inputSize, input_dim=inputSize, activation='relu'))\n",
    "model.add(Dense(inputSize, activation='relu'))\n",
    "model.add(Dense(1, activation='relu'))"
   ]
  },
  {
   "cell_type": "code",
   "execution_count": 35,
   "metadata": {},
   "outputs": [
    {
     "name": "stdout",
     "output_type": "stream",
     "text": [
      "Model: \"sequential_1\"\n",
      "_________________________________________________________________\n",
      "Layer (type)                 Output Shape              Param #   \n",
      "=================================================================\n",
      "dense_1 (Dense)              (None, 28)                420       \n",
      "_________________________________________________________________\n",
      "dense_2 (Dense)              (None, 14)                406       \n",
      "_________________________________________________________________\n",
      "dense_3 (Dense)              (None, 1)                 15        \n",
      "=================================================================\n",
      "Total params: 841\n",
      "Trainable params: 841\n",
      "Non-trainable params: 0\n",
      "_________________________________________________________________\n"
     ]
    }
   ],
   "source": [
    "model.summary()"
   ]
  },
  {
   "cell_type": "markdown",
   "metadata": {},
   "source": [
    "### Compiling the neural net\n",
    "\n",
    "As this is a regression problem, a Regression Loss Function will be used. Setting this to a Mean Squared Error Loss function. The mean squared error (MSE) is the average of the squares of the difference between the predicted value and the true value. [Statistics How To - Mean Square Error](https://www.statisticshowto.datasciencecentral.com/mean-squared-error/). The root mean squared error (RMSE) is the square root of this. [Vernier - What are Mean Squared Error and Root Mean Squared Error?](https://www.vernier.com/til/1014/)"
   ]
  },
  {
   "cell_type": "code",
   "execution_count": 36,
   "metadata": {},
   "outputs": [],
   "source": [
    "# Compiling the neural net\n",
    "model.compile(loss='mean_squared_error', optimizer='adam')"
   ]
  },
  {
   "cell_type": "markdown",
   "metadata": {},
   "source": [
    "### Fitting the neural net to the training dataset"
   ]
  },
  {
   "cell_type": "code",
   "execution_count": 37,
   "metadata": {},
   "outputs": [
    {
     "name": "stdout",
     "output_type": "stream",
     "text": [
      "Epoch 1/150\n",
      "339/339 [==============================] - 1s 2ms/step - loss: 602.6435\n",
      "Epoch 2/150\n",
      "339/339 [==============================] - 0s 528us/step - loss: 545.8574\n",
      "Epoch 3/150\n",
      "339/339 [==============================] - 0s 371us/step - loss: 447.6066\n",
      "Epoch 4/150\n",
      "339/339 [==============================] - 0s 419us/step - loss: 314.2484\n",
      "Epoch 5/150\n",
      "339/339 [==============================] - 0s 392us/step - loss: 174.6130\n",
      "Epoch 6/150\n",
      "339/339 [==============================] - 0s 374us/step - loss: 82.3957\n",
      "Epoch 7/150\n",
      "339/339 [==============================] - 0s 395us/step - loss: 43.7253\n",
      "Epoch 8/150\n",
      "339/339 [==============================] - 0s 522us/step - loss: 30.8873\n",
      "Epoch 9/150\n",
      "339/339 [==============================] - 0s 472us/step - loss: 25.7229\n",
      "Epoch 10/150\n",
      "339/339 [==============================] - 0s 398us/step - loss: 22.6435\n",
      "Epoch 11/150\n",
      "339/339 [==============================] - 0s 427us/step - loss: 21.0141\n",
      "Epoch 12/150\n",
      "339/339 [==============================] - 0s 342us/step - loss: 19.8548\n",
      "Epoch 13/150\n",
      "339/339 [==============================] - 0s 613us/step - loss: 19.0033\n",
      "Epoch 14/150\n",
      "339/339 [==============================] - 0s 436us/step - loss: 18.4036\n",
      "Epoch 15/150\n",
      "339/339 [==============================] - 0s 442us/step - loss: 17.8159\n",
      "Epoch 16/150\n",
      "339/339 [==============================] - 0s 436us/step - loss: 17.3258\n",
      "Epoch 17/150\n",
      "339/339 [==============================] - 0s 516us/step - loss: 16.8741\n",
      "Epoch 18/150\n",
      "339/339 [==============================] - 0s 392us/step - loss: 16.3803\n",
      "Epoch 19/150\n",
      "339/339 [==============================] - 0s 295us/step - loss: 15.9797\n",
      "Epoch 20/150\n",
      "339/339 [==============================] - 0s 419us/step - loss: 15.6023\n",
      "Epoch 21/150\n",
      "339/339 [==============================] - 0s 755us/step - loss: 15.3366\n",
      "Epoch 22/150\n",
      "339/339 [==============================] - 0s 540us/step - loss: 14.8632\n",
      "Epoch 23/150\n",
      "339/339 [==============================] - 0s 805us/step - loss: 14.4411\n",
      "Epoch 24/150\n",
      "339/339 [==============================] - 0s 451us/step - loss: 14.1806\n",
      "Epoch 25/150\n",
      "339/339 [==============================] - 0s 472us/step - loss: 13.8189\n",
      "Epoch 26/150\n",
      "339/339 [==============================] - 0s 613us/step - loss: 13.5930\n",
      "Epoch 27/150\n",
      "339/339 [==============================] - 0s 469us/step - loss: 13.1882\n",
      "Epoch 28/150\n",
      "339/339 [==============================] - 0s 486us/step - loss: 12.9655\n",
      "Epoch 29/150\n",
      "339/339 [==============================] - 0s 374us/step - loss: 12.6915\n",
      "Epoch 30/150\n",
      "339/339 [==============================] - 0s 374us/step - loss: 12.4623\n",
      "Epoch 31/150\n",
      "339/339 [==============================] - 0s 295us/step - loss: 12.0632\n",
      "Epoch 32/150\n",
      "339/339 [==============================] - 0s 472us/step - loss: 11.9737\n",
      "Epoch 33/150\n",
      "339/339 [==============================] - 0s 321us/step - loss: 11.6827\n",
      "Epoch 34/150\n",
      "339/339 [==============================] - 0s 330us/step - loss: 11.4460\n",
      "Epoch 35/150\n",
      "339/339 [==============================] - 0s 292us/step - loss: 11.2688\n",
      "Epoch 36/150\n",
      "339/339 [==============================] - 0s 363us/step - loss: 10.9645\n",
      "Epoch 37/150\n",
      "339/339 [==============================] - 0s 242us/step - loss: 10.7380\n",
      "Epoch 38/150\n",
      "339/339 [==============================] - 0s 265us/step - loss: 10.5675\n",
      "Epoch 39/150\n",
      "339/339 [==============================] - 0s 315us/step - loss: 10.3778\n",
      "Epoch 40/150\n",
      "339/339 [==============================] - 0s 268us/step - loss: 10.1871\n",
      "Epoch 41/150\n",
      "339/339 [==============================] - 0s 342us/step - loss: 10.0349\n",
      "Epoch 42/150\n",
      "339/339 [==============================] - 0s 410us/step - loss: 9.8356\n",
      "Epoch 43/150\n",
      "339/339 [==============================] - 0s 445us/step - loss: 9.7353\n",
      "Epoch 44/150\n",
      "339/339 [==============================] - 0s 369us/step - loss: 9.7300\n",
      "Epoch 45/150\n",
      "339/339 [==============================] - 0s 486us/step - loss: 9.4321\n",
      "Epoch 46/150\n",
      "339/339 [==============================] - 0s 274us/step - loss: 9.2405\n",
      "Epoch 47/150\n",
      "339/339 [==============================] - 0s 369us/step - loss: 9.1468\n",
      "Epoch 48/150\n",
      "339/339 [==============================] - 0s 363us/step - loss: 8.9504\n",
      "Epoch 49/150\n",
      "339/339 [==============================] - 0s 345us/step - loss: 8.9193\n",
      "Epoch 50/150\n",
      "339/339 [==============================] - 0s 270us/step - loss: 8.7783\n",
      "Epoch 51/150\n",
      "339/339 [==============================] - 0s 256us/step - loss: 8.6094\n",
      "Epoch 52/150\n",
      "339/339 [==============================] - 0s 392us/step - loss: 8.5495\n",
      "Epoch 53/150\n",
      "339/339 [==============================] - 0s 442us/step - loss: 8.4586\n",
      "Epoch 54/150\n",
      "339/339 [==============================] - 0s 277us/step - loss: 8.2781\n",
      "Epoch 55/150\n",
      "339/339 [==============================] - 0s 377us/step - loss: 8.2011\n",
      "Epoch 56/150\n",
      "339/339 [==============================] - 0s 254us/step - loss: 8.0918\n",
      "Epoch 57/150\n",
      "339/339 [==============================] - 0s 392us/step - loss: 8.0011\n",
      "Epoch 58/150\n",
      "339/339 [==============================] - 0s 251us/step - loss: 7.8947\n",
      "Epoch 59/150\n",
      "339/339 [==============================] - 0s 311us/step - loss: 7.9686\n",
      "Epoch 60/150\n",
      "339/339 [==============================] - 0s 239us/step - loss: 7.8119\n",
      "Epoch 61/150\n",
      "339/339 [==============================] - 0s 271us/step - loss: 7.6370\n",
      "Epoch 62/150\n",
      "339/339 [==============================] - 0s 454us/step - loss: 7.5822\n",
      "Epoch 63/150\n",
      "339/339 [==============================] - 0s 398us/step - loss: 7.4736\n",
      "Epoch 64/150\n",
      "339/339 [==============================] - 0s 277us/step - loss: 7.3118\n",
      "Epoch 65/150\n",
      "339/339 [==============================] - 0s 274us/step - loss: 7.2608\n",
      "Epoch 66/150\n",
      "339/339 [==============================] - 0s 472us/step - loss: 7.1837\n",
      "Epoch 67/150\n",
      "339/339 [==============================] - 0s 318us/step - loss: 7.1412\n",
      "Epoch 68/150\n",
      "339/339 [==============================] - 0s 304us/step - loss: 7.0674\n",
      "Epoch 69/150\n",
      "339/339 [==============================] - 0s 258us/step - loss: 7.0612\n",
      "Epoch 70/150\n",
      "339/339 [==============================] - 0s 354us/step - loss: 6.9364\n",
      "Epoch 71/150\n",
      "339/339 [==============================] - 0s 301us/step - loss: 6.8384\n",
      "Epoch 72/150\n",
      "339/339 [==============================] - 0s 330us/step - loss: 6.7381\n",
      "Epoch 73/150\n",
      "339/339 [==============================] - 0s 342us/step - loss: 6.7071\n",
      "Epoch 74/150\n",
      "339/339 [==============================] - 0s 498us/step - loss: 6.6359\n",
      "Epoch 75/150\n",
      "339/339 [==============================] - 0s 277us/step - loss: 6.5857\n",
      "Epoch 76/150\n",
      "339/339 [==============================] - 0s 338us/step - loss: 6.5132\n",
      "Epoch 77/150\n",
      "339/339 [==============================] - 0s 301us/step - loss: 6.4911\n",
      "Epoch 78/150\n",
      "339/339 [==============================] - 0s 310us/step - loss: 6.3678\n",
      "Epoch 79/150\n",
      "339/339 [==============================] - 0s 283us/step - loss: 6.3714\n",
      "Epoch 80/150\n",
      "339/339 [==============================] - 0s 310us/step - loss: 6.2263\n",
      "Epoch 81/150\n",
      "339/339 [==============================] - 0s 425us/step - loss: 6.2426\n",
      "Epoch 82/150\n",
      "339/339 [==============================] - 0s 274us/step - loss: 6.1221\n",
      "Epoch 83/150\n",
      "339/339 [==============================] - 0s 469us/step - loss: 6.1911\n",
      "Epoch 84/150\n",
      "339/339 [==============================] - 0s 380us/step - loss: 6.0611\n",
      "Epoch 85/150\n",
      "339/339 [==============================] - 0s 447us/step - loss: 5.9247\n",
      "Epoch 86/150\n",
      "339/339 [==============================] - 0s 315us/step - loss: 5.8790\n",
      "Epoch 87/150\n",
      "339/339 [==============================] - 0s 398us/step - loss: 5.8407\n",
      "Epoch 88/150\n",
      "339/339 [==============================] - 0s 392us/step - loss: 5.8846\n",
      "Epoch 89/150\n",
      "339/339 [==============================] - 0s 348us/step - loss: 5.7423\n",
      "Epoch 90/150\n",
      "339/339 [==============================] - 0s 351us/step - loss: 5.7348\n",
      "Epoch 91/150\n",
      "339/339 [==============================] - 0s 383us/step - loss: 5.5998\n",
      "Epoch 92/150\n",
      "339/339 [==============================] - 0s 340us/step - loss: 5.6118\n",
      "Epoch 93/150\n",
      "339/339 [==============================] - 0s 360us/step - loss: 5.5249\n",
      "Epoch 94/150\n",
      "339/339 [==============================] - 0s 336us/step - loss: 5.5137\n",
      "Epoch 95/150\n",
      "339/339 [==============================] - 0s 366us/step - loss: 5.3839\n",
      "Epoch 96/150\n",
      "339/339 [==============================] - 0s 392us/step - loss: 5.3717\n"
     ]
    },
    {
     "name": "stdout",
     "output_type": "stream",
     "text": [
      "Epoch 97/150\n",
      "339/339 [==============================] - 0s 262us/step - loss: 5.2539\n",
      "Epoch 98/150\n",
      "339/339 [==============================] - 0s 395us/step - loss: 5.2592\n",
      "Epoch 99/150\n",
      "339/339 [==============================] - 0s 248us/step - loss: 5.2591\n",
      "Epoch 100/150\n",
      "339/339 [==============================] - 0s 336us/step - loss: 5.1551\n",
      "Epoch 101/150\n",
      "339/339 [==============================] - 0s 265us/step - loss: 5.1418 0s - loss: 5.3528\n",
      "Epoch 102/150\n",
      "339/339 [==============================] - 0s 283us/step - loss: 5.1016\n",
      "Epoch 103/150\n",
      "339/339 [==============================] - 0s 383us/step - loss: 5.2450\n",
      "Epoch 104/150\n",
      "339/339 [==============================] - 0s 292us/step - loss: 4.9913\n",
      "Epoch 105/150\n",
      "339/339 [==============================] - 0s 351us/step - loss: 5.0350\n",
      "Epoch 106/150\n",
      "339/339 [==============================] - 0s 259us/step - loss: 5.0019\n",
      "Epoch 107/150\n",
      "339/339 [==============================] - 0s 342us/step - loss: 5.0123\n",
      "Epoch 108/150\n",
      "339/339 [==============================] - 0s 254us/step - loss: 4.9677\n",
      "Epoch 109/150\n",
      "339/339 [==============================] - 0s 274us/step - loss: 4.8650\n",
      "Epoch 110/150\n",
      "339/339 [==============================] - 0s 360us/step - loss: 4.8335\n",
      "Epoch 111/150\n",
      "339/339 [==============================] - 0s 248us/step - loss: 4.8544\n",
      "Epoch 112/150\n",
      "339/339 [==============================] - 0s 259us/step - loss: 4.7501\n",
      "Epoch 113/150\n",
      "339/339 [==============================] - 0s 295us/step - loss: 4.6881\n",
      "Epoch 114/150\n",
      "339/339 [==============================] - 0s 354us/step - loss: 4.7589\n",
      "Epoch 115/150\n",
      "339/339 [==============================] - 0s 333us/step - loss: 4.5986\n",
      "Epoch 116/150\n",
      "339/339 [==============================] - 0s 374us/step - loss: 4.6013\n",
      "Epoch 117/150\n",
      "339/339 [==============================] - 0s 301us/step - loss: 4.5531\n",
      "Epoch 118/150\n",
      "339/339 [==============================] - 0s 292us/step - loss: 4.5183\n",
      "Epoch 119/150\n",
      "339/339 [==============================] - 0s 251us/step - loss: 4.4392\n",
      "Epoch 120/150\n",
      "339/339 [==============================] - 0s 280us/step - loss: 4.4420\n",
      "Epoch 121/150\n",
      "339/339 [==============================] - 0s 267us/step - loss: 4.4035\n",
      "Epoch 122/150\n",
      "339/339 [==============================] - 0s 301us/step - loss: 4.3633\n",
      "Epoch 123/150\n",
      "339/339 [==============================] - 0s 271us/step - loss: 4.2985\n",
      "Epoch 124/150\n",
      "339/339 [==============================] - 0s 280us/step - loss: 4.3273\n",
      "Epoch 125/150\n",
      "339/339 [==============================] - 0s 374us/step - loss: 4.1791\n",
      "Epoch 126/150\n",
      "339/339 [==============================] - 0s 357us/step - loss: 4.2616\n",
      "Epoch 127/150\n",
      "339/339 [==============================] - 0s 262us/step - loss: 4.2186\n",
      "Epoch 128/150\n",
      "339/339 [==============================] - 0s 271us/step - loss: 4.1745\n",
      "Epoch 129/150\n",
      "339/339 [==============================] - 0s 296us/step - loss: 4.0615\n",
      "Epoch 130/150\n",
      "339/339 [==============================] - 0s 283us/step - loss: 4.1215\n",
      "Epoch 131/150\n",
      "339/339 [==============================] - 0s 259us/step - loss: 4.0278\n",
      "Epoch 132/150\n",
      "339/339 [==============================] - 0s 271us/step - loss: 4.0343\n",
      "Epoch 133/150\n",
      "339/339 [==============================] - 0s 277us/step - loss: 4.0749\n",
      "Epoch 134/150\n",
      "339/339 [==============================] - 0s 251us/step - loss: 3.9628\n",
      "Epoch 135/150\n",
      "339/339 [==============================] - 0s 333us/step - loss: 4.0136\n",
      "Epoch 136/150\n",
      "339/339 [==============================] - 0s 463us/step - loss: 3.9057\n",
      "Epoch 137/150\n",
      "339/339 [==============================] - 0s 366us/step - loss: 3.9360\n",
      "Epoch 138/150\n",
      "339/339 [==============================] - 0s 289us/step - loss: 3.8331\n",
      "Epoch 139/150\n",
      "339/339 [==============================] - 0s 309us/step - loss: 3.7361\n",
      "Epoch 140/150\n",
      "339/339 [==============================] - 0s 256us/step - loss: 3.7697\n",
      "Epoch 141/150\n",
      "339/339 [==============================] - 0s 295us/step - loss: 3.8120\n",
      "Epoch 142/150\n",
      "339/339 [==============================] - 0s 280us/step - loss: 3.8771\n",
      "Epoch 143/150\n",
      "339/339 [==============================] - 0s 239us/step - loss: 3.6595\n",
      "Epoch 144/150\n",
      "339/339 [==============================] - 0s 307us/step - loss: 3.6995\n",
      "Epoch 145/150\n",
      "339/339 [==============================] - 0s 304us/step - loss: 3.5886\n",
      "Epoch 146/150\n",
      "339/339 [==============================] - 0s 286us/step - loss: 3.5646\n",
      "Epoch 147/150\n",
      "339/339 [==============================] - 0s 265us/step - loss: 3.5832\n",
      "Epoch 148/150\n",
      "339/339 [==============================] - 0s 404us/step - loss: 3.5358\n",
      "Epoch 149/150\n",
      "339/339 [==============================] - 0s 310us/step - loss: 3.5185\n",
      "Epoch 150/150\n",
      "339/339 [==============================] - 0s 245us/step - loss: 3.4484\n"
     ]
    },
    {
     "data": {
      "text/plain": [
       "<keras.callbacks.callbacks.History at 0x249802b48d0>"
      ]
     },
     "execution_count": 37,
     "metadata": {},
     "output_type": "execute_result"
    }
   ],
   "source": [
    "# Fitting the neural net\n",
    "model.fit(whitened_X_train, y_train, epochs=150, batch_size=8)"
   ]
  },
  {
   "cell_type": "markdown",
   "metadata": {},
   "source": [
    "### Predicting the output for test dataset"
   ]
  },
  {
   "cell_type": "code",
   "execution_count": 38,
   "metadata": {},
   "outputs": [
    {
     "data": {
      "text/plain": [
       "array([[31.53159 ],\n",
       "       [35.398266],\n",
       "       [16.411213],\n",
       "       [12.993861],\n",
       "       [34.680378]], dtype=float32)"
      ]
     },
     "execution_count": 38,
     "metadata": {},
     "output_type": "execute_result"
    }
   ],
   "source": [
    "# Predicting the median house prices for the whitened input dataset\n",
    "y_predicted = model.predict(whitened_X_test)\n",
    "\n",
    "# Viewing the first five rows for the predicted median house prices\n",
    "y_predicted[0:5]"
   ]
  },
  {
   "cell_type": "markdown",
   "metadata": {},
   "source": [
    "### Evaluating the neural net"
   ]
  },
  {
   "cell_type": "code",
   "execution_count": 39,
   "metadata": {},
   "outputs": [
    {
     "name": "stdout",
     "output_type": "stream",
     "text": [
      "167/167 [==============================] - 0s 192us/step\n"
     ]
    },
    {
     "data": {
      "text/plain": [
       "3.6711903163489374"
      ]
     },
     "execution_count": 39,
     "metadata": {},
     "output_type": "execute_result"
    }
   ],
   "source": [
    "# Get the MSE\n",
    "mse = model.evaluate(whitened_X_test, y_test) \n",
    "    \n",
    "# Get the RMSE by getting the square root of the MSE\n",
    "rmse = mse ** 0.5\n",
    "\n",
    "# Viewing the RMSE\n",
    "rmse"
   ]
  },
  {
   "cell_type": "markdown",
   "metadata": {},
   "source": [
    "### Creating a function for the machine learning algorithm"
   ]
  },
  {
   "cell_type": "code",
   "execution_count": 40,
   "metadata": {},
   "outputs": [],
   "source": [
    "# Function to predict the output values for XTest, evaluated against yTest using a neural network\n",
    "# NeuralNet is trained on XTrain and yTrain\n",
    "def neuralNet(XTrain, XTest, yTrain, yTest):\n",
    "    # Importing packages\n",
    "    from keras.models import Sequential\n",
    "    from keras.layers import Dense\n",
    "\n",
    "    # Determining the size of the input\n",
    "    inputSize = len(XTrain.columns)\n",
    "    \n",
    "    # Defining the neural network\n",
    "    model = Sequential()\n",
    "    model.add(Dense(2*inputSize, input_dim=inputSize, activation='relu'))\n",
    "    model.add(Dense(inputSize, activation='relu'))\n",
    "    model.add(Dense(1, activation='relu'))\n",
    "\n",
    "    # Compiling the neural net \n",
    "    model.compile(loss='mean_squared_error', optimizer='adam')\n",
    "    \n",
    "    \n",
    "    # Adapted from https://keras.io/visualization/\n",
    "    # Fitting the neural net\n",
    "    history = model.fit(XTrain, yTrain, epochs=150, validation_data=(XTest, yTest), batch_size=8, verbose=0)\n",
    "    \n",
    "    # Plot training & validation loss values\n",
    "    plt.plot(history.history['loss'])\n",
    "    plt.plot(history.history['val_loss'])\n",
    "    plt.title('Model loss')\n",
    "    plt.ylabel('Loss')\n",
    "    plt.xlabel('Epoch')\n",
    "    plt.legend(['Train', 'Test'], loc='upper left')\n",
    "    plt.show()\n",
    "    \n",
    "    # Get the MSE\n",
    "    mse = model.evaluate(XTest, yTest) \n",
    "    \n",
    "    # Get the RMSE by getting the square root of the MSE\n",
    "    rmse = mse ** 0.5\n",
    "    \n",
    "    return rmse"
   ]
  },
  {
   "cell_type": "code",
   "execution_count": 46,
   "metadata": {},
   "outputs": [
    {
     "data": {
      "image/png": "[encoded data removed]",
      "text/plain": [
       "<Figure size 432x288 with 1 Axes>"
      ]
     },
     "metadata": {
      "needs_background": "light"
     },
     "output_type": "display_data"
    },
    {
     "name": "stdout",
     "output_type": "stream",
     "text": [
      "167/167 [==============================] - 0s 60us/step\n"
     ]
    },
    {
     "data": {
      "text/plain": [
       "4.693187764488212"
      ]
     },
     "execution_count": 46,
     "metadata": {},
     "output_type": "execute_result"
    }
   ],
   "source": [
    "neuralNet(X_train, X_test, y_train, y_test)"
   ]
  },
  {
   "cell_type": "code",
   "execution_count": 47,
   "metadata": {},
   "outputs": [
    {
     "data": {
      "image/png": "[encoded data removed]",
      "text/plain": [
       "<Figure size 432x288 with 1 Axes>"
      ]
     },
     "metadata": {
      "needs_background": "light"
     },
     "output_type": "display_data"
    },
    {
     "name": "stdout",
     "output_type": "stream",
     "text": [
      "167/167 [==============================] - 0s 72us/step\n"
     ]
    },
    {
     "data": {
      "text/plain": [
       "3.5301993851215228"
      ]
     },
     "execution_count": 47,
     "metadata": {},
     "output_type": "execute_result"
    }
   ],
   "source": [
    "neuralNet(scaled_X_train, scaled_X_test, y_train, y_test)"
   ]
  },
  {
   "cell_type": "code",
   "execution_count": 48,
   "metadata": {},
   "outputs": [
    {
     "data": {
      "image/png": "[encoded data removed]",
      "text/plain": [
       "<Figure size 432x288 with 1 Axes>"
      ]
     },
     "metadata": {
      "needs_background": "light"
     },
     "output_type": "display_data"
    },
    {
     "name": "stdout",
     "output_type": "stream",
     "text": [
      "167/167 [==============================] - 0s 66us/step\n"
     ]
    },
    {
     "data": {
      "text/plain": [
       "3.5318576936114265"
      ]
     },
     "execution_count": 48,
     "metadata": {},
     "output_type": "execute_result"
    }
   ],
   "source": [
    "neuralNet(whitened_X_train, whitened_X_test, y_train, y_test)"
   ]
  },
  {
   "cell_type": "code",
   "execution_count": 49,
   "metadata": {},
   "outputs": [
    {
     "data": {
      "image/png": "[encoded data removed]",
      "text/plain": [
       "<Figure size 432x288 with 1 Axes>"
      ]
     },
     "metadata": {
      "needs_background": "light"
     },
     "output_type": "display_data"
    },
    {
     "name": "stdout",
     "output_type": "stream",
     "text": [
      "167/167 [==============================] - 0s 78us/step\n"
     ]
    },
    {
     "data": {
      "text/plain": [
       "3.6138818804486643"
      ]
     },
     "execution_count": 49,
     "metadata": {},
     "output_type": "execute_result"
    }
   ],
   "source": [
    "neuralNet(whitenedAndScaled_X_train, whitenedAndScaled_X_test, y_train, y_test)"
   ]
  },
  {
   "cell_type": "markdown",
   "metadata": {},
   "source": [
    "# Conclusion"
   ]
  },
  {
   "cell_type": "markdown",
   "metadata": {},
   "source": [
    "# References"
   ]
  }
 ],
 "metadata": {
  "kernelspec": {
   "display_name": "Python 3",
   "language": "python",
   "name": "python3"
  },
  "language_info": {
   "codemirror_mode": {
    "name": "ipython",
    "version": 3
   },
   "file_extension": ".py",
   "mimetype": "text/x-python",
   "name": "python",
   "nbconvert_exporter": "python",
   "pygments_lexer": "ipython3",
   "version": "3.6.9"
  }
 },
 "nbformat": 4,
 "nbformat_minor": 2
}
