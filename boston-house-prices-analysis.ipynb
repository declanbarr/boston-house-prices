{
 "cells": [
  {
   "cell_type": "markdown",
   "metadata": {},
   "source": [
    "# Introduction\n",
    "\n",
    "Dataset can be downloaded from https://archive.ics.uci.edu/ml/machine-learning-databases/housing/housing.data\n",
    "\n",
    "The column names are contained in the following file https://archive.ics.uci.edu/ml/machine-learning-databases/housing/housing.names\n",
    "\n",
    "The original paper which published the dataset can be found here http://citeseerx.ist.psu.edu/viewdoc/download?doi=10.1.1.926.5532&rep=rep1&type=pdf\n",
    "\n",
    "The census from which the dataset was built https://www2.census.gov/library/publications/decennial/1970/phc-1/39204513p3ch05.pdf"
   ]
  },
  {
   "cell_type": "markdown",
   "metadata": {},
   "source": [
    "# Describe"
   ]
  },
  {
   "cell_type": "code",
   "execution_count": 1,
   "metadata": {},
   "outputs": [
    {
     "name": "stdout",
     "output_type": "stream",
     "text": [
      "1. Title: Boston Housing Data\n",
      "\n",
      "2. Sources:\n",
      "   (a) Origin:  This dataset was taken from the StatLib library which is\n",
      "                maintained at Carnegie Mellon University.\n",
      "   (b) Creator:  Harrison, D. and Rubinfeld, D.L. 'Hedonic prices and the \n",
      "                 demand for clean air', J. Environ. Economics & Management,\n",
      "                 vol.5, 81-102, 1978.\n",
      "   (c) Date: July 7, 1993\n",
      "\n",
      "3. Past Usage:\n",
      "   -   Used in Belsley, Kuh & Welsch, 'Regression diagnostics ...', Wiley, \n",
      "       1980.   N.B. Various transformations are used in the table on\n",
      "       pages 244-261.\n",
      "    -  Quinlan,R. (1993). Combining Instance-Based and Model-Based Learning.\n",
      "       In Proceedings on the Tenth International Conference of Machine \n",
      "       Learning, 236-243, University of Massachusetts, Amherst. Morgan\n",
      "       Kaufmann.\n",
      "\n",
      "4. Relevant Information:\n",
      "\n",
      "   Concerns housing values in suburbs of Boston.\n",
      "\n",
      "5. Number of Instances: 506\n",
      "\n",
      "6. Number of Attributes: 13 continuous attributes (including \"class\"\n",
      "                         attribute \"MEDV\"), 1 binary-valued attribute.\n",
      "\n",
      "7. Attribute Information:\n",
      "\n",
      "    1. CRIM      per capita crime rate by town\n",
      "    2. ZN        proportion of residential land zoned for lots over \n",
      "                 25,000 sq.ft.\n",
      "    3. INDUS     proportion of non-retail business acres per town\n",
      "    4. CHAS      Charles River dummy variable (= 1 if tract bounds \n",
      "                 river; 0 otherwise)\n",
      "    5. NOX       nitric oxides concentration (parts per 10 million)\n",
      "    6. RM        average number of rooms per dwelling\n",
      "    7. AGE       proportion of owner-occupied units built prior to 1940\n",
      "    8. DIS       weighted distances to five Boston employment centres\n",
      "    9. RAD       index of accessibility to radial highways\n",
      "    10. TAX      full-value property-tax rate per $10,000\n",
      "    11. PTRATIO  pupil-teacher ratio by town\n",
      "    12. B        1000(Bk - 0.63)^2 where Bk is the proportion of blacks \n",
      "                 by town\n",
      "    13. LSTAT    % lower status of the population\n",
      "    14. MEDV     Median value of owner-occupied homes in $1000's\n",
      "\n",
      "8. Missing Attribute Values:  None.\n",
      "\n",
      "\n",
      "\n",
      "\n"
     ]
    }
   ],
   "source": [
    "# Import package that will enable opening of names file from url\n",
    "from urllib.request import urlopen\n",
    "\n",
    "# Open the names file and assign it to data\n",
    "data = urlopen(\"https://archive.ics.uci.edu/ml/machine-learning-databases/housing/housing.names\")\n",
    "\n",
    "# Adapted from https://bugs.python.org/issue5419\n",
    "# Decode the content of the names file and print the output\n",
    "print(data.read().decode('utf-8'))"
   ]
  },
  {
   "cell_type": "code",
   "execution_count": 3,
   "metadata": {},
   "outputs": [
    {
     "data": {
      "text/html": [
       "<div>\n",
       "<style scoped>\n",
       "    .dataframe tbody tr th:only-of-type {\n",
       "        vertical-align: middle;\n",
       "    }\n",
       "\n",
       "    .dataframe tbody tr th {\n",
       "        vertical-align: top;\n",
       "    }\n",
       "\n",
       "    .dataframe thead th {\n",
       "        text-align: right;\n",
       "    }\n",
       "</style>\n",
       "<table border=\"1\" class=\"dataframe\">\n",
       "  <thead>\n",
       "    <tr style=\"text-align: right;\">\n",
       "      <th></th>\n",
       "      <th>CRIM</th>\n",
       "      <th>ZN</th>\n",
       "      <th>INDUS</th>\n",
       "      <th>CHAS</th>\n",
       "      <th>NOX</th>\n",
       "      <th>RM</th>\n",
       "      <th>AGE</th>\n",
       "      <th>DIS</th>\n",
       "      <th>RAD</th>\n",
       "      <th>TAX</th>\n",
       "      <th>PTRATIO</th>\n",
       "      <th>B</th>\n",
       "      <th>LSTAT</th>\n",
       "      <th>MEDV</th>\n",
       "    </tr>\n",
       "  </thead>\n",
       "  <tbody>\n",
       "    <tr>\n",
       "      <td>0</td>\n",
       "      <td>0.00632</td>\n",
       "      <td>18.0</td>\n",
       "      <td>2.31</td>\n",
       "      <td>0</td>\n",
       "      <td>0.538</td>\n",
       "      <td>6.575</td>\n",
       "      <td>65.2</td>\n",
       "      <td>4.0900</td>\n",
       "      <td>1</td>\n",
       "      <td>296.0</td>\n",
       "      <td>15.3</td>\n",
       "      <td>396.90</td>\n",
       "      <td>4.98</td>\n",
       "      <td>24.0</td>\n",
       "    </tr>\n",
       "    <tr>\n",
       "      <td>1</td>\n",
       "      <td>0.02731</td>\n",
       "      <td>0.0</td>\n",
       "      <td>7.07</td>\n",
       "      <td>0</td>\n",
       "      <td>0.469</td>\n",
       "      <td>6.421</td>\n",
       "      <td>78.9</td>\n",
       "      <td>4.9671</td>\n",
       "      <td>2</td>\n",
       "      <td>242.0</td>\n",
       "      <td>17.8</td>\n",
       "      <td>396.90</td>\n",
       "      <td>9.14</td>\n",
       "      <td>21.6</td>\n",
       "    </tr>\n",
       "    <tr>\n",
       "      <td>2</td>\n",
       "      <td>0.02729</td>\n",
       "      <td>0.0</td>\n",
       "      <td>7.07</td>\n",
       "      <td>0</td>\n",
       "      <td>0.469</td>\n",
       "      <td>7.185</td>\n",
       "      <td>61.1</td>\n",
       "      <td>4.9671</td>\n",
       "      <td>2</td>\n",
       "      <td>242.0</td>\n",
       "      <td>17.8</td>\n",
       "      <td>392.83</td>\n",
       "      <td>4.03</td>\n",
       "      <td>34.7</td>\n",
       "    </tr>\n",
       "    <tr>\n",
       "      <td>3</td>\n",
       "      <td>0.03237</td>\n",
       "      <td>0.0</td>\n",
       "      <td>2.18</td>\n",
       "      <td>0</td>\n",
       "      <td>0.458</td>\n",
       "      <td>6.998</td>\n",
       "      <td>45.8</td>\n",
       "      <td>6.0622</td>\n",
       "      <td>3</td>\n",
       "      <td>222.0</td>\n",
       "      <td>18.7</td>\n",
       "      <td>394.63</td>\n",
       "      <td>2.94</td>\n",
       "      <td>33.4</td>\n",
       "    </tr>\n",
       "    <tr>\n",
       "      <td>4</td>\n",
       "      <td>0.06905</td>\n",
       "      <td>0.0</td>\n",
       "      <td>2.18</td>\n",
       "      <td>0</td>\n",
       "      <td>0.458</td>\n",
       "      <td>7.147</td>\n",
       "      <td>54.2</td>\n",
       "      <td>6.0622</td>\n",
       "      <td>3</td>\n",
       "      <td>222.0</td>\n",
       "      <td>18.7</td>\n",
       "      <td>396.90</td>\n",
       "      <td>5.33</td>\n",
       "      <td>36.2</td>\n",
       "    </tr>\n",
       "  </tbody>\n",
       "</table>\n",
       "</div>"
      ],
      "text/plain": [
       "      CRIM    ZN  INDUS  CHAS    NOX     RM   AGE     DIS  RAD    TAX  \\\n",
       "0  0.00632  18.0   2.31     0  0.538  6.575  65.2  4.0900    1  296.0   \n",
       "1  0.02731   0.0   7.07     0  0.469  6.421  78.9  4.9671    2  242.0   \n",
       "2  0.02729   0.0   7.07     0  0.469  7.185  61.1  4.9671    2  242.0   \n",
       "3  0.03237   0.0   2.18     0  0.458  6.998  45.8  6.0622    3  222.0   \n",
       "4  0.06905   0.0   2.18     0  0.458  7.147  54.2  6.0622    3  222.0   \n",
       "\n",
       "   PTRATIO       B  LSTAT  MEDV  \n",
       "0     15.3  396.90   4.98  24.0  \n",
       "1     17.8  396.90   9.14  21.6  \n",
       "2     17.8  392.83   4.03  34.7  \n",
       "3     18.7  394.63   2.94  33.4  \n",
       "4     18.7  396.90   5.33  36.2  "
      ]
     },
     "execution_count": 3,
     "metadata": {},
     "output_type": "execute_result"
    }
   ],
   "source": [
    "# Importing pandas\n",
    "import pandas as pd\n",
    "\n",
    "# Reading the tab-delimited dataset into a DataFile and adding column names from the housing.names file shown above\n",
    "df = pd.read_csv(\"https://archive.ics.uci.edu/ml/machine-learning-databases/housing/housing.data\", sep='\\s+', names=[\"CRIM\", \"ZN\", \"INDUS\", \"CHAS\", \"NOX\", \"RM\", \"AGE\", \"DIS\", \"RAD\", \"TAX\", \"PTRATIO\", \"B\", \"LSTAT\", \"MEDV\"])\n",
    "\n",
    "# Viewing the first five rows of the dataset\n",
    "df.head()"
   ]
  },
  {
   "cell_type": "markdown",
   "metadata": {},
   "source": [
    "## Visualising the dataset\n",
    "\n",
    "### Scatter plots\n",
    "\n",
    "The MEDV is the variable that we will be trying to predict using the keras machine learning library.\n",
    "\n",
    "From the scatter plot below, there appears to be a negative correlation with house prices and the following: CRIM, INDUS, NOX, LSTAT, PTRATIO and possibly TAX.\n",
    "\n",
    "There appears to be a positive correlation between house prices and RM"
   ]
  },
  {
   "cell_type": "code",
   "execution_count": 4,
   "metadata": {},
   "outputs": [
    {
     "data": {
      "text/plain": [
       "<Figure size 432x288 with 0 Axes>"
      ]
     },
     "metadata": {},
     "output_type": "display_data"
    },
    {
     "data": {
      "image/png": "[encoded data removed]",
      "text/plain": [
       "<Figure size 1008x1152 with 15 Axes>"
      ]
     },
     "metadata": {
      "needs_background": "light"
     },
     "output_type": "display_data"
    }
   ],
   "source": [
    "# Adapted from https://github.com/Tsmith5151/Boston-Housing-Prices/blob/master/boston_housing.ipynb\n",
    "%matplotlib inline\n",
    "import matplotlib.pyplot as plt\n",
    "\n",
    "plt.figure()\n",
    "fig,axes = plt.subplots(5, 3, figsize=(14, 16))\n",
    "fig.subplots_adjust(wspace=.2, hspace=.4)\n",
    "img_index = 0\n",
    "\n",
    "rows, cols = df.shape\n",
    "\n",
    "for i in range(cols - 1):\n",
    "    row, col = i // 3, i % 3\n",
    "    axes[row][col].scatter(df.iloc[:, i], df.loc[:, \"MEDV\"], alpha=0.5, s=10)\n",
    "    axes[row][col].set_title(df.columns[i] + ' and MEDV')\n",
    "    axes[row][col].set_xlabel(df.columns[i])        \n",
    "    axes[row][col].set_ylabel('MEDV')\n",
    "plt.show()"
   ]
  },
  {
   "cell_type": "markdown",
   "metadata": {},
   "source": [
    "### Creating a correlation heat map"
   ]
  },
  {
   "cell_type": "code",
   "execution_count": 4,
   "metadata": {},
   "outputs": [
    {
     "data": {
      "image/png": "[encoded data removed]",
      "text/plain": [
       "<Figure size 1008x576 with 2 Axes>"
      ]
     },
     "metadata": {},
     "output_type": "display_data"
    }
   ],
   "source": [
    "import pandas as pd\n",
    "import matplotlib.pyplot as plt\n",
    "import seaborn as sns\n",
    "\n",
    "# Creating a correlation matrix\n",
    "corr = df.corr()\n",
    "\n",
    "# Reducing the correlation matrix to a single column, and 12 rows (not showing MEDV vs MEDV)\n",
    "corr = pd.DataFrame(corr[\"MEDV\"][0:13])\n",
    "\n",
    "# Setting the size of the heat map\n",
    "sns.set(rc={'figure.figsize':(14,8)})\n",
    "\n",
    "# Sorting corr in descending order\n",
    "corrSorted = corr.sort_values(by=[\"MEDV\"], ascending=False)\n",
    "\n",
    "# Creating the correlation heatmap\n",
    "sns.heatmap(corrSorted, annot=True, cmap='RdBu', vmin=-0.8, vmax=0.8)\n",
    "\n",
    "\n",
    "# From https://github.com/mwaskom/seaborn/issues/1773\n",
    "# fix for mpl bug that cuts off top/bottom of seaborn viz\n",
    "b, t = plt.ylim() # discover the values for bottom and top\n",
    "b += 0.5 # Add 0.5 to the bottom\n",
    "t -= 0.5 # Subtract 0.5 from the top\n",
    "plt.ylim(b, t) # update the ylim(bottom, top) values\n",
    "\n",
    "\n",
    "# Showing the heatmap\n",
    "plt.show()"
   ]
  },
  {
   "cell_type": "markdown",
   "metadata": {},
   "source": [
    "### Deciding which variables to look at\n",
    "\n",
    "From the above the variables that strongly correlate with MEDV (either positively or negatively) are LSTAT (-0.74),PTRATIO (-0.51) and RM (0.70). These are the variables that I will use later on to build a prediction model to predict the median house price. I will also look at CHAS as the next section looks at using inferential statistics to analyse whether there is a significant difference in median house prices between houses that are along the Charles river and those that are not."
   ]
  },
  {
   "cell_type": "markdown",
   "metadata": {},
   "source": [
    "### Summary statistics"
   ]
  },
  {
   "cell_type": "code",
   "execution_count": 5,
   "metadata": {},
   "outputs": [
    {
     "data": {
      "text/html": [
       "<div>\n",
       "<style scoped>\n",
       "    .dataframe tbody tr th:only-of-type {\n",
       "        vertical-align: middle;\n",
       "    }\n",
       "\n",
       "    .dataframe tbody tr th {\n",
       "        vertical-align: top;\n",
       "    }\n",
       "\n",
       "    .dataframe thead th {\n",
       "        text-align: right;\n",
       "    }\n",
       "</style>\n",
       "<table border=\"1\" class=\"dataframe\">\n",
       "  <thead>\n",
       "    <tr style=\"text-align: right;\">\n",
       "      <th></th>\n",
       "      <th>CRIM</th>\n",
       "      <th>ZN</th>\n",
       "      <th>INDUS</th>\n",
       "      <th>CHAS</th>\n",
       "      <th>NOX</th>\n",
       "      <th>RM</th>\n",
       "      <th>AGE</th>\n",
       "      <th>DIS</th>\n",
       "      <th>RAD</th>\n",
       "      <th>TAX</th>\n",
       "      <th>PTRATIO</th>\n",
       "      <th>B</th>\n",
       "      <th>LSTAT</th>\n",
       "      <th>MEDV</th>\n",
       "    </tr>\n",
       "  </thead>\n",
       "  <tbody>\n",
       "    <tr>\n",
       "      <td>count</td>\n",
       "      <td>506.000000</td>\n",
       "      <td>506.000000</td>\n",
       "      <td>506.000000</td>\n",
       "      <td>506.000000</td>\n",
       "      <td>506.000000</td>\n",
       "      <td>506.000000</td>\n",
       "      <td>506.000000</td>\n",
       "      <td>506.000000</td>\n",
       "      <td>506.000000</td>\n",
       "      <td>506.000000</td>\n",
       "      <td>506.000000</td>\n",
       "      <td>506.000000</td>\n",
       "      <td>506.000000</td>\n",
       "      <td>506.000000</td>\n",
       "    </tr>\n",
       "    <tr>\n",
       "      <td>mean</td>\n",
       "      <td>3.613524</td>\n",
       "      <td>11.363636</td>\n",
       "      <td>11.136779</td>\n",
       "      <td>0.069170</td>\n",
       "      <td>0.554695</td>\n",
       "      <td>6.284634</td>\n",
       "      <td>68.574901</td>\n",
       "      <td>3.795043</td>\n",
       "      <td>9.549407</td>\n",
       "      <td>408.237154</td>\n",
       "      <td>18.455534</td>\n",
       "      <td>356.674032</td>\n",
       "      <td>12.653063</td>\n",
       "      <td>22.532806</td>\n",
       "    </tr>\n",
       "    <tr>\n",
       "      <td>std</td>\n",
       "      <td>8.601545</td>\n",
       "      <td>23.322453</td>\n",
       "      <td>6.860353</td>\n",
       "      <td>0.253994</td>\n",
       "      <td>0.115878</td>\n",
       "      <td>0.702617</td>\n",
       "      <td>28.148861</td>\n",
       "      <td>2.105710</td>\n",
       "      <td>8.707259</td>\n",
       "      <td>168.537116</td>\n",
       "      <td>2.164946</td>\n",
       "      <td>91.294864</td>\n",
       "      <td>7.141062</td>\n",
       "      <td>9.197104</td>\n",
       "    </tr>\n",
       "    <tr>\n",
       "      <td>min</td>\n",
       "      <td>0.006320</td>\n",
       "      <td>0.000000</td>\n",
       "      <td>0.460000</td>\n",
       "      <td>0.000000</td>\n",
       "      <td>0.385000</td>\n",
       "      <td>3.561000</td>\n",
       "      <td>2.900000</td>\n",
       "      <td>1.129600</td>\n",
       "      <td>1.000000</td>\n",
       "      <td>187.000000</td>\n",
       "      <td>12.600000</td>\n",
       "      <td>0.320000</td>\n",
       "      <td>1.730000</td>\n",
       "      <td>5.000000</td>\n",
       "    </tr>\n",
       "    <tr>\n",
       "      <td>25%</td>\n",
       "      <td>0.082045</td>\n",
       "      <td>0.000000</td>\n",
       "      <td>5.190000</td>\n",
       "      <td>0.000000</td>\n",
       "      <td>0.449000</td>\n",
       "      <td>5.885500</td>\n",
       "      <td>45.025000</td>\n",
       "      <td>2.100175</td>\n",
       "      <td>4.000000</td>\n",
       "      <td>279.000000</td>\n",
       "      <td>17.400000</td>\n",
       "      <td>375.377500</td>\n",
       "      <td>6.950000</td>\n",
       "      <td>17.025000</td>\n",
       "    </tr>\n",
       "    <tr>\n",
       "      <td>50%</td>\n",
       "      <td>0.256510</td>\n",
       "      <td>0.000000</td>\n",
       "      <td>9.690000</td>\n",
       "      <td>0.000000</td>\n",
       "      <td>0.538000</td>\n",
       "      <td>6.208500</td>\n",
       "      <td>77.500000</td>\n",
       "      <td>3.207450</td>\n",
       "      <td>5.000000</td>\n",
       "      <td>330.000000</td>\n",
       "      <td>19.050000</td>\n",
       "      <td>391.440000</td>\n",
       "      <td>11.360000</td>\n",
       "      <td>21.200000</td>\n",
       "    </tr>\n",
       "    <tr>\n",
       "      <td>75%</td>\n",
       "      <td>3.677082</td>\n",
       "      <td>12.500000</td>\n",
       "      <td>18.100000</td>\n",
       "      <td>0.000000</td>\n",
       "      <td>0.624000</td>\n",
       "      <td>6.623500</td>\n",
       "      <td>94.075000</td>\n",
       "      <td>5.188425</td>\n",
       "      <td>24.000000</td>\n",
       "      <td>666.000000</td>\n",
       "      <td>20.200000</td>\n",
       "      <td>396.225000</td>\n",
       "      <td>16.955000</td>\n",
       "      <td>25.000000</td>\n",
       "    </tr>\n",
       "    <tr>\n",
       "      <td>max</td>\n",
       "      <td>88.976200</td>\n",
       "      <td>100.000000</td>\n",
       "      <td>27.740000</td>\n",
       "      <td>1.000000</td>\n",
       "      <td>0.871000</td>\n",
       "      <td>8.780000</td>\n",
       "      <td>100.000000</td>\n",
       "      <td>12.126500</td>\n",
       "      <td>24.000000</td>\n",
       "      <td>711.000000</td>\n",
       "      <td>22.000000</td>\n",
       "      <td>396.900000</td>\n",
       "      <td>37.970000</td>\n",
       "      <td>50.000000</td>\n",
       "    </tr>\n",
       "  </tbody>\n",
       "</table>\n",
       "</div>"
      ],
      "text/plain": [
       "             CRIM          ZN       INDUS        CHAS         NOX          RM  \\\n",
       "count  506.000000  506.000000  506.000000  506.000000  506.000000  506.000000   \n",
       "mean     3.613524   11.363636   11.136779    0.069170    0.554695    6.284634   \n",
       "std      8.601545   23.322453    6.860353    0.253994    0.115878    0.702617   \n",
       "min      0.006320    0.000000    0.460000    0.000000    0.385000    3.561000   \n",
       "25%      0.082045    0.000000    5.190000    0.000000    0.449000    5.885500   \n",
       "50%      0.256510    0.000000    9.690000    0.000000    0.538000    6.208500   \n",
       "75%      3.677082   12.500000   18.100000    0.000000    0.624000    6.623500   \n",
       "max     88.976200  100.000000   27.740000    1.000000    0.871000    8.780000   \n",
       "\n",
       "              AGE         DIS         RAD         TAX     PTRATIO           B  \\\n",
       "count  506.000000  506.000000  506.000000  506.000000  506.000000  506.000000   \n",
       "mean    68.574901    3.795043    9.549407  408.237154   18.455534  356.674032   \n",
       "std     28.148861    2.105710    8.707259  168.537116    2.164946   91.294864   \n",
       "min      2.900000    1.129600    1.000000  187.000000   12.600000    0.320000   \n",
       "25%     45.025000    2.100175    4.000000  279.000000   17.400000  375.377500   \n",
       "50%     77.500000    3.207450    5.000000  330.000000   19.050000  391.440000   \n",
       "75%     94.075000    5.188425   24.000000  666.000000   20.200000  396.225000   \n",
       "max    100.000000   12.126500   24.000000  711.000000   22.000000  396.900000   \n",
       "\n",
       "            LSTAT        MEDV  \n",
       "count  506.000000  506.000000  \n",
       "mean    12.653063   22.532806  \n",
       "std      7.141062    9.197104  \n",
       "min      1.730000    5.000000  \n",
       "25%      6.950000   17.025000  \n",
       "50%     11.360000   21.200000  \n",
       "75%     16.955000   25.000000  \n",
       "max     37.970000   50.000000  "
      ]
     },
     "execution_count": 5,
     "metadata": {},
     "output_type": "execute_result"
    }
   ],
   "source": [
    "df.describe()"
   ]
  },
  {
   "cell_type": "code",
   "execution_count": 33,
   "metadata": {},
   "outputs": [
    {
     "data": {
      "text/plain": [
       "<Figure size 432x288 with 0 Axes>"
      ]
     },
     "metadata": {},
     "output_type": "display_data"
    },
    {
     "data": {
      "image/png": "[encoded data removed]",
      "text/plain": [
       "<Figure size 1008x1152 with 15 Axes>"
      ]
     },
     "metadata": {
      "needs_background": "light"
     },
     "output_type": "display_data"
    }
   ],
   "source": [
    "# Adapted from https://github.com/Tsmith5151/Boston-Housing-Prices/blob/master/boston_housing.ipynb\n",
    "%matplotlib inline\n",
    "import matplotlib.pyplot as plt\n",
    "\n",
    "plt.figure()\n",
    "fig,axes = plt.subplots(5, 3, figsize=(14, 16))\n",
    "fig.subplots_adjust(wspace=.2, hspace=.4)\n",
    "img_index = 0\n",
    "\n",
    "rows, cols = df.shape\n",
    "\n",
    "for i in range(cols - 1):\n",
    "    row, col = i // 3, i % 3\n",
    "    axes[row][col].hist(df.iloc[:, i], bins=15)\n",
    "    axes[row][col].set_title(df.columns[i])\n",
    "    #axes[row][col].set_xlabel(df.columns[i])        \n",
    "    #axes[row][col].set_ylabel('')\n",
    "plt.show()"
   ]
  },
  {
   "cell_type": "markdown",
   "metadata": {},
   "source": [
    "## Inferential Statistics\n",
    "\n",
    "We are interested in determining if there is a significant difference in house prices between houses that are along the Charles River and those that aren't. The Boston House Prices dataset does not contain the data for the entire population of houses in Boston but instead contains a sample which are the median values for each town. We can use inferential statistics to make inferences about the population from the sample data [towardsdatascience-Inferential Statistics for Data Science](https://towardsdatascience.com/inferential-statistics-for-data-science-b0075670fc8a). Inferential statistics can be used to determine the probability that there is a true relationship between two variables [Science Direct-Inferential Statistics](https://www.sciencedirect.com/topics/medicine-and-dentistry/inferential-statistics).  "
   ]
  },
  {
   "cell_type": "markdown",
   "metadata": {},
   "source": [
    "### Selecting an appropriate test\n",
    "\n",
    "\n",
    "\n",
    "#### Requirements for a Student t-test\n",
    "\n",
    "Before conducting a t-test we will first examine if doing a t-test in this case is appropriate. \n",
    "\n",
    "(need reference to list of requirements for t-test)\n",
    "\n",
    "\n",
    "MEDV distribution for tracts along Charles River and MEDV distribution for tracts not along Charles River.\n",
    "\n",
    "As the two CHAS variables are independent of each other then an independent t-test should be used as apposed to .....\n",
    "\n",
    "There will be only one comparison made: MEDV for CHAS = 0 and MEDV for CHAS = 1. As there is only one comparison to be made an ANOVA isn't necessary in this case and a t-test will be sufficient.\n",
    "\n",
    "\n",
    "...........\n",
    "\n",
    "Unequal sample sizes and different variances, therefore Student t-test is not appropriate\n",
    "\n",
    "#### Requirements for a Welch t-test\n",
    "Welch test can be used in place of the student t-test where the variance and/or sample sizes differ.\n",
    "\n",
    "\n",
    "However, as seen below the distributions are not normal which is also a requirement for the Welch test **give reference**\n",
    "\n",
    "#### Non-Parametric Data\n",
    "\n",
    "As the data is not normally distributed a non-parametric test should be used. [University of Minnesota-Types of Statistical Test](https://cyfar.org/types-statistical-tests). The Mann-Whitney U test (or Wilcoxon rank-sum test) can be used for non-para-metric data to test for the difference between two independent variables.[University of Minnesota-Types of Statistical Test](https://cyfar.org/types-statistical-tests)\n"
   ]
  },
  {
   "cell_type": "code",
   "execution_count": null,
   "metadata": {},
   "outputs": [],
   "source": []
  },
  {
   "cell_type": "markdown",
   "metadata": {},
   "source": [
    "#### Visualising the data to determine if they are normally distributed"
   ]
  },
  {
   "cell_type": "code",
   "execution_count": 7,
   "metadata": {},
   "outputs": [],
   "source": [
    "# Importing seaborn to create distplots\n",
    "import seaborn as sns"
   ]
  },
  {
   "cell_type": "code",
   "execution_count": 8,
   "metadata": {},
   "outputs": [
    {
     "name": "stderr",
     "output_type": "stream",
     "text": [
      "C:\\ProgramData\\Anaconda3\\lib\\site-packages\\scipy\\stats\\stats.py:1713: FutureWarning: Using a non-tuple sequence for multidimensional indexing is deprecated; use `arr[tuple(seq)]` instead of `arr[seq]`. In the future this will be interpreted as an array index, `arr[np.array(seq)]`, which will result either in an error or a different result.\n",
      "  return np.add.reduce(sorted[indexer] * weights, axis=axis) / sumval\n"
     ]
    },
    {
     "data": {
      "text/plain": [
       "<matplotlib.axes._subplots.AxesSubplot at 0x13a65bb5898>"
      ]
     },
     "execution_count": 8,
     "metadata": {},
     "output_type": "execute_result"
    },
    {
     "data": {
      "image/png": "[encoded data removed]",
      "text/plain": [
       "<Figure size 1008x576 with 1 Axes>"
      ]
     },
     "metadata": {},
     "output_type": "display_data"
    }
   ],
   "source": [
    "# Displot for tract not along Charles River\n",
    "sns.distplot(df[\"MEDV\"][df[\"CHAS\"] == 0])"
   ]
  },
  {
   "cell_type": "code",
   "execution_count": 9,
   "metadata": {},
   "outputs": [
    {
     "data": {
      "text/plain": [
       "<matplotlib.axes._subplots.AxesSubplot at 0x13a66271278>"
      ]
     },
     "execution_count": 9,
     "metadata": {},
     "output_type": "execute_result"
    },
    {
     "data": {
      "image/png": "[encoded data removed]",
      "text/plain": [
       "<Figure size 1008x576 with 1 Axes>"
      ]
     },
     "metadata": {},
     "output_type": "display_data"
    }
   ],
   "source": [
    "# Displot for tract along Charles River\n",
    "sns.distplot(df[\"MEDV\"][df[\"CHAS\"] == 1])"
   ]
  },
  {
   "cell_type": "code",
   "execution_count": 10,
   "metadata": {},
   "outputs": [
    {
     "data": {
      "text/plain": [
       "(0.8359232544898987, 0.00011230883683310822)"
      ]
     },
     "execution_count": 10,
     "metadata": {},
     "output_type": "execute_result"
    }
   ],
   "source": [
    "# Importing stats module from scipy\n",
    "from scipy import stats\n",
    "\n",
    "# Determining if the distribution for tracts along Charles River are normal\n",
    "stats.shapiro(df[\"MEDV\"][df[\"CHAS\"] == 1])"
   ]
  },
  {
   "cell_type": "code",
   "execution_count": 11,
   "metadata": {},
   "outputs": [
    {
     "data": {
      "text/plain": [
       "(0.9282605051994324, 3.113930960958397e-14)"
      ]
     },
     "execution_count": 11,
     "metadata": {},
     "output_type": "execute_result"
    }
   ],
   "source": [
    "# Determining if the distribution for tracts not along the Charles River are normal\n",
    "stats.shapiro(df[\"MEDV\"][df[\"CHAS\"] == 0])"
   ]
  },
  {
   "cell_type": "code",
   "execution_count": 12,
   "metadata": {},
   "outputs": [
    {
     "data": {
      "text/plain": [
       "CHAS\n",
       "0    22.093843\n",
       "1    28.440000\n",
       "Name: MEDV, dtype: float64"
      ]
     },
     "execution_count": 12,
     "metadata": {},
     "output_type": "execute_result"
    }
   ],
   "source": [
    "# Determining the mean for both groups\n",
    "df[\"MEDV\"].groupby(df[\"CHAS\"]).mean()"
   ]
  },
  {
   "cell_type": "code",
   "execution_count": 13,
   "metadata": {},
   "outputs": [
    {
     "data": {
      "text/plain": [
       "CHAS\n",
       "0    471\n",
       "1     35\n",
       "Name: MEDV, dtype: int64"
      ]
     },
     "execution_count": 13,
     "metadata": {},
     "output_type": "execute_result"
    }
   ],
   "source": [
    "# Determining the count for both groups\n",
    "df[\"MEDV\"].groupby(df[\"CHAS\"]).count()"
   ]
  },
  {
   "cell_type": "code",
   "execution_count": 14,
   "metadata": {},
   "outputs": [
    {
     "data": {
      "text/plain": [
       "CHAS\n",
       "0     77.992962\n",
       "1    139.633059\n",
       "Name: MEDV, dtype: float64"
      ]
     },
     "execution_count": 14,
     "metadata": {},
     "output_type": "execute_result"
    }
   ],
   "source": [
    "# Determining the variance for both groups\n",
    "df[\"MEDV\"].groupby(df[\"CHAS\"]).var()"
   ]
  },
  {
   "cell_type": "code",
   "execution_count": 15,
   "metadata": {},
   "outputs": [
    {
     "data": {
      "text/plain": [
       "CHAS\n",
       "0     8.831362\n",
       "1    11.816643\n",
       "Name: MEDV, dtype: float64"
      ]
     },
     "execution_count": 15,
     "metadata": {},
     "output_type": "execute_result"
    }
   ],
   "source": [
    "# Determining the standard deviation for both groups\n",
    "df[\"MEDV\"].groupby(df[\"CHAS\"]).std()"
   ]
  },
  {
   "cell_type": "markdown",
   "metadata": {},
   "source": [
    "### Student t-test\n",
    "\n",
    "The p-value for the Student t-test is less than 0.05 which strongly suggests that the sample distributions are different."
   ]
  },
  {
   "cell_type": "code",
   "execution_count": 16,
   "metadata": {},
   "outputs": [
    {
     "data": {
      "text/plain": [
       "7.390623170519905e-05"
      ]
     },
     "execution_count": 16,
     "metadata": {},
     "output_type": "execute_result"
    }
   ],
   "source": [
    "# Code for Student t-test\n",
    "\n",
    "from scipy.stats import ttest_ind as tti\n",
    "\n",
    "stti_stat, stti_p = tti(df[\"MEDV\"][df[\"CHAS\"] == 0], df[\"MEDV\"][df[\"CHAS\"] == 1], equal_var=True)\n",
    "\n",
    "stti_p"
   ]
  },
  {
   "cell_type": "markdown",
   "metadata": {},
   "source": [
    "### Welch t-test\n",
    "\n",
    "The p-value for the Welch t-test is less than 0.05 which strongly suggests that the sample distributions are different."
   ]
  },
  {
   "cell_type": "code",
   "execution_count": 17,
   "metadata": {},
   "outputs": [
    {
     "data": {
      "text/plain": [
       "0.003567170098137517"
      ]
     },
     "execution_count": 17,
     "metadata": {},
     "output_type": "execute_result"
    }
   ],
   "source": [
    "# Code for Welch t-test\n",
    "\n",
    "from scipy.stats import ttest_ind as tti\n",
    "\n",
    "wtti_stat, wtti_p = tti(df[\"MEDV\"][df[\"CHAS\"] == 0], df[\"MEDV\"][df[\"CHAS\"] == 1], equal_var=False)\n",
    "\n",
    "wtti_p"
   ]
  },
  {
   "cell_type": "markdown",
   "metadata": {},
   "source": [
    "### Mann-Whitney U test \n",
    "\n",
    "The p-value for the Mann-Whitney U test is less than 0.05 which strongly suggests that the sample distributions are different."
   ]
  },
  {
   "cell_type": "code",
   "execution_count": 18,
   "metadata": {},
   "outputs": [
    {
     "data": {
      "text/plain": [
       "MannwhitneyuResult(statistic=5605.5, pvalue=0.0007908352505647487)"
      ]
     },
     "execution_count": 18,
     "metadata": {},
     "output_type": "execute_result"
    }
   ],
   "source": [
    "# Code for Mann-Whitney U test\n",
    "\n",
    "from scipy.stats import mannwhitneyu as mwu\n",
    "\n",
    "mwu(df[\"MEDV\"][df[\"CHAS\"] == 0], df[\"MEDV\"][df[\"CHAS\"] == 1])"
   ]
  },
  {
   "cell_type": "markdown",
   "metadata": {},
   "source": [
    "### Hypothesis testing"
   ]
  },
  {
   "cell_type": "code",
   "execution_count": null,
   "metadata": {},
   "outputs": [],
   "source": []
  },
  {
   "cell_type": "markdown",
   "metadata": {},
   "source": [
    "## Predict\n",
    "\n",
    "This is a regression predictive modeling problem. Regression predictive modeling problems involve predicting a real-valued quantity [machinelearningmastery - How to Choose Loss Functions When Training Deep Learning Neural Networks](https://machinelearningmastery.com/how-to-choose-loss-functions-when-training-deep-learning-neural-networks/)"
   ]
  },
  {
   "cell_type": "markdown",
   "metadata": {},
   "source": [
    "### Preparing the data for the neural network"
   ]
  },
  {
   "cell_type": "markdown",
   "metadata": {},
   "source": [
    "Creating separate columns for true and false values for CHAS"
   ]
  },
  {
   "cell_type": "code",
   "execution_count": 19,
   "metadata": {},
   "outputs": [],
   "source": [
    "import numpy as np\n",
    "\n",
    "# Adapted from course materials\n",
    "df[\"CHAS_True\"] = df[\"CHAS\"]\n",
    "df[\"CHAS_False\"] = (df[\"CHAS\"] == 0).astype(np.int)"
   ]
  },
  {
   "cell_type": "markdown",
   "metadata": {},
   "source": [
    "Separating the data into the independent variables 'PTRATIO', 'RM' and 'INDUS' and the target variable 'MEDV'"
   ]
  },
  {
   "cell_type": "code",
   "execution_count": 20,
   "metadata": {},
   "outputs": [],
   "source": [
    "# Input/independent variables\n",
    "X = df.drop(columns=[\"MEDV\", \"CHAS\"])\n",
    "\n",
    "# Output/dependent variable\n",
    "y = df[\"MEDV\"]"
   ]
  },
  {
   "cell_type": "markdown",
   "metadata": {},
   "source": []
  },
  {
   "cell_type": "code",
   "execution_count": 21,
   "metadata": {},
   "outputs": [
    {
     "data": {
      "text/html": [
       "<div>\n",
       "<style scoped>\n",
       "    .dataframe tbody tr th:only-of-type {\n",
       "        vertical-align: middle;\n",
       "    }\n",
       "\n",
       "    .dataframe tbody tr th {\n",
       "        vertical-align: top;\n",
       "    }\n",
       "\n",
       "    .dataframe thead th {\n",
       "        text-align: right;\n",
       "    }\n",
       "</style>\n",
       "<table border=\"1\" class=\"dataframe\">\n",
       "  <thead>\n",
       "    <tr style=\"text-align: right;\">\n",
       "      <th></th>\n",
       "      <th>CRIM</th>\n",
       "      <th>ZN</th>\n",
       "      <th>INDUS</th>\n",
       "      <th>NOX</th>\n",
       "      <th>RM</th>\n",
       "      <th>AGE</th>\n",
       "      <th>DIS</th>\n",
       "      <th>RAD</th>\n",
       "      <th>TAX</th>\n",
       "      <th>PTRATIO</th>\n",
       "      <th>B</th>\n",
       "      <th>LSTAT</th>\n",
       "      <th>CHAS_True</th>\n",
       "      <th>CHAS_False</th>\n",
       "    </tr>\n",
       "  </thead>\n",
       "  <tbody>\n",
       "    <tr>\n",
       "      <td>0</td>\n",
       "      <td>0.00632</td>\n",
       "      <td>18.0</td>\n",
       "      <td>2.31</td>\n",
       "      <td>0.538</td>\n",
       "      <td>6.575</td>\n",
       "      <td>65.2</td>\n",
       "      <td>4.0900</td>\n",
       "      <td>1</td>\n",
       "      <td>296.0</td>\n",
       "      <td>15.3</td>\n",
       "      <td>396.90</td>\n",
       "      <td>4.98</td>\n",
       "      <td>0</td>\n",
       "      <td>1</td>\n",
       "    </tr>\n",
       "    <tr>\n",
       "      <td>1</td>\n",
       "      <td>0.02731</td>\n",
       "      <td>0.0</td>\n",
       "      <td>7.07</td>\n",
       "      <td>0.469</td>\n",
       "      <td>6.421</td>\n",
       "      <td>78.9</td>\n",
       "      <td>4.9671</td>\n",
       "      <td>2</td>\n",
       "      <td>242.0</td>\n",
       "      <td>17.8</td>\n",
       "      <td>396.90</td>\n",
       "      <td>9.14</td>\n",
       "      <td>0</td>\n",
       "      <td>1</td>\n",
       "    </tr>\n",
       "    <tr>\n",
       "      <td>2</td>\n",
       "      <td>0.02729</td>\n",
       "      <td>0.0</td>\n",
       "      <td>7.07</td>\n",
       "      <td>0.469</td>\n",
       "      <td>7.185</td>\n",
       "      <td>61.1</td>\n",
       "      <td>4.9671</td>\n",
       "      <td>2</td>\n",
       "      <td>242.0</td>\n",
       "      <td>17.8</td>\n",
       "      <td>392.83</td>\n",
       "      <td>4.03</td>\n",
       "      <td>0</td>\n",
       "      <td>1</td>\n",
       "    </tr>\n",
       "    <tr>\n",
       "      <td>3</td>\n",
       "      <td>0.03237</td>\n",
       "      <td>0.0</td>\n",
       "      <td>2.18</td>\n",
       "      <td>0.458</td>\n",
       "      <td>6.998</td>\n",
       "      <td>45.8</td>\n",
       "      <td>6.0622</td>\n",
       "      <td>3</td>\n",
       "      <td>222.0</td>\n",
       "      <td>18.7</td>\n",
       "      <td>394.63</td>\n",
       "      <td>2.94</td>\n",
       "      <td>0</td>\n",
       "      <td>1</td>\n",
       "    </tr>\n",
       "    <tr>\n",
       "      <td>4</td>\n",
       "      <td>0.06905</td>\n",
       "      <td>0.0</td>\n",
       "      <td>2.18</td>\n",
       "      <td>0.458</td>\n",
       "      <td>7.147</td>\n",
       "      <td>54.2</td>\n",
       "      <td>6.0622</td>\n",
       "      <td>3</td>\n",
       "      <td>222.0</td>\n",
       "      <td>18.7</td>\n",
       "      <td>396.90</td>\n",
       "      <td>5.33</td>\n",
       "      <td>0</td>\n",
       "      <td>1</td>\n",
       "    </tr>\n",
       "  </tbody>\n",
       "</table>\n",
       "</div>"
      ],
      "text/plain": [
       "      CRIM    ZN  INDUS    NOX     RM   AGE     DIS  RAD    TAX  PTRATIO  \\\n",
       "0  0.00632  18.0   2.31  0.538  6.575  65.2  4.0900    1  296.0     15.3   \n",
       "1  0.02731   0.0   7.07  0.469  6.421  78.9  4.9671    2  242.0     17.8   \n",
       "2  0.02729   0.0   7.07  0.469  7.185  61.1  4.9671    2  242.0     17.8   \n",
       "3  0.03237   0.0   2.18  0.458  6.998  45.8  6.0622    3  222.0     18.7   \n",
       "4  0.06905   0.0   2.18  0.458  7.147  54.2  6.0622    3  222.0     18.7   \n",
       "\n",
       "        B  LSTAT  CHAS_True  CHAS_False  \n",
       "0  396.90   4.98          0           1  \n",
       "1  396.90   9.14          0           1  \n",
       "2  392.83   4.03          0           1  \n",
       "3  394.63   2.94          0           1  \n",
       "4  396.90   5.33          0           1  "
      ]
     },
     "execution_count": 21,
     "metadata": {},
     "output_type": "execute_result"
    }
   ],
   "source": [
    "X.head()"
   ]
  },
  {
   "cell_type": "code",
   "execution_count": 22,
   "metadata": {},
   "outputs": [
    {
     "data": {
      "text/plain": [
       "0    24.0\n",
       "1    21.6\n",
       "2    34.7\n",
       "3    33.4\n",
       "4    36.2\n",
       "Name: MEDV, dtype: float64"
      ]
     },
     "execution_count": 22,
     "metadata": {},
     "output_type": "execute_result"
    }
   ],
   "source": [
    "y.head()"
   ]
  },
  {
   "cell_type": "markdown",
   "metadata": {},
   "source": [
    "#### Splitting datasets into random train and test subsets\n",
    "\n",
    "Setting the test size to 33% of the dataset"
   ]
  },
  {
   "cell_type": "code",
   "execution_count": 23,
   "metadata": {},
   "outputs": [],
   "source": [
    "# Importing train test split from sklearn\n",
    "from sklearn.model_selection import train_test_split\n",
    "\n",
    "# Splitting the output and input datasets into train and test subsets\n",
    "X_train, X_test, y_train, y_test = train_test_split(X, y, test_size=0.33)"
   ]
  },
  {
   "cell_type": "code",
   "execution_count": 24,
   "metadata": {},
   "outputs": [
    {
     "data": {
      "text/html": [
       "<div>\n",
       "<style scoped>\n",
       "    .dataframe tbody tr th:only-of-type {\n",
       "        vertical-align: middle;\n",
       "    }\n",
       "\n",
       "    .dataframe tbody tr th {\n",
       "        vertical-align: top;\n",
       "    }\n",
       "\n",
       "    .dataframe thead th {\n",
       "        text-align: right;\n",
       "    }\n",
       "</style>\n",
       "<table border=\"1\" class=\"dataframe\">\n",
       "  <thead>\n",
       "    <tr style=\"text-align: right;\">\n",
       "      <th></th>\n",
       "      <th>CRIM</th>\n",
       "      <th>ZN</th>\n",
       "      <th>INDUS</th>\n",
       "      <th>NOX</th>\n",
       "      <th>RM</th>\n",
       "      <th>AGE</th>\n",
       "      <th>DIS</th>\n",
       "      <th>RAD</th>\n",
       "      <th>TAX</th>\n",
       "      <th>PTRATIO</th>\n",
       "      <th>B</th>\n",
       "      <th>LSTAT</th>\n",
       "      <th>CHAS_True</th>\n",
       "      <th>CHAS_False</th>\n",
       "    </tr>\n",
       "  </thead>\n",
       "  <tbody>\n",
       "    <tr>\n",
       "      <td>110</td>\n",
       "      <td>0.10793</td>\n",
       "      <td>0.0</td>\n",
       "      <td>8.56</td>\n",
       "      <td>0.520</td>\n",
       "      <td>6.195</td>\n",
       "      <td>54.4</td>\n",
       "      <td>2.7778</td>\n",
       "      <td>5</td>\n",
       "      <td>384.0</td>\n",
       "      <td>20.9</td>\n",
       "      <td>393.49</td>\n",
       "      <td>13.00</td>\n",
       "      <td>0</td>\n",
       "      <td>1</td>\n",
       "    </tr>\n",
       "    <tr>\n",
       "      <td>90</td>\n",
       "      <td>0.04684</td>\n",
       "      <td>0.0</td>\n",
       "      <td>3.41</td>\n",
       "      <td>0.489</td>\n",
       "      <td>6.417</td>\n",
       "      <td>66.1</td>\n",
       "      <td>3.0923</td>\n",
       "      <td>2</td>\n",
       "      <td>270.0</td>\n",
       "      <td>17.8</td>\n",
       "      <td>392.18</td>\n",
       "      <td>8.81</td>\n",
       "      <td>0</td>\n",
       "      <td>1</td>\n",
       "    </tr>\n",
       "    <tr>\n",
       "      <td>369</td>\n",
       "      <td>5.66998</td>\n",
       "      <td>0.0</td>\n",
       "      <td>18.10</td>\n",
       "      <td>0.631</td>\n",
       "      <td>6.683</td>\n",
       "      <td>96.8</td>\n",
       "      <td>1.3567</td>\n",
       "      <td>24</td>\n",
       "      <td>666.0</td>\n",
       "      <td>20.2</td>\n",
       "      <td>375.33</td>\n",
       "      <td>3.73</td>\n",
       "      <td>1</td>\n",
       "      <td>0</td>\n",
       "    </tr>\n",
       "    <tr>\n",
       "      <td>243</td>\n",
       "      <td>0.12757</td>\n",
       "      <td>30.0</td>\n",
       "      <td>4.93</td>\n",
       "      <td>0.428</td>\n",
       "      <td>6.393</td>\n",
       "      <td>7.8</td>\n",
       "      <td>7.0355</td>\n",
       "      <td>6</td>\n",
       "      <td>300.0</td>\n",
       "      <td>16.6</td>\n",
       "      <td>374.71</td>\n",
       "      <td>5.19</td>\n",
       "      <td>0</td>\n",
       "      <td>1</td>\n",
       "    </tr>\n",
       "    <tr>\n",
       "      <td>422</td>\n",
       "      <td>12.04820</td>\n",
       "      <td>0.0</td>\n",
       "      <td>18.10</td>\n",
       "      <td>0.614</td>\n",
       "      <td>5.648</td>\n",
       "      <td>87.6</td>\n",
       "      <td>1.9512</td>\n",
       "      <td>24</td>\n",
       "      <td>666.0</td>\n",
       "      <td>20.2</td>\n",
       "      <td>291.55</td>\n",
       "      <td>14.10</td>\n",
       "      <td>0</td>\n",
       "      <td>1</td>\n",
       "    </tr>\n",
       "    <tr>\n",
       "      <td>...</td>\n",
       "      <td>...</td>\n",
       "      <td>...</td>\n",
       "      <td>...</td>\n",
       "      <td>...</td>\n",
       "      <td>...</td>\n",
       "      <td>...</td>\n",
       "      <td>...</td>\n",
       "      <td>...</td>\n",
       "      <td>...</td>\n",
       "      <td>...</td>\n",
       "      <td>...</td>\n",
       "      <td>...</td>\n",
       "      <td>...</td>\n",
       "      <td>...</td>\n",
       "    </tr>\n",
       "    <tr>\n",
       "      <td>129</td>\n",
       "      <td>0.88125</td>\n",
       "      <td>0.0</td>\n",
       "      <td>21.89</td>\n",
       "      <td>0.624</td>\n",
       "      <td>5.637</td>\n",
       "      <td>94.7</td>\n",
       "      <td>1.9799</td>\n",
       "      <td>4</td>\n",
       "      <td>437.0</td>\n",
       "      <td>21.2</td>\n",
       "      <td>396.90</td>\n",
       "      <td>18.34</td>\n",
       "      <td>0</td>\n",
       "      <td>1</td>\n",
       "    </tr>\n",
       "    <tr>\n",
       "      <td>450</td>\n",
       "      <td>6.71772</td>\n",
       "      <td>0.0</td>\n",
       "      <td>18.10</td>\n",
       "      <td>0.713</td>\n",
       "      <td>6.749</td>\n",
       "      <td>92.6</td>\n",
       "      <td>2.3236</td>\n",
       "      <td>24</td>\n",
       "      <td>666.0</td>\n",
       "      <td>20.2</td>\n",
       "      <td>0.32</td>\n",
       "      <td>17.44</td>\n",
       "      <td>0</td>\n",
       "      <td>1</td>\n",
       "    </tr>\n",
       "    <tr>\n",
       "      <td>147</td>\n",
       "      <td>2.36862</td>\n",
       "      <td>0.0</td>\n",
       "      <td>19.58</td>\n",
       "      <td>0.871</td>\n",
       "      <td>4.926</td>\n",
       "      <td>95.7</td>\n",
       "      <td>1.4608</td>\n",
       "      <td>5</td>\n",
       "      <td>403.0</td>\n",
       "      <td>14.7</td>\n",
       "      <td>391.71</td>\n",
       "      <td>29.53</td>\n",
       "      <td>0</td>\n",
       "      <td>1</td>\n",
       "    </tr>\n",
       "    <tr>\n",
       "      <td>16</td>\n",
       "      <td>1.05393</td>\n",
       "      <td>0.0</td>\n",
       "      <td>8.14</td>\n",
       "      <td>0.538</td>\n",
       "      <td>5.935</td>\n",
       "      <td>29.3</td>\n",
       "      <td>4.4986</td>\n",
       "      <td>4</td>\n",
       "      <td>307.0</td>\n",
       "      <td>21.0</td>\n",
       "      <td>386.85</td>\n",
       "      <td>6.58</td>\n",
       "      <td>0</td>\n",
       "      <td>1</td>\n",
       "    </tr>\n",
       "    <tr>\n",
       "      <td>278</td>\n",
       "      <td>0.07978</td>\n",
       "      <td>40.0</td>\n",
       "      <td>6.41</td>\n",
       "      <td>0.447</td>\n",
       "      <td>6.482</td>\n",
       "      <td>32.1</td>\n",
       "      <td>4.1403</td>\n",
       "      <td>4</td>\n",
       "      <td>254.0</td>\n",
       "      <td>17.6</td>\n",
       "      <td>396.90</td>\n",
       "      <td>7.19</td>\n",
       "      <td>0</td>\n",
       "      <td>1</td>\n",
       "    </tr>\n",
       "  </tbody>\n",
       "</table>\n",
       "<p>339 rows × 14 columns</p>\n",
       "</div>"
      ],
      "text/plain": [
       "         CRIM    ZN  INDUS    NOX     RM   AGE     DIS  RAD    TAX  PTRATIO  \\\n",
       "110   0.10793   0.0   8.56  0.520  6.195  54.4  2.7778    5  384.0     20.9   \n",
       "90    0.04684   0.0   3.41  0.489  6.417  66.1  3.0923    2  270.0     17.8   \n",
       "369   5.66998   0.0  18.10  0.631  6.683  96.8  1.3567   24  666.0     20.2   \n",
       "243   0.12757  30.0   4.93  0.428  6.393   7.8  7.0355    6  300.0     16.6   \n",
       "422  12.04820   0.0  18.10  0.614  5.648  87.6  1.9512   24  666.0     20.2   \n",
       "..        ...   ...    ...    ...    ...   ...     ...  ...    ...      ...   \n",
       "129   0.88125   0.0  21.89  0.624  5.637  94.7  1.9799    4  437.0     21.2   \n",
       "450   6.71772   0.0  18.10  0.713  6.749  92.6  2.3236   24  666.0     20.2   \n",
       "147   2.36862   0.0  19.58  0.871  4.926  95.7  1.4608    5  403.0     14.7   \n",
       "16    1.05393   0.0   8.14  0.538  5.935  29.3  4.4986    4  307.0     21.0   \n",
       "278   0.07978  40.0   6.41  0.447  6.482  32.1  4.1403    4  254.0     17.6   \n",
       "\n",
       "          B  LSTAT  CHAS_True  CHAS_False  \n",
       "110  393.49  13.00          0           1  \n",
       "90   392.18   8.81          0           1  \n",
       "369  375.33   3.73          1           0  \n",
       "243  374.71   5.19          0           1  \n",
       "422  291.55  14.10          0           1  \n",
       "..      ...    ...        ...         ...  \n",
       "129  396.90  18.34          0           1  \n",
       "450    0.32  17.44          0           1  \n",
       "147  391.71  29.53          0           1  \n",
       "16   386.85   6.58          0           1  \n",
       "278  396.90   7.19          0           1  \n",
       "\n",
       "[339 rows x 14 columns]"
      ]
     },
     "execution_count": 24,
     "metadata": {},
     "output_type": "execute_result"
    }
   ],
   "source": [
    "X_train"
   ]
  },
  {
   "cell_type": "code",
   "execution_count": 25,
   "metadata": {},
   "outputs": [
    {
     "data": {
      "text/html": [
       "<div>\n",
       "<style scoped>\n",
       "    .dataframe tbody tr th:only-of-type {\n",
       "        vertical-align: middle;\n",
       "    }\n",
       "\n",
       "    .dataframe tbody tr th {\n",
       "        vertical-align: top;\n",
       "    }\n",
       "\n",
       "    .dataframe thead th {\n",
       "        text-align: right;\n",
       "    }\n",
       "</style>\n",
       "<table border=\"1\" class=\"dataframe\">\n",
       "  <thead>\n",
       "    <tr style=\"text-align: right;\">\n",
       "      <th></th>\n",
       "      <th>CRIM</th>\n",
       "      <th>ZN</th>\n",
       "      <th>INDUS</th>\n",
       "      <th>NOX</th>\n",
       "      <th>RM</th>\n",
       "      <th>AGE</th>\n",
       "      <th>DIS</th>\n",
       "      <th>RAD</th>\n",
       "      <th>TAX</th>\n",
       "      <th>PTRATIO</th>\n",
       "      <th>B</th>\n",
       "      <th>LSTAT</th>\n",
       "      <th>CHAS_True</th>\n",
       "      <th>CHAS_False</th>\n",
       "    </tr>\n",
       "  </thead>\n",
       "  <tbody>\n",
       "    <tr>\n",
       "      <td>347</td>\n",
       "      <td>0.01870</td>\n",
       "      <td>85.0</td>\n",
       "      <td>4.15</td>\n",
       "      <td>0.4290</td>\n",
       "      <td>6.516</td>\n",
       "      <td>27.7</td>\n",
       "      <td>8.5353</td>\n",
       "      <td>4</td>\n",
       "      <td>351.0</td>\n",
       "      <td>17.9</td>\n",
       "      <td>392.43</td>\n",
       "      <td>6.36</td>\n",
       "      <td>0</td>\n",
       "      <td>1</td>\n",
       "    </tr>\n",
       "    <tr>\n",
       "      <td>283</td>\n",
       "      <td>0.01501</td>\n",
       "      <td>90.0</td>\n",
       "      <td>1.21</td>\n",
       "      <td>0.4010</td>\n",
       "      <td>7.923</td>\n",
       "      <td>24.8</td>\n",
       "      <td>5.8850</td>\n",
       "      <td>1</td>\n",
       "      <td>198.0</td>\n",
       "      <td>13.6</td>\n",
       "      <td>395.52</td>\n",
       "      <td>3.16</td>\n",
       "      <td>1</td>\n",
       "      <td>0</td>\n",
       "    </tr>\n",
       "    <tr>\n",
       "      <td>36</td>\n",
       "      <td>0.09744</td>\n",
       "      <td>0.0</td>\n",
       "      <td>5.96</td>\n",
       "      <td>0.4990</td>\n",
       "      <td>5.841</td>\n",
       "      <td>61.4</td>\n",
       "      <td>3.3779</td>\n",
       "      <td>5</td>\n",
       "      <td>279.0</td>\n",
       "      <td>19.2</td>\n",
       "      <td>377.56</td>\n",
       "      <td>11.41</td>\n",
       "      <td>0</td>\n",
       "      <td>1</td>\n",
       "    </tr>\n",
       "    <tr>\n",
       "      <td>480</td>\n",
       "      <td>5.82401</td>\n",
       "      <td>0.0</td>\n",
       "      <td>18.10</td>\n",
       "      <td>0.5320</td>\n",
       "      <td>6.242</td>\n",
       "      <td>64.7</td>\n",
       "      <td>3.4242</td>\n",
       "      <td>24</td>\n",
       "      <td>666.0</td>\n",
       "      <td>20.2</td>\n",
       "      <td>396.90</td>\n",
       "      <td>10.74</td>\n",
       "      <td>0</td>\n",
       "      <td>1</td>\n",
       "    </tr>\n",
       "    <tr>\n",
       "      <td>306</td>\n",
       "      <td>0.07503</td>\n",
       "      <td>33.0</td>\n",
       "      <td>2.18</td>\n",
       "      <td>0.4720</td>\n",
       "      <td>7.420</td>\n",
       "      <td>71.9</td>\n",
       "      <td>3.0992</td>\n",
       "      <td>7</td>\n",
       "      <td>222.0</td>\n",
       "      <td>18.4</td>\n",
       "      <td>396.90</td>\n",
       "      <td>6.47</td>\n",
       "      <td>0</td>\n",
       "      <td>1</td>\n",
       "    </tr>\n",
       "    <tr>\n",
       "      <td>...</td>\n",
       "      <td>...</td>\n",
       "      <td>...</td>\n",
       "      <td>...</td>\n",
       "      <td>...</td>\n",
       "      <td>...</td>\n",
       "      <td>...</td>\n",
       "      <td>...</td>\n",
       "      <td>...</td>\n",
       "      <td>...</td>\n",
       "      <td>...</td>\n",
       "      <td>...</td>\n",
       "      <td>...</td>\n",
       "      <td>...</td>\n",
       "      <td>...</td>\n",
       "    </tr>\n",
       "    <tr>\n",
       "      <td>190</td>\n",
       "      <td>0.09068</td>\n",
       "      <td>45.0</td>\n",
       "      <td>3.44</td>\n",
       "      <td>0.4370</td>\n",
       "      <td>6.951</td>\n",
       "      <td>21.5</td>\n",
       "      <td>6.4798</td>\n",
       "      <td>5</td>\n",
       "      <td>398.0</td>\n",
       "      <td>15.2</td>\n",
       "      <td>377.68</td>\n",
       "      <td>5.10</td>\n",
       "      <td>0</td>\n",
       "      <td>1</td>\n",
       "    </tr>\n",
       "    <tr>\n",
       "      <td>29</td>\n",
       "      <td>1.00245</td>\n",
       "      <td>0.0</td>\n",
       "      <td>8.14</td>\n",
       "      <td>0.5380</td>\n",
       "      <td>6.674</td>\n",
       "      <td>87.3</td>\n",
       "      <td>4.2390</td>\n",
       "      <td>4</td>\n",
       "      <td>307.0</td>\n",
       "      <td>21.0</td>\n",
       "      <td>380.23</td>\n",
       "      <td>11.98</td>\n",
       "      <td>0</td>\n",
       "      <td>1</td>\n",
       "    </tr>\n",
       "    <tr>\n",
       "      <td>200</td>\n",
       "      <td>0.01778</td>\n",
       "      <td>95.0</td>\n",
       "      <td>1.47</td>\n",
       "      <td>0.4030</td>\n",
       "      <td>7.135</td>\n",
       "      <td>13.9</td>\n",
       "      <td>7.6534</td>\n",
       "      <td>3</td>\n",
       "      <td>402.0</td>\n",
       "      <td>17.0</td>\n",
       "      <td>384.30</td>\n",
       "      <td>4.45</td>\n",
       "      <td>0</td>\n",
       "      <td>1</td>\n",
       "    </tr>\n",
       "    <tr>\n",
       "      <td>460</td>\n",
       "      <td>4.81213</td>\n",
       "      <td>0.0</td>\n",
       "      <td>18.10</td>\n",
       "      <td>0.7130</td>\n",
       "      <td>6.701</td>\n",
       "      <td>90.0</td>\n",
       "      <td>2.5975</td>\n",
       "      <td>24</td>\n",
       "      <td>666.0</td>\n",
       "      <td>20.2</td>\n",
       "      <td>255.23</td>\n",
       "      <td>16.42</td>\n",
       "      <td>0</td>\n",
       "      <td>1</td>\n",
       "    </tr>\n",
       "    <tr>\n",
       "      <td>64</td>\n",
       "      <td>0.01951</td>\n",
       "      <td>17.5</td>\n",
       "      <td>1.38</td>\n",
       "      <td>0.4161</td>\n",
       "      <td>7.104</td>\n",
       "      <td>59.5</td>\n",
       "      <td>9.2229</td>\n",
       "      <td>3</td>\n",
       "      <td>216.0</td>\n",
       "      <td>18.6</td>\n",
       "      <td>393.24</td>\n",
       "      <td>8.05</td>\n",
       "      <td>0</td>\n",
       "      <td>1</td>\n",
       "    </tr>\n",
       "  </tbody>\n",
       "</table>\n",
       "<p>167 rows × 14 columns</p>\n",
       "</div>"
      ],
      "text/plain": [
       "        CRIM    ZN  INDUS     NOX     RM   AGE     DIS  RAD    TAX  PTRATIO  \\\n",
       "347  0.01870  85.0   4.15  0.4290  6.516  27.7  8.5353    4  351.0     17.9   \n",
       "283  0.01501  90.0   1.21  0.4010  7.923  24.8  5.8850    1  198.0     13.6   \n",
       "36   0.09744   0.0   5.96  0.4990  5.841  61.4  3.3779    5  279.0     19.2   \n",
       "480  5.82401   0.0  18.10  0.5320  6.242  64.7  3.4242   24  666.0     20.2   \n",
       "306  0.07503  33.0   2.18  0.4720  7.420  71.9  3.0992    7  222.0     18.4   \n",
       "..       ...   ...    ...     ...    ...   ...     ...  ...    ...      ...   \n",
       "190  0.09068  45.0   3.44  0.4370  6.951  21.5  6.4798    5  398.0     15.2   \n",
       "29   1.00245   0.0   8.14  0.5380  6.674  87.3  4.2390    4  307.0     21.0   \n",
       "200  0.01778  95.0   1.47  0.4030  7.135  13.9  7.6534    3  402.0     17.0   \n",
       "460  4.81213   0.0  18.10  0.7130  6.701  90.0  2.5975   24  666.0     20.2   \n",
       "64   0.01951  17.5   1.38  0.4161  7.104  59.5  9.2229    3  216.0     18.6   \n",
       "\n",
       "          B  LSTAT  CHAS_True  CHAS_False  \n",
       "347  392.43   6.36          0           1  \n",
       "283  395.52   3.16          1           0  \n",
       "36   377.56  11.41          0           1  \n",
       "480  396.90  10.74          0           1  \n",
       "306  396.90   6.47          0           1  \n",
       "..      ...    ...        ...         ...  \n",
       "190  377.68   5.10          0           1  \n",
       "29   380.23  11.98          0           1  \n",
       "200  384.30   4.45          0           1  \n",
       "460  255.23  16.42          0           1  \n",
       "64   393.24   8.05          0           1  \n",
       "\n",
       "[167 rows x 14 columns]"
      ]
     },
     "execution_count": 25,
     "metadata": {},
     "output_type": "execute_result"
    }
   ],
   "source": [
    "X_test"
   ]
  },
  {
   "cell_type": "code",
   "execution_count": 26,
   "metadata": {},
   "outputs": [
    {
     "data": {
      "text/plain": [
       "110    21.7\n",
       "90     22.6\n",
       "369    50.0\n",
       "243    23.7\n",
       "422    20.8\n",
       "       ... \n",
       "129    14.3\n",
       "450    13.4\n",
       "147    14.6\n",
       "16     23.1\n",
       "278    29.1\n",
       "Name: MEDV, Length: 339, dtype: float64"
      ]
     },
     "execution_count": 26,
     "metadata": {},
     "output_type": "execute_result"
    }
   ],
   "source": [
    "y_train"
   ]
  },
  {
   "cell_type": "code",
   "execution_count": 27,
   "metadata": {},
   "outputs": [
    {
     "data": {
      "text/plain": [
       "347    23.1\n",
       "283    50.0\n",
       "36     20.0\n",
       "480    23.0\n",
       "306    33.4\n",
       "       ... \n",
       "190    37.0\n",
       "29     21.0\n",
       "200    32.9\n",
       "460    16.4\n",
       "64     33.0\n",
       "Name: MEDV, Length: 167, dtype: float64"
      ]
     },
     "execution_count": 27,
     "metadata": {},
     "output_type": "execute_result"
    }
   ],
   "source": [
    "y_test"
   ]
  },
  {
   "cell_type": "markdown",
   "metadata": {},
   "source": [
    "### Preprocessing the dataset"
   ]
  },
  {
   "cell_type": "markdown",
   "metadata": {},
   "source": [
    "#### Scaling the dataset"
   ]
  },
  {
   "cell_type": "code",
   "execution_count": 28,
   "metadata": {},
   "outputs": [
    {
     "name": "stderr",
     "output_type": "stream",
     "text": [
      "C:\\ProgramData\\Anaconda3\\lib\\site-packages\\sklearn\\preprocessing\\data.py:625: DataConversionWarning: Data with input dtype int32, int64, float64 were all converted to float64 by StandardScaler.\n",
      "  return self.partial_fit(X, y)\n",
      "C:\\ProgramData\\Anaconda3\\lib\\site-packages\\ipykernel_launcher.py:10: DataConversionWarning: Data with input dtype int32, int64, float64 were all converted to float64 by StandardScaler.\n",
      "  # Remove the CWD from sys.path while we load stuff.\n",
      "C:\\ProgramData\\Anaconda3\\lib\\site-packages\\ipykernel_launcher.py:11: DataConversionWarning: Data with input dtype int32, int64, float64 were all converted to float64 by StandardScaler.\n",
      "  # This is added back by InteractiveShellApp.init_path()\n"
     ]
    }
   ],
   "source": [
    "# Adapted from course materials\n",
    "import pandas as pd\n",
    "import sklearn.preprocessing as pre\n",
    "import numpy as np\n",
    "\n",
    "\n",
    "scaler = pre.StandardScaler()\n",
    "scaler.fit(X_train)\n",
    "\n",
    "scaled_X_train =  pd.DataFrame(scaler.transform(X_train), columns=X_train.columns)\n",
    "scaled_X_test = pd.DataFrame(scaler.transform(X_test), columns=X_test.columns)"
   ]
  },
  {
   "cell_type": "markdown",
   "metadata": {},
   "source": [
    "#### Whitening the dataset"
   ]
  },
  {
   "cell_type": "code",
   "execution_count": 29,
   "metadata": {},
   "outputs": [],
   "source": [
    "# Adapted from course materials\n",
    "import sklearn.decomposition as dec\n",
    "pca = dec.PCA(n_components=len(X_train.columns), whiten=True)\n",
    "pca.fit(X_train)\n",
    "\n",
    "whitened_X_train = pd.DataFrame(pca.transform(X_train), columns=X_train.columns)\n",
    "whitened_X_test = pd.DataFrame(pca.transform(X_test), columns=X_test.columns)"
   ]
  },
  {
   "cell_type": "markdown",
   "metadata": {},
   "source": [
    "#### Combining Whitening with Scaling"
   ]
  },
  {
   "cell_type": "code",
   "execution_count": 30,
   "metadata": {},
   "outputs": [],
   "source": [
    "# Adapted from course materials\n",
    "import sklearn.decomposition as dec\n",
    "pca = dec.PCA(n_components=len(scaled_X_train.columns), whiten=True)\n",
    "pca.fit(scaled_X_train)\n",
    "\n",
    "whitenedAndScaled_X_train = pd.DataFrame(pca.transform(scaled_X_train), columns=scaled_X_train.columns)\n",
    "whitenedAndScaled_X_test = pd.DataFrame(pca.transform(scaled_X_test), columns=scaled_X_test.columns)"
   ]
  },
  {
   "cell_type": "markdown",
   "metadata": {},
   "source": [
    "### Defining the neural net\n",
    "\n",
    "There are 3 input variables so the input_dim below is set to 3. Experimenting with 1.5 times more hidden nodes in the first layer compared to the input layer. Second hidden layer has the same number of nodes (4) as the input layer. All layers are using the ReLU activation function. **(Why and explanation of ReLU)**"
   ]
  },
  {
   "cell_type": "code",
   "execution_count": 31,
   "metadata": {},
   "outputs": [
    {
     "name": "stderr",
     "output_type": "stream",
     "text": [
      "Using TensorFlow backend.\n"
     ]
    }
   ],
   "source": [
    "# Adapted from https://machinelearningmastery.com/tutorial-first-neural-network-python-keras/\n",
    "\n",
    "# Importing packages\n",
    "from keras.models import Sequential\n",
    "from keras.layers import Dense\n",
    "\n",
    "# Defining the neural network\n",
    "model = Sequential()\n",
    "model.add(Dense(28, input_dim=len(X_train.columns), activation='relu'))\n",
    "model.add(Dense(14, activation='relu'))\n",
    "model.add(Dense(1, activation='relu'))"
   ]
  },
  {
   "cell_type": "code",
   "execution_count": 32,
   "metadata": {},
   "outputs": [
    {
     "name": "stdout",
     "output_type": "stream",
     "text": [
      "Model: \"sequential_1\"\n",
      "_________________________________________________________________\n",
      "Layer (type)                 Output Shape              Param #   \n",
      "=================================================================\n",
      "dense_1 (Dense)              (None, 28)                420       \n",
      "_________________________________________________________________\n",
      "dense_2 (Dense)              (None, 14)                406       \n",
      "_________________________________________________________________\n",
      "dense_3 (Dense)              (None, 1)                 15        \n",
      "=================================================================\n",
      "Total params: 841\n",
      "Trainable params: 841\n",
      "Non-trainable params: 0\n",
      "_________________________________________________________________\n"
     ]
    }
   ],
   "source": [
    "model.summary()"
   ]
  },
  {
   "cell_type": "markdown",
   "metadata": {},
   "source": [
    "### Compiling the neural net\n",
    "\n",
    "As this is a regression problem, a Regression Loss Function will be used. Initially setting this to a Mean Squared Error Loss fuction."
   ]
  },
  {
   "cell_type": "code",
   "execution_count": 33,
   "metadata": {},
   "outputs": [],
   "source": [
    "# Compiling the neural net\n",
    "model.compile(loss='mean_squared_error', optimizer='adam')"
   ]
  },
  {
   "cell_type": "markdown",
   "metadata": {},
   "source": [
    "### Fitting the neural net to the training dataset"
   ]
  },
  {
   "cell_type": "code",
   "execution_count": 34,
   "metadata": {},
   "outputs": [
    {
     "name": "stdout",
     "output_type": "stream",
     "text": [
      "Epoch 1/150\n",
      "339/339 [==============================] - 0s 841us/step - loss: 486.8409\n",
      "Epoch 2/150\n",
      "339/339 [==============================] - 0s 380us/step - loss: 337.8699\n",
      "Epoch 3/150\n",
      "339/339 [==============================] - 0s 381us/step - loss: 236.4402\n",
      "Epoch 4/150\n",
      "339/339 [==============================] - 0s 372us/step - loss: 202.5178\n",
      "Epoch 5/150\n",
      "339/339 [==============================] - 0s 360us/step - loss: 176.5771\n",
      "Epoch 6/150\n",
      "339/339 [==============================] - 0s 345us/step - loss: 146.3270 0s - loss: 146.587\n",
      "Epoch 7/150\n",
      "339/339 [==============================] - 0s 374us/step - loss: 118.6081 0s - loss: 121.479\n",
      "Epoch 8/150\n",
      "339/339 [==============================] - 0s 330us/step - loss: 93.3832\n",
      "Epoch 9/150\n",
      "339/339 [==============================] - 0s 371us/step - loss: 73.37800s - loss: 67.\n",
      "Epoch 10/150\n",
      "339/339 [==============================] - 0s 371us/step - loss: 58.5873\n",
      "Epoch 11/150\n",
      "339/339 [==============================] - 0s 410us/step - loss: 47.8749\n",
      "Epoch 12/150\n",
      "339/339 [==============================] - 0s 357us/step - loss: 40.9590\n",
      "Epoch 13/150\n",
      "339/339 [==============================] - 0s 366us/step - loss: 36.3503\n",
      "Epoch 14/150\n",
      "339/339 [==============================] - 0s 345us/step - loss: 32.5020\n",
      "Epoch 15/150\n",
      "339/339 [==============================] - 0s 307us/step - loss: 29.7688\n",
      "Epoch 16/150\n",
      "339/339 [==============================] - 0s 286us/step - loss: 26.7778\n",
      "Epoch 17/150\n",
      "339/339 [==============================] - 0s 369us/step - loss: 24.7118\n",
      "Epoch 18/150\n",
      "339/339 [==============================] - 0s 307us/step - loss: 22.5823\n",
      "Epoch 19/150\n",
      "339/339 [==============================] - 0s 360us/step - loss: 21.0577\n",
      "Epoch 20/150\n",
      "339/339 [==============================] - 0s 401us/step - loss: 19.3550\n",
      "Epoch 21/150\n",
      "339/339 [==============================] - 0s 348us/step - loss: 18.0751\n",
      "Epoch 22/150\n",
      "339/339 [==============================] - 0s 304us/step - loss: 16.8442\n",
      "Epoch 23/150\n",
      "339/339 [==============================] - 0s 301us/step - loss: 15.8684\n",
      "Epoch 24/150\n",
      "339/339 [==============================] - 0s 295us/step - loss: 15.1160\n",
      "Epoch 25/150\n",
      "339/339 [==============================] - 0s 366us/step - loss: 14.2767\n",
      "Epoch 26/150\n",
      "339/339 [==============================] - 0s 371us/step - loss: 13.8114\n",
      "Epoch 27/150\n",
      "339/339 [==============================] - 0s 336us/step - loss: 13.2481\n",
      "Epoch 28/150\n",
      "339/339 [==============================] - ETA: 0s - loss: 12.68 - 0s 348us/step - loss: 12.6313\n",
      "Epoch 29/150\n",
      "339/339 [==============================] - 0s 335us/step - loss: 12.1933\n",
      "Epoch 30/150\n",
      "339/339 [==============================] - 0s 377us/step - loss: 11.78360s - loss: 10.70\n",
      "Epoch 31/150\n",
      "339/339 [==============================] - 0s 371us/step - loss: 11.4225\n",
      "Epoch 32/150\n",
      "339/339 [==============================] - 0s 410us/step - loss: 11.2620\n",
      "Epoch 33/150\n",
      "339/339 [==============================] - 0s 324us/step - loss: 10.8796\n",
      "Epoch 34/150\n",
      "339/339 [==============================] - 0s 333us/step - loss: 10.4468\n",
      "Epoch 35/150\n",
      "339/339 [==============================] - 0s 369us/step - loss: 10.1911\n",
      "Epoch 36/150\n",
      "339/339 [==============================] - 0s 354us/step - loss: 10.0126\n",
      "Epoch 37/150\n",
      "339/339 [==============================] - 0s 277us/step - loss: 9.7662\n",
      "Epoch 38/150\n",
      "339/339 [==============================] - 0s 386us/step - loss: 9.5695\n",
      "Epoch 39/150\n",
      "339/339 [==============================] - 0s 333us/step - loss: 9.4264\n",
      "Epoch 40/150\n",
      "339/339 [==============================] - 0s 304us/step - loss: 9.1607\n",
      "Epoch 41/150\n",
      "339/339 [==============================] - 0s 274us/step - loss: 9.2110\n",
      "Epoch 42/150\n",
      "339/339 [==============================] - 0s 389us/step - loss: 9.0706\n",
      "Epoch 43/150\n",
      "339/339 [==============================] - 0s 366us/step - loss: 8.7677\n",
      "Epoch 44/150\n",
      "339/339 [==============================] - 0s 307us/step - loss: 8.5442\n",
      "Epoch 45/150\n",
      "339/339 [==============================] - 0s 318us/step - loss: 8.3584\n",
      "Epoch 46/150\n",
      "339/339 [==============================] - 0s 348us/step - loss: 8.4396\n",
      "Epoch 47/150\n",
      "339/339 [==============================] - 0s 354us/step - loss: 8.2258\n",
      "Epoch 48/150\n",
      "339/339 [==============================] - 0s 389us/step - loss: 8.0853\n",
      "Epoch 49/150\n",
      "339/339 [==============================] - 0s 345us/step - loss: 7.8166\n",
      "Epoch 50/150\n",
      "339/339 [==============================] - 0s 433us/step - loss: 7.7935\n",
      "Epoch 51/150\n",
      "339/339 [==============================] - 0s 307us/step - loss: 7.7238\n",
      "Epoch 52/150\n",
      "339/339 [==============================] - 0s 310us/step - loss: 7.4750\n",
      "Epoch 53/150\n",
      "339/339 [==============================] - 0s 330us/step - loss: 7.4316\n",
      "Epoch 54/150\n",
      "339/339 [==============================] - 0s 327us/step - loss: 7.3194\n",
      "Epoch 55/150\n",
      "339/339 [==============================] - 0s 348us/step - loss: 7.1947\n",
      "Epoch 56/150\n",
      "339/339 [==============================] - 0s 324us/step - loss: 7.2434\n",
      "Epoch 57/150\n",
      "339/339 [==============================] - 0s 308us/step - loss: 7.0139\n",
      "Epoch 58/150\n",
      "339/339 [==============================] - 0s 267us/step - loss: 6.8861\n",
      "Epoch 59/150\n",
      "339/339 [==============================] - 0s 342us/step - loss: 6.7742\n",
      "Epoch 60/150\n",
      "339/339 [==============================] - 0s 363us/step - loss: 6.7767\n",
      "Epoch 61/150\n",
      "339/339 [==============================] - 0s 307us/step - loss: 6.9492\n",
      "Epoch 62/150\n",
      "339/339 [==============================] - 0s 298us/step - loss: 6.8987\n",
      "Epoch 63/150\n",
      "339/339 [==============================] - 0s 339us/step - loss: 6.5268\n",
      "Epoch 64/150\n",
      "339/339 [==============================] - 0s 259us/step - loss: 6.5117\n",
      "Epoch 65/150\n",
      "339/339 [==============================] - 0s 363us/step - loss: 6.3635\n",
      "Epoch 66/150\n",
      "339/339 [==============================] - 0s 280us/step - loss: 6.3258\n",
      "Epoch 67/150\n",
      "339/339 [==============================] - 0s 339us/step - loss: 6.2970\n",
      "Epoch 68/150\n",
      "339/339 [==============================] - 0s 300us/step - loss: 6.2589\n",
      "Epoch 69/150\n",
      "339/339 [==============================] - 0s 369us/step - loss: 6.1350\n",
      "Epoch 70/150\n",
      "339/339 [==============================] - 0s 327us/step - loss: 6.1161\n",
      "Epoch 71/150\n",
      "339/339 [==============================] - 0s 301us/step - loss: 6.1980\n",
      "Epoch 72/150\n",
      "339/339 [==============================] - 0s 286us/step - loss: 5.9977\n",
      "Epoch 73/150\n",
      "339/339 [==============================] - 0s 277us/step - loss: 5.9370\n",
      "Epoch 74/150\n",
      "339/339 [==============================] - 0s 327us/step - loss: 5.7308\n",
      "Epoch 75/150\n",
      "339/339 [==============================] - 0s 330us/step - loss: 5.7477\n",
      "Epoch 76/150\n",
      "339/339 [==============================] - 0s 295us/step - loss: 5.7925\n",
      "Epoch 77/150\n",
      "339/339 [==============================] - 0s 283us/step - loss: 5.7025\n",
      "Epoch 78/150\n",
      "339/339 [==============================] - 0s 366us/step - loss: 5.6954\n",
      "Epoch 79/150\n",
      "339/339 [==============================] - 0s 333us/step - loss: 5.6246\n",
      "Epoch 80/150\n",
      "339/339 [==============================] - 0s 330us/step - loss: 5.5325\n",
      "Epoch 81/150\n",
      "339/339 [==============================] - 0s 315us/step - loss: 5.7391\n",
      "Epoch 82/150\n",
      "339/339 [==============================] - 0s 304us/step - loss: 5.4465\n",
      "Epoch 83/150\n",
      "339/339 [==============================] - 0s 310us/step - loss: 5.4431\n",
      "Epoch 84/150\n",
      "339/339 [==============================] - 0s 313us/step - loss: 5.3393\n",
      "Epoch 85/150\n",
      "339/339 [==============================] - 0s 292us/step - loss: 5.3354\n",
      "Epoch 86/150\n",
      "339/339 [==============================] - 0s 306us/step - loss: 5.4812\n",
      "Epoch 87/150\n",
      "339/339 [==============================] - 0s 235us/step - loss: 5.2510\n",
      "Epoch 88/150\n",
      "339/339 [==============================] - 0s 230us/step - loss: 5.1188\n",
      "Epoch 89/150\n",
      "339/339 [==============================] - 0s 271us/step - loss: 5.1145\n",
      "Epoch 90/150\n",
      "339/339 [==============================] - 0s 221us/step - loss: 5.1178\n",
      "Epoch 91/150\n",
      "339/339 [==============================] - 0s 233us/step - loss: 5.1572\n",
      "Epoch 92/150\n",
      "339/339 [==============================] - 0s 377us/step - loss: 5.0237\n",
      "Epoch 93/150\n",
      "339/339 [==============================] - 0s 327us/step - loss: 5.0119\n",
      "Epoch 94/150\n",
      "339/339 [==============================] - 0s 270us/step - loss: 5.0790\n",
      "Epoch 95/150\n",
      "339/339 [==============================] - 0s 292us/step - loss: 4.9219\n",
      "Epoch 96/150\n",
      "339/339 [==============================] - 0s 301us/step - loss: 5.0384\n",
      "Epoch 97/150\n",
      "339/339 [==============================] - 0s 301us/step - loss: 4.9329\n",
      "Epoch 98/150\n",
      "339/339 [==============================] - 0s 310us/step - loss: 4.7663\n",
      "Epoch 99/150\n",
      "339/339 [==============================] - 0s 277us/step - loss: 4.8408\n",
      "Epoch 100/150\n",
      "339/339 [==============================] - 0s 295us/step - loss: 4.8063\n",
      "Epoch 101/150\n",
      "339/339 [==============================] - 0s 286us/step - loss: 4.7316\n",
      "Epoch 102/150\n",
      "339/339 [==============================] - 0s 481us/step - loss: 4.6698\n",
      "Epoch 103/150\n",
      "339/339 [==============================] - 0s 713us/step - loss: 4.6943\n",
      "Epoch 104/150\n",
      "339/339 [==============================] - 0s 581us/step - loss: 4.6031\n",
      "Epoch 105/150\n",
      "339/339 [==============================] - 0s 699us/step - loss: 4.7967\n",
      "Epoch 106/150\n",
      "339/339 [==============================] - 0s 499us/step - loss: 4.7377\n",
      "Epoch 107/150\n",
      "339/339 [==============================] - 0s 422us/step - loss: 4.5318\n",
      "Epoch 108/150\n",
      "339/339 [==============================] - 0s 351us/step - loss: 4.4787\n",
      "Epoch 109/150\n",
      "339/339 [==============================] - 0s 383us/step - loss: 4.6597\n",
      "Epoch 110/150\n",
      "339/339 [==============================] - 0s 395us/step - loss: 4.4955\n",
      "Epoch 111/150\n",
      "339/339 [==============================] - 0s 532us/step - loss: 4.4683\n",
      "Epoch 112/150\n",
      "339/339 [==============================] - 0s 366us/step - loss: 4.4308\n",
      "Epoch 113/150\n",
      "339/339 [==============================] - 0s 439us/step - loss: 4.5710\n",
      "Epoch 114/150\n",
      "339/339 [==============================] - 0s 389us/step - loss: 4.6167\n",
      "Epoch 115/150\n",
      "339/339 [==============================] - 0s 407us/step - loss: 4.3548\n",
      "Epoch 116/150\n",
      "339/339 [==============================] - 0s 380us/step - loss: 4.1818\n",
      "Epoch 117/150\n",
      "339/339 [==============================] - 0s 422us/step - loss: 4.2023\n",
      "Epoch 118/150\n",
      "339/339 [==============================] - 0s 416us/step - loss: 4.2211\n",
      "Epoch 119/150\n",
      "339/339 [==============================] - 0s 398us/step - loss: 4.2495\n",
      "Epoch 120/150\n",
      "339/339 [==============================] - 0s 431us/step - loss: 4.0585\n",
      "Epoch 121/150\n",
      "339/339 [==============================] - 0s 345us/step - loss: 4.1630\n",
      "Epoch 122/150\n",
      "339/339 [==============================] - 0s 366us/step - loss: 4.3364\n",
      "Epoch 123/150\n",
      "339/339 [==============================] - 0s 340us/step - loss: 4.4580\n",
      "Epoch 124/150\n",
      "339/339 [==============================] - 0s 391us/step - loss: 4.0666\n",
      "Epoch 125/150\n",
      "339/339 [==============================] - 0s 354us/step - loss: 4.0895\n",
      "Epoch 126/150\n",
      "339/339 [==============================] - 0s 354us/step - loss: 3.9369\n",
      "Epoch 127/150\n",
      "339/339 [==============================] - 0s 351us/step - loss: 3.9827\n",
      "Epoch 128/150\n",
      "339/339 [==============================] - 0s 371us/step - loss: 4.2042\n",
      "Epoch 129/150\n",
      "339/339 [==============================] - 0s 417us/step - loss: 3.9463\n",
      "Epoch 130/150\n",
      "339/339 [==============================] - 0s 369us/step - loss: 4.0341\n",
      "Epoch 131/150\n",
      "339/339 [==============================] - 0s 378us/step - loss: 4.1135\n",
      "Epoch 132/150\n",
      "339/339 [==============================] - 0s 384us/step - loss: 3.9504\n",
      "Epoch 133/150\n",
      "339/339 [==============================] - 0s 398us/step - loss: 4.0052\n",
      "Epoch 134/150\n",
      "339/339 [==============================] - 0s 389us/step - loss: 3.8901\n",
      "Epoch 135/150\n",
      "339/339 [==============================] - 0s 416us/step - loss: 3.7568\n",
      "Epoch 136/150\n",
      "339/339 [==============================] - 0s 398us/step - loss: 3.8621\n",
      "Epoch 137/150\n",
      "339/339 [==============================] - 0s 395us/step - loss: 3.8170\n",
      "Epoch 138/150\n",
      "339/339 [==============================] - ETA: 0s - loss: 3.110 - 0s 430us/step - loss: 3.7553\n",
      "Epoch 139/150\n",
      "339/339 [==============================] - 0s 416us/step - loss: 3.7954\n",
      "Epoch 140/150\n",
      "339/339 [==============================] - 0s 392us/step - loss: 3.7988\n",
      "Epoch 141/150\n",
      "339/339 [==============================] - 0s 425us/step - loss: 3.7813\n",
      "Epoch 142/150\n",
      "339/339 [==============================] - 0s 392us/step - loss: 3.6637\n",
      "Epoch 143/150\n",
      "339/339 [==============================] - 0s 410us/step - loss: 3.8647\n",
      "Epoch 144/150\n",
      "339/339 [==============================] - 0s 389us/step - loss: 3.8546\n",
      "Epoch 145/150\n",
      "339/339 [==============================] - 0s 404us/step - loss: 3.7936\n",
      "Epoch 146/150\n",
      "339/339 [==============================] - 0s 377us/step - loss: 3.5624\n",
      "Epoch 147/150\n",
      "339/339 [==============================] - 0s 407us/step - loss: 3.8081\n",
      "Epoch 148/150\n",
      "339/339 [==============================] - 0s 398us/step - loss: 3.5796\n",
      "Epoch 149/150\n",
      "339/339 [==============================] - 0s 463us/step - loss: 3.5248\n",
      "Epoch 150/150\n",
      "339/339 [==============================] - 0s 360us/step - loss: 3.4711\n"
     ]
    },
    {
     "data": {
      "text/plain": [
       "<keras.callbacks.callbacks.History at 0x13a56fc1128>"
      ]
     },
     "execution_count": 34,
     "metadata": {},
     "output_type": "execute_result"
    }
   ],
   "source": [
    "# Fitting the neural net\n",
    "model.fit(whitened_X_train, y_train, epochs=150, batch_size=8)"
   ]
  },
  {
   "cell_type": "markdown",
   "metadata": {},
   "source": [
    "### Evaluating the neural net"
   ]
  },
  {
   "cell_type": "code",
   "execution_count": 35,
   "metadata": {},
   "outputs": [
    {
     "name": "stdout",
     "output_type": "stream",
     "text": [
      "Predicted: 24.057836532592773, Actual: 23.1, Difference: 0.957836532592772\n",
      "Predicted: 48.198421478271484, Actual: 50.0, Difference: -1.8015785217285156\n",
      "Predicted: 24.323095321655273, Actual: 20.0, Difference: 4.323095321655273\n",
      "Predicted: 22.541217803955078, Actual: 23.0, Difference: -0.4587821960449219\n",
      "Predicted: 36.75703811645508, Actual: 33.4, Difference: 3.3570381164550795\n",
      "Predicted: 22.300439834594727, Actual: 23.4, Difference: -1.099560165405272\n",
      "Predicted: 8.99146556854248, Actual: 9.7, Difference: -0.7085344314575188\n",
      "Predicted: 21.245210647583008, Actual: 20.4, Difference: 0.8452106475830092\n",
      "Predicted: 18.994300842285156, Actual: 21.2, Difference: -2.205699157714843\n",
      "Predicted: 17.289817810058594, Actual: 19.6, Difference: -2.3101821899414077\n",
      "Predicted: 25.25501823425293, Actual: 20.6, Difference: 4.655018234252928\n",
      "Predicted: 23.203872680664062, Actual: 27.5, Difference: -4.2961273193359375\n",
      "Predicted: 23.41993522644043, Actual: 21.2, Difference: 2.2199352264404304\n",
      "Predicted: 14.370920181274414, Actual: 19.1, Difference: -4.729079818725587\n",
      "Predicted: 44.68340301513672, Actual: 50.0, Difference: -5.316596984863281\n",
      "Predicted: 18.242706298828125, Actual: 20.0, Difference: -1.757293701171875\n",
      "Predicted: 14.042174339294434, Actual: 11.8, Difference: 2.242174339294433\n",
      "Predicted: 21.30883026123047, Actual: 19.9, Difference: 1.4088302612304702\n",
      "Predicted: 24.32912254333496, Actual: 24.4, Difference: -0.07087745666503764\n",
      "Predicted: 28.336585998535156, Actual: 23.6, Difference: 4.736585998535155\n",
      "Predicted: 22.998611450195312, Actual: 21.0, Difference: 1.9986114501953125\n",
      "Predicted: 22.71925926208496, Actual: 20.6, Difference: 2.1192592620849595\n",
      "Predicted: 33.15656661987305, Actual: 29.0, Difference: 4.156566619873047\n",
      "Predicted: 18.411483764648438, Actual: 15.4, Difference: 3.011483764648437\n",
      "Predicted: 14.650311470031738, Actual: 14.8, Difference: -0.14968852996826243\n",
      "Predicted: 18.61035919189453, Actual: 18.4, Difference: 0.21035919189453267\n",
      "Predicted: 21.674951553344727, Actual: 16.5, Difference: 5.174951553344727\n",
      "Predicted: 30.99243927001953, Actual: 29.4, Difference: 1.5924392700195327\n",
      "Predicted: 13.355608940124512, Actual: 13.1, Difference: 0.2556089401245121\n",
      "Predicted: 25.18583869934082, Actual: 23.9, Difference: 1.2858386993408217\n",
      "Predicted: 35.16702651977539, Actual: 32.2, Difference: 2.967026519775388\n",
      "Predicted: 24.48468780517578, Actual: 24.7, Difference: -0.21531219482421804\n",
      "Predicted: 25.01561164855957, Actual: 22.5, Difference: 2.5156116485595703\n",
      "Predicted: 20.28807258605957, Actual: 17.8, Difference: 2.4880725860595696\n",
      "Predicted: 30.25116729736328, Actual: 27.5, Difference: 2.7511672973632812\n",
      "Predicted: 29.451650619506836, Actual: 29.8, Difference: -0.3483493804931648\n",
      "Predicted: 15.556553840637207, Actual: 15.6, Difference: -0.043446159362792613\n",
      "Predicted: 19.386892318725586, Actual: 19.9, Difference: -0.5131076812744126\n",
      "Predicted: 17.910493850708008, Actual: 14.5, Difference: 3.410493850708008\n",
      "Predicted: 38.272056579589844, Actual: 36.1, Difference: 2.1720565795898423\n",
      "Predicted: 23.111459732055664, Actual: 20.6, Difference: 2.5114597320556626\n",
      "Predicted: 38.672054290771484, Actual: 44.0, Difference: -5.327945709228516\n",
      "Predicted: 15.231478691101074, Actual: 12.7, Difference: 2.531478691101075\n",
      "Predicted: 42.354515075683594, Actual: 46.7, Difference: -4.345484924316409\n",
      "Predicted: 31.18862533569336, Actual: 36.2, Difference: -5.0113746643066435\n",
      "Predicted: 27.623279571533203, Actual: 20.7, Difference: 6.923279571533204\n",
      "Predicted: 18.274812698364258, Actual: 18.4, Difference: -0.12518730163574077\n",
      "Predicted: 24.436315536499023, Actual: 23.8, Difference: 0.6363155364990227\n",
      "Predicted: 14.662793159484863, Actual: 13.5, Difference: 1.1627931594848633\n",
      "Predicted: 24.447908401489258, Actual: 24.4, Difference: 0.047908401489259234\n",
      "Predicted: 20.815027236938477, Actual: 23.1, Difference: -2.284972763061525\n",
      "Predicted: 21.295146942138672, Actual: 20.0, Difference: 1.2951469421386719\n",
      "Predicted: 31.315277099609375, Actual: 29.0, Difference: 2.315277099609375\n",
      "Predicted: 18.401275634765625, Actual: 18.7, Difference: -0.2987243652343743\n",
      "Predicted: 35.86363983154297, Actual: 35.1, Difference: 0.7636398315429673\n",
      "Predicted: 19.932632446289062, Actual: 22.2, Difference: -2.267367553710937\n",
      "Predicted: 18.362045288085938, Actual: 21.5, Difference: -3.1379547119140625\n",
      "Predicted: 14.590086936950684, Actual: 27.5, Difference: -12.909913063049316\n",
      "Predicted: 21.147022247314453, Actual: 20.3, Difference: 0.8470222473144524\n",
      "Predicted: 16.42184829711914, Actual: 18.3, Difference: -1.87815170288086\n",
      "Predicted: 22.67852783203125, Actual: 19.3, Difference: 3.3785278320312493\n",
      "Predicted: 10.576740264892578, Actual: 12.1, Difference: -1.5232597351074215\n",
      "Predicted: 31.045358657836914, Actual: 37.3, Difference: -6.254641342163083\n",
      "Predicted: 14.446807861328125, Actual: 15.1, Difference: -0.6531921386718746\n",
      "Predicted: 27.318586349487305, Actual: 30.1, Difference: -2.7814136505126967\n",
      "Predicted: 34.32023239135742, Actual: 30.7, Difference: 3.6202323913574226\n",
      "Predicted: 14.126753807067871, Actual: 17.2, Difference: -3.073246192932128\n",
      "Predicted: 13.206610679626465, Actual: 15.6, Difference: -2.393389320373535\n",
      "Predicted: 16.86961555480957, Actual: 19.0, Difference: -2.1303844451904297\n",
      "Predicted: 17.613386154174805, Actual: 19.9, Difference: -2.286613845825194\n",
      "Predicted: 14.941755294799805, Actual: 13.6, Difference: 1.341755294799805\n",
      "Predicted: 33.793373107910156, Actual: 34.9, Difference: -1.1066268920898423\n",
      "Predicted: 23.241392135620117, Actual: 26.4, Difference: -3.1586078643798814\n",
      "Predicted: 53.535499572753906, Actual: 50.0, Difference: 3.5354995727539062\n",
      "Predicted: 25.298580169677734, Actual: 18.9, Difference: 6.398580169677736\n",
      "Predicted: 31.050813674926758, Actual: 26.7, Difference: 4.3508136749267585\n",
      "Predicted: 22.6448917388916, Actual: 20.6, Difference: 2.0448917388916\n",
      "Predicted: 21.471046447753906, Actual: 22.0, Difference: -0.5289535522460938\n",
      "Predicted: 25.465782165527344, Actual: 21.6, Difference: 3.8657821655273423\n",
      "Predicted: 25.354774475097656, Actual: 28.1, Difference: -2.745225524902345\n",
      "Predicted: 31.127166748046875, Actual: 33.4, Difference: -2.2728332519531236\n",
      "Predicted: 13.69663143157959, Actual: 14.4, Difference: -0.7033685684204105\n",
      "Predicted: 22.630199432373047, Actual: 21.5, Difference: 1.1301994323730469\n",
      "Predicted: 48.50425338745117, Actual: 48.8, Difference: -0.2957466125488253\n",
      "Predicted: 19.174013137817383, Actual: 20.2, Difference: -1.0259868621826165\n",
      "Predicted: 15.283456802368164, Actual: 14.5, Difference: 0.7834568023681641\n",
      "Predicted: 18.833343505859375, Actual: 20.1, Difference: -1.2666564941406264\n",
      "Predicted: 13.969908714294434, Actual: 12.5, Difference: 1.4699087142944336\n",
      "Predicted: 9.18104076385498, Actual: 11.3, Difference: -2.1189592361450202\n",
      "Predicted: 27.59919548034668, Actual: 23.5, Difference: 4.09919548034668\n",
      "Predicted: 18.887187957763672, Actual: 17.3, Difference: 1.5871879577636712\n",
      "Predicted: 34.194976806640625, Actual: 34.6, Difference: -0.4050231933593764\n",
      "Predicted: 16.29609489440918, Actual: 13.3, Difference: 2.996094894409179\n",
      "Predicted: 16.355449676513672, Actual: 15.6, Difference: 0.7554496765136722\n",
      "Predicted: 20.98037338256836, Actual: 19.3, Difference: 1.6803733825683587\n",
      "Predicted: 14.91698932647705, Actual: 14.1, Difference: 0.8169893264770511\n",
      "Predicted: 9.351964950561523, Actual: 10.8, Difference: -1.4480350494384773\n",
      "Predicted: 24.645713806152344, Actual: 23.9, Difference: 0.7457138061523452\n",
      "Predicted: 42.6419677734375, Actual: 39.8, Difference: 2.841967773437503\n",
      "Predicted: 24.579484939575195, Actual: 23.9, Difference: 0.6794849395751967\n",
      "Predicted: 41.72093963623047, Actual: 45.4, Difference: -3.67906036376953\n",
      "Predicted: 26.005935668945312, Actual: 27.9, Difference: -1.894064331054686\n",
      "Predicted: 15.696770668029785, Actual: 11.7, Difference: 3.996770668029786\n",
      "Predicted: 47.193702697753906, Actual: 50.0, Difference: -2.8062973022460938\n",
      "Predicted: 17.18693733215332, Actual: 18.1, Difference: -0.9130626678466811\n",
      "Predicted: 10.142587661743164, Actual: 12.3, Difference: -2.1574123382568366\n",
      "Predicted: 22.747793197631836, Actual: 21.9, Difference: 0.8477931976318374\n",
      "Predicted: 18.411304473876953, Actual: 17.0, Difference: 1.4113044738769531\n",
      "Predicted: 19.336055755615234, Actual: 19.5, Difference: -0.16394424438476562\n",
      "Predicted: 28.759611129760742, Actual: 50.0, Difference: -21.240388870239258\n",
      "Predicted: 36.2750244140625, Actual: 37.2, Difference: -0.9249755859375028\n",
      "Predicted: 22.101465225219727, Actual: 21.4, Difference: 0.701465225219728\n",
      "Predicted: 29.547008514404297, Actual: 30.8, Difference: -1.2529914855957038\n",
      "Predicted: 37.78884506225586, Actual: 27.5, Difference: 10.28884506225586\n",
      "Predicted: 13.555181503295898, Actual: 8.4, Difference: 5.155181503295898\n",
      "Predicted: 19.593801498413086, Actual: 19.4, Difference: 0.19380149841308736\n",
      "Predicted: 21.485748291015625, Actual: 21.4, Difference: 0.08574829101562642\n",
      "Predicted: 20.028793334960938, Actual: 19.3, Difference: 0.7287933349609368\n",
      "Predicted: 42.202796936035156, Actual: 50.0, Difference: -7.797203063964844\n",
      "Predicted: 16.954622268676758, Actual: 12.6, Difference: 4.354622268676758\n",
      "Predicted: 18.202356338500977, Actual: 23.8, Difference: -5.597643661499024\n",
      "Predicted: 19.927536010742188, Actual: 19.9, Difference: 0.02753601074218892\n",
      "Predicted: 50.141845703125, Actual: 50.0, Difference: 0.141845703125\n",
      "Predicted: 34.24059295654297, Actual: 33.2, Difference: 1.040592956542966\n",
      "Predicted: 20.03107261657715, Actual: 20.3, Difference: -0.2689273834228523\n",
      "Predicted: 22.292133331298828, Actual: 21.7, Difference: 0.5921333312988288\n",
      "Predicted: 22.383623123168945, Actual: 20.5, Difference: 1.8836231231689453\n",
      "Predicted: 22.189483642578125, Actual: 22.6, Difference: -0.4105163574218764\n",
      "Predicted: 20.560317993164062, Actual: 16.0, Difference: 4.5603179931640625\n",
      "Predicted: 13.687017440795898, Actual: 17.9, Difference: -4.2129825592041\n",
      "Predicted: 14.913125991821289, Actual: 14.9, Difference: 0.013125991821288707\n",
      "Predicted: 28.132190704345703, Actual: 10.4, Difference: 17.732190704345705\n",
      "Predicted: 42.5322380065918, Actual: 37.6, Difference: 4.9322380065917955\n",
      "Predicted: 26.003154754638672, Actual: 22.3, Difference: 3.703154754638671\n",
      "Predicted: 17.433691024780273, Actual: 20.4, Difference: -2.966308975219725\n",
      "Predicted: 33.683021545410156, Actual: 31.6, Difference: 2.083021545410155\n",
      "Predicted: 12.506680488586426, Actual: 12.0, Difference: 0.5066804885864258\n",
      "Predicted: 17.677080154418945, Actual: 5.0, Difference: 12.677080154418945\n",
      "Predicted: 25.864662170410156, Actual: 24.6, Difference: 1.2646621704101548\n",
      "Predicted: 24.151220321655273, Actual: 15.0, Difference: 9.151220321655273\n",
      "Predicted: 28.543115615844727, Actual: 30.5, Difference: -1.9568843841552734\n",
      "Predicted: 22.34288215637207, Actual: 20.4, Difference: 1.9428821563720717\n",
      "Predicted: 35.95186996459961, Actual: 33.3, Difference: 2.651869964599612\n",
      "Predicted: 13.868877410888672, Actual: 8.8, Difference: 5.068877410888671\n",
      "Predicted: 19.712749481201172, Actual: 19.3, Difference: 0.41274948120117116\n",
      "Predicted: 14.384138107299805, Actual: 10.2, Difference: 4.184138107299805\n",
      "Predicted: 25.267881393432617, Actual: 24.1, Difference: 1.1678813934326158\n",
      "Predicted: 12.88888931274414, Actual: 13.1, Difference: -0.21111068725585902\n",
      "Predicted: 24.47606086730957, Actual: 23.4, Difference: 1.0760608673095717\n",
      "Predicted: 6.943864345550537, Actual: 5.0, Difference: 1.943864345550537\n",
      "Predicted: 24.725540161132812, Actual: 23.7, Difference: 1.0255401611328132\n",
      "Predicted: 20.06947898864746, Actual: 18.8, Difference: 1.2694789886474602\n",
      "Predicted: 17.026052474975586, Actual: 17.1, Difference: -0.07394752502441548\n",
      "Predicted: 47.809112548828125, Actual: 48.5, Difference: -0.690887451171875\n",
      "Predicted: 12.219259262084961, Actual: 13.4, Difference: -1.1807407379150394\n",
      "Predicted: 19.61640739440918, Actual: 20.6, Difference: -0.9835926055908217\n",
      "Predicted: 17.406858444213867, Actual: 17.8, Difference: -0.3931415557861335\n",
      "Predicted: 20.654510498046875, Actual: 20.3, Difference: 0.3545104980468743\n",
      "Predicted: 23.140884399414062, Actual: 24.8, Difference: -1.6591156005859382\n",
      "Predicted: 17.747770309448242, Actual: 21.0, Difference: -3.252229690551758\n",
      "Predicted: 27.20954132080078, Actual: 26.6, Difference: 0.6095413208007798\n",
      "Predicted: 29.353036880493164, Actual: 28.6, Difference: 0.7530368804931626\n",
      "Predicted: 32.066585540771484, Actual: 37.0, Difference: -4.933414459228516\n",
      "Predicted: 20.14470100402832, Actual: 21.0, Difference: -0.8552989959716797\n",
      "Predicted: 36.47908401489258, Actual: 32.9, Difference: 3.5790840148925795\n",
      "Predicted: 16.24284553527832, Actual: 16.4, Difference: -0.15715446472167827\n",
      "Predicted: 31.645221710205078, Actual: 33.0, Difference: -1.3547782897949219\n"
     ]
    },
    {
     "data": {
      "text/plain": [
       "3.806471928439128"
      ]
     },
     "execution_count": 35,
     "metadata": {},
     "output_type": "execute_result"
    }
   ],
   "source": [
    "y_predicted = model.predict(whitened_X_test)\n",
    "\n",
    "absoluteError = 0\n",
    "\n",
    "for i in range(len(y_predicted)):\n",
    "    print(f\"Predicted: {y_predicted[i,0]}, Actual: {y_test.iloc[i]}, Difference: {y_predicted[i,0] - y_test.iloc[i]}\")\n",
    "    absoluteError = absoluteError + (y_predicted[i,0] - y_test.iloc[i])**2\n",
    "    \n",
    "meanAbsoluteError = absoluteError/len(y_predicted)\n",
    "\n",
    "rootMeanSquareError = meanAbsoluteError**0.5\n",
    "\n",
    "rootMeanSquareError"
   ]
  },
  {
   "cell_type": "markdown",
   "metadata": {},
   "source": [
    "### Creating a function for the machine learning algorithm"
   ]
  },
  {
   "cell_type": "code",
   "execution_count": 36,
   "metadata": {},
   "outputs": [],
   "source": [
    "def neuralNet(XTrain, XTest, yTrain, yTest):\n",
    "    # Importing packages\n",
    "    from keras.models import Sequential\n",
    "    from keras.layers import Dense\n",
    "\n",
    "    # Defining the neural network\n",
    "    model = Sequential()\n",
    "    model.add(Dense(28, input_dim=len(XTrain.columns), activation='relu'))\n",
    "    model.add(Dense(14, activation='relu'))\n",
    "    model.add(Dense(1, activation='relu'))\n",
    "\n",
    "    model.compile(loss='mean_squared_error', optimizer='adam')\n",
    "\n",
    "\n",
    "    # Fitting the neural net\n",
    "    model.fit(XTrain, yTrain, epochs=150, batch_size=8, verbose=0)\n",
    "\n",
    "\n",
    "    # Get the MSE\n",
    "    mse = model.evaluate(XTest, yTest)  \n",
    "    \n",
    "    # Get the RMSE by getting the square root of the MSE\n",
    "    rmse = mse ** 0.5\n",
    "    \n",
    "    return rmse"
   ]
  },
  {
   "cell_type": "code",
   "execution_count": 37,
   "metadata": {},
   "outputs": [
    {
     "name": "stdout",
     "output_type": "stream",
     "text": [
      "167/167 [==============================] - 0s 221us/step\n"
     ]
    },
    {
     "data": {
      "text/plain": [
       "4.489149693999973"
      ]
     },
     "execution_count": 37,
     "metadata": {},
     "output_type": "execute_result"
    }
   ],
   "source": [
    "neuralNet(X_train, X_test, y_train, y_test)"
   ]
  },
  {
   "cell_type": "code",
   "execution_count": 38,
   "metadata": {},
   "outputs": [
    {
     "name": "stdout",
     "output_type": "stream",
     "text": [
      "167/167 [==============================] - 0s 509us/step\n"
     ]
    },
    {
     "data": {
      "text/plain": [
       "4.1115977018329435"
      ]
     },
     "execution_count": 38,
     "metadata": {},
     "output_type": "execute_result"
    }
   ],
   "source": [
    "neuralNet(scaled_X_train, scaled_X_test, y_train, y_test)"
   ]
  },
  {
   "cell_type": "code",
   "execution_count": 39,
   "metadata": {},
   "outputs": [
    {
     "name": "stdout",
     "output_type": "stream",
     "text": [
      "167/167 [==============================] - 0s 898us/step\n"
     ]
    },
    {
     "data": {
      "text/plain": [
       "3.4546265142924084"
      ]
     },
     "execution_count": 39,
     "metadata": {},
     "output_type": "execute_result"
    }
   ],
   "source": [
    "neuralNet(whitened_X_train, whitened_X_test, y_train, y_test)"
   ]
  },
  {
   "cell_type": "code",
   "execution_count": 40,
   "metadata": {},
   "outputs": [
    {
     "name": "stdout",
     "output_type": "stream",
     "text": [
      "167/167 [==============================] - 0s 120us/step\n"
     ]
    },
    {
     "data": {
      "text/plain": [
       "4.837556490692023"
      ]
     },
     "execution_count": 40,
     "metadata": {},
     "output_type": "execute_result"
    }
   ],
   "source": [
    "neuralNet(whitenedAndScaled_X_train, whitenedAndScaled_X_test, y_train, y_test)"
   ]
  }
 ],
 "metadata": {
  "kernelspec": {
   "display_name": "Python 3",
   "language": "python",
   "name": "python3"
  },
  "language_info": {
   "codemirror_mode": {
    "name": "ipython",
    "version": 3
   },
   "file_extension": ".py",
   "mimetype": "text/x-python",
   "name": "python",
   "nbconvert_exporter": "python",
   "pygments_lexer": "ipython3",
   "version": "3.6.9"
  }
 },
 "nbformat": 4,
 "nbformat_minor": 2
}
