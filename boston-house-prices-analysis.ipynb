{
 "cells": [
  {
   "cell_type": "markdown",
   "metadata": {},
   "source": [
    "# Introduction\n",
    "\n",
    "The Boston House Prices Dataset contains data on 506 towns in Boston. The dataset has 14 attributes such as the crime rate per town, parent teacher ratio and the median value of owner-occupied homes. The dataset was created in 1978 by Harrison, D. and Rubinfeld, D.L. The dataset can be downloaded from [Boston Housing Data](https://archive.ics.uci.edu/ml/machine-learning-databases/housing/housing.data). The dataset doesn't contain the column names but these are contained in the .names file from [Boston Housing Names](https://archive.ics.uci.edu/ml/machine-learning-databases/housing/housing.names). The original paper which published the dataset can be found [here]( http://citeseerx.ist.psu.edu/viewdoc/download?doi=10.1.1.926.5532&rep=rep1&type=pdf). \n",
    "\n",
    "The dataset is comprised of data obtained from the 1970 Boston Standard Metropolitan Statistical Area census. [[1](#[1])]\n",
    "\n",
    "The census from which the dataset was built can be viewed [here](https://www2.census.gov/library/publications/decennial/1970/phc-1/39204513p3ch06.pdf)\n",
    "\n",
    "This project will start off by describing the the dataset: visualising the correlations between attributes, the distribution of the values for each attribute, and giving the summary statisitcs.\n",
    "\n",
    "Next we will look at wether Inferential Statistics can be used to determine if there is a difference in median house prices for house along the Charles River vs those that are not along the Charles River.\n",
    "\n",
    "Finally we will try to predict using a neural network, the median house price when given the values for the other attributes."
   ]
  },
  {
   "cell_type": "markdown",
   "metadata": {},
   "source": [
    "# Describe"
   ]
  },
  {
   "cell_type": "code",
   "execution_count": 1,
   "metadata": {},
   "outputs": [
    {
     "name": "stdout",
     "output_type": "stream",
     "text": [
      "1. Title: Boston Housing Data\n",
      "\n",
      "2. Sources:\n",
      "   (a) Origin:  This dataset was taken from the StatLib library which is\n",
      "                maintained at Carnegie Mellon University.\n",
      "   (b) Creator:  Harrison, D. and Rubinfeld, D.L. 'Hedonic prices and the \n",
      "                 demand for clean air', J. Environ. Economics & Management,\n",
      "                 vol.5, 81-102, 1978.\n",
      "   (c) Date: July 7, 1993\n",
      "\n",
      "3. Past Usage:\n",
      "   -   Used in Belsley, Kuh & Welsch, 'Regression diagnostics ...', Wiley, \n",
      "       1980.   N.B. Various transformations are used in the table on\n",
      "       pages 244-261.\n",
      "    -  Quinlan,R. (1993). Combining Instance-Based and Model-Based Learning.\n",
      "       In Proceedings on the Tenth International Conference of Machine \n",
      "       Learning, 236-243, University of Massachusetts, Amherst. Morgan\n",
      "       Kaufmann.\n",
      "\n",
      "4. Relevant Information:\n",
      "\n",
      "   Concerns housing values in suburbs of Boston.\n",
      "\n",
      "5. Number of Instances: 506\n",
      "\n",
      "6. Number of Attributes: 13 continuous attributes (including \"class\"\n",
      "                         attribute \"MEDV\"), 1 binary-valued attribute.\n",
      "\n",
      "7. Attribute Information:\n",
      "\n",
      "    1. CRIM      per capita crime rate by town\n",
      "    2. ZN        proportion of residential land zoned for lots over \n",
      "                 25,000 sq.ft.\n",
      "    3. INDUS     proportion of non-retail business acres per town\n",
      "    4. CHAS      Charles River dummy variable (= 1 if tract bounds \n",
      "                 river; 0 otherwise)\n",
      "    5. NOX       nitric oxides concentration (parts per 10 million)\n",
      "    6. RM        average number of rooms per dwelling\n",
      "    7. AGE       proportion of owner-occupied units built prior to 1940\n",
      "    8. DIS       weighted distances to five Boston employment centres\n",
      "    9. RAD       index of accessibility to radial highways\n",
      "    10. TAX      full-value property-tax rate per $10,000\n",
      "    11. PTRATIO  pupil-teacher ratio by town\n",
      "    12. B        1000(Bk - 0.63)^2 where Bk is the proportion of blacks \n",
      "                 by town\n",
      "    13. LSTAT    % lower status of the population\n",
      "    14. MEDV     Median value of owner-occupied homes in $1000's\n",
      "\n",
      "8. Missing Attribute Values:  None.\n",
      "\n",
      "\n",
      "\n",
      "\n"
     ]
    }
   ],
   "source": [
    "# Import package that will enable opening of names file from url\n",
    "from urllib.request import urlopen\n",
    "\n",
    "# Open the names file and assign it to data\n",
    "data = urlopen(\"https://archive.ics.uci.edu/ml/machine-learning-databases/housing/housing.names\")\n",
    "\n",
    "# Adapted from https://bugs.python.org/issue5419\n",
    "# Decode the content of the names file and print the output\n",
    "print(data.read().decode('utf-8'))"
   ]
  },
  {
   "cell_type": "code",
   "execution_count": 2,
   "metadata": {},
   "outputs": [
    {
     "data": {
      "text/html": [
       "<div>\n",
       "<style scoped>\n",
       "    .dataframe tbody tr th:only-of-type {\n",
       "        vertical-align: middle;\n",
       "    }\n",
       "\n",
       "    .dataframe tbody tr th {\n",
       "        vertical-align: top;\n",
       "    }\n",
       "\n",
       "    .dataframe thead th {\n",
       "        text-align: right;\n",
       "    }\n",
       "</style>\n",
       "<table border=\"1\" class=\"dataframe\">\n",
       "  <thead>\n",
       "    <tr style=\"text-align: right;\">\n",
       "      <th></th>\n",
       "      <th>CRIM</th>\n",
       "      <th>ZN</th>\n",
       "      <th>INDUS</th>\n",
       "      <th>CHAS</th>\n",
       "      <th>NOX</th>\n",
       "      <th>RM</th>\n",
       "      <th>AGE</th>\n",
       "      <th>DIS</th>\n",
       "      <th>RAD</th>\n",
       "      <th>TAX</th>\n",
       "      <th>PTRATIO</th>\n",
       "      <th>B</th>\n",
       "      <th>LSTAT</th>\n",
       "      <th>MEDV</th>\n",
       "    </tr>\n",
       "  </thead>\n",
       "  <tbody>\n",
       "    <tr>\n",
       "      <td>0</td>\n",
       "      <td>0.00632</td>\n",
       "      <td>18.0</td>\n",
       "      <td>2.31</td>\n",
       "      <td>0</td>\n",
       "      <td>0.538</td>\n",
       "      <td>6.575</td>\n",
       "      <td>65.2</td>\n",
       "      <td>4.0900</td>\n",
       "      <td>1</td>\n",
       "      <td>296.0</td>\n",
       "      <td>15.3</td>\n",
       "      <td>396.90</td>\n",
       "      <td>4.98</td>\n",
       "      <td>24.0</td>\n",
       "    </tr>\n",
       "    <tr>\n",
       "      <td>1</td>\n",
       "      <td>0.02731</td>\n",
       "      <td>0.0</td>\n",
       "      <td>7.07</td>\n",
       "      <td>0</td>\n",
       "      <td>0.469</td>\n",
       "      <td>6.421</td>\n",
       "      <td>78.9</td>\n",
       "      <td>4.9671</td>\n",
       "      <td>2</td>\n",
       "      <td>242.0</td>\n",
       "      <td>17.8</td>\n",
       "      <td>396.90</td>\n",
       "      <td>9.14</td>\n",
       "      <td>21.6</td>\n",
       "    </tr>\n",
       "    <tr>\n",
       "      <td>2</td>\n",
       "      <td>0.02729</td>\n",
       "      <td>0.0</td>\n",
       "      <td>7.07</td>\n",
       "      <td>0</td>\n",
       "      <td>0.469</td>\n",
       "      <td>7.185</td>\n",
       "      <td>61.1</td>\n",
       "      <td>4.9671</td>\n",
       "      <td>2</td>\n",
       "      <td>242.0</td>\n",
       "      <td>17.8</td>\n",
       "      <td>392.83</td>\n",
       "      <td>4.03</td>\n",
       "      <td>34.7</td>\n",
       "    </tr>\n",
       "    <tr>\n",
       "      <td>3</td>\n",
       "      <td>0.03237</td>\n",
       "      <td>0.0</td>\n",
       "      <td>2.18</td>\n",
       "      <td>0</td>\n",
       "      <td>0.458</td>\n",
       "      <td>6.998</td>\n",
       "      <td>45.8</td>\n",
       "      <td>6.0622</td>\n",
       "      <td>3</td>\n",
       "      <td>222.0</td>\n",
       "      <td>18.7</td>\n",
       "      <td>394.63</td>\n",
       "      <td>2.94</td>\n",
       "      <td>33.4</td>\n",
       "    </tr>\n",
       "    <tr>\n",
       "      <td>4</td>\n",
       "      <td>0.06905</td>\n",
       "      <td>0.0</td>\n",
       "      <td>2.18</td>\n",
       "      <td>0</td>\n",
       "      <td>0.458</td>\n",
       "      <td>7.147</td>\n",
       "      <td>54.2</td>\n",
       "      <td>6.0622</td>\n",
       "      <td>3</td>\n",
       "      <td>222.0</td>\n",
       "      <td>18.7</td>\n",
       "      <td>396.90</td>\n",
       "      <td>5.33</td>\n",
       "      <td>36.2</td>\n",
       "    </tr>\n",
       "  </tbody>\n",
       "</table>\n",
       "</div>"
      ],
      "text/plain": [
       "      CRIM    ZN  INDUS  CHAS    NOX     RM   AGE     DIS  RAD    TAX  \\\n",
       "0  0.00632  18.0   2.31     0  0.538  6.575  65.2  4.0900    1  296.0   \n",
       "1  0.02731   0.0   7.07     0  0.469  6.421  78.9  4.9671    2  242.0   \n",
       "2  0.02729   0.0   7.07     0  0.469  7.185  61.1  4.9671    2  242.0   \n",
       "3  0.03237   0.0   2.18     0  0.458  6.998  45.8  6.0622    3  222.0   \n",
       "4  0.06905   0.0   2.18     0  0.458  7.147  54.2  6.0622    3  222.0   \n",
       "\n",
       "   PTRATIO       B  LSTAT  MEDV  \n",
       "0     15.3  396.90   4.98  24.0  \n",
       "1     17.8  396.90   9.14  21.6  \n",
       "2     17.8  392.83   4.03  34.7  \n",
       "3     18.7  394.63   2.94  33.4  \n",
       "4     18.7  396.90   5.33  36.2  "
      ]
     },
     "execution_count": 2,
     "metadata": {},
     "output_type": "execute_result"
    }
   ],
   "source": [
    "# Importing pandas\n",
    "import pandas as pd\n",
    "\n",
    "# Reading the tab-delimited dataset into a DataFile and adding column names from the housing.names file shown above\n",
    "df = pd.read_csv(\"https://archive.ics.uci.edu/ml/machine-learning-databases/housing/housing.data\", sep='\\s+', names=[\"CRIM\", \"ZN\", \"INDUS\", \"CHAS\", \"NOX\", \"RM\", \"AGE\", \"DIS\", \"RAD\", \"TAX\", \"PTRATIO\", \"B\", \"LSTAT\", \"MEDV\"])\n",
    "\n",
    "# Viewing the first five rows of the dataset\n",
    "df.head()"
   ]
  },
  {
   "cell_type": "markdown",
   "metadata": {},
   "source": [
    "## Visualising the dataset\n",
    "\n",
    "### Scatter plots\n",
    "\n",
    "MEDV is the variable that we will be trying to predict using the keras machine learning library.\n",
    "\n",
    "From the scatter plot below, there appears to be a negative correlation with house prices and the following: CRIM, INDUS, NOX, LSTAT, PTRATIO and possibly TAX.\n",
    "\n",
    "There appears to be a positive correlation between house prices and RM"
   ]
  },
  {
   "cell_type": "code",
   "execution_count": 3,
   "metadata": {},
   "outputs": [
    {
     "data": {
      "text/plain": [
       "<Figure size 432x288 with 0 Axes>"
      ]
     },
     "metadata": {},
     "output_type": "display_data"
    },
    {
     "data": {
      "image/png": "[encoded data removed]",
      "text/plain": [
       "<Figure size 1008x1152 with 15 Axes>"
      ]
     },
     "metadata": {
      "needs_background": "light"
     },
     "output_type": "display_data"
    }
   ],
   "source": [
    "# Adapted from https://github.com/Tsmith5151/Boston-Housing-Prices/blob/master/boston_housing.ipynb\n",
    "# Importing visualisation package matplotlib\n",
    "%matplotlib inline\n",
    "import matplotlib.pyplot as plt\n",
    "\n",
    "# Creat the figures\n",
    "plt.figure()\n",
    "fig,axes = plt.subplots(5, 3, figsize=(14, 16))\n",
    "fig.subplots_adjust(wspace=.2, hspace=.4)\n",
    "img_index = 0\n",
    "\n",
    "# Determine the number of columns in the dataframe\n",
    "cols = len(df.columns)\n",
    "\n",
    "# Loop through the colmuns\n",
    "for i in range(cols - 1):\n",
    "    # Each row will contain 3 plots \n",
    "    row, col = i // 3, i % 3\n",
    "    # Create the scatter plots for each attribute against MEDV\n",
    "    axes[row][col].scatter(df.iloc[:, i], df.loc[:, \"MEDV\"], alpha=0.5, s=10)\n",
    "    axes[row][col].set_title(df.columns[i] + ' and MEDV')\n",
    "    axes[row][col].set_xlabel(df.columns[i])        \n",
    "    axes[row][col].set_ylabel('MEDV')\n",
    "\n",
    "# Show the plots\n",
    "plt.show()"
   ]
  },
  {
   "cell_type": "markdown",
   "metadata": {},
   "source": [
    "### Creating a diagonal correlation heat map"
   ]
  },
  {
   "cell_type": "code",
   "execution_count": 4,
   "metadata": {},
   "outputs": [
    {
     "data": {
      "image/png": "[encoded data removed]",
      "text/plain": [
       "<Figure size 1008x576 with 2 Axes>"
      ]
     },
     "metadata": {},
     "output_type": "display_data"
    }
   ],
   "source": [
    "# Import packages\n",
    "import numpy as np\n",
    "import pandas as pd\n",
    "import matplotlib.pyplot as plt\n",
    "import seaborn as sns\n",
    "\n",
    "# Creating a correlation matrix\n",
    "corr = df.corr()\n",
    "\n",
    "# Setting the size of the heat map\n",
    "sns.set(rc={'figure.figsize':(14,8)})\n",
    "\n",
    "# Adapted from https://seaborn.pydata.org/generated/seaborn.heatmap.html\n",
    "mask = np.zeros_like(corr) \n",
    "mask[np.triu_indices_from(mask)] = True\n",
    "\n",
    "# Creating the correlation heatmap\n",
    "sns.heatmap(corr, annot=True, mask=mask,cmap='RdBu', vmin=-0.8, vmax=0.8)\n",
    "\n",
    "\n",
    "# Adapted from https://github.com/mwaskom/seaborn/issues/1773\n",
    "# Altered to fix blank row at top and at the right\n",
    "\n",
    "# Changes to the y-axis\n",
    "b, t= plt.ylim() # discover the values for bottom and top\n",
    "b += 0.5 # Add 0.5 to the bottom\n",
    "t += 0.5 # Add 0.5 to the top\n",
    "plt.ylim(b, t) # update the ylim(bottom, top) values\n",
    "\n",
    "# Changes to the x-axis\n",
    "l, r = plt.xlim()\n",
    "r -= 1 # Subtract 1 from the right\n",
    "plt.xlim(l, r)\n",
    "\n",
    "# Showing the heatmap\n",
    "plt.show()"
   ]
  },
  {
   "cell_type": "markdown",
   "metadata": {},
   "source": [
    "### Deciding which variables to look at\n",
    "\n",
    "From the above the variables that strongly correlate with MEDV (either positively or negatively) are LSTAT (-0.74), PTRATIO (-0.51) and RM (0.70). The highest correlation between any two variables is 0.91 for RAD vs TAX. The lowest correlation between any two variables is -0.0075 for RAD vs CHAS. When comparing one variable against all other variables, the CHAS variable has the lowest correlation. The highest correlation between CHAS and any other variable is with MEDV at 0.18. In the next section we will look at using inferential statistics to determine if there is a significant difference in house prices between houses that are along the Charles River and those that aren't.\n",
    "\n",
    "In the prediction section, I initially chose the variables that had the highest correlation to MEDV but then I found that I was able to get a much better result by using all the variables."
   ]
  },
  {
   "cell_type": "markdown",
   "metadata": {},
   "source": [
    "### Summary statistics"
   ]
  },
  {
   "cell_type": "code",
   "execution_count": 5,
   "metadata": {},
   "outputs": [
    {
     "data": {
      "text/html": [
       "<div>\n",
       "<style scoped>\n",
       "    .dataframe tbody tr th:only-of-type {\n",
       "        vertical-align: middle;\n",
       "    }\n",
       "\n",
       "    .dataframe tbody tr th {\n",
       "        vertical-align: top;\n",
       "    }\n",
       "\n",
       "    .dataframe thead th {\n",
       "        text-align: right;\n",
       "    }\n",
       "</style>\n",
       "<table border=\"1\" class=\"dataframe\">\n",
       "  <thead>\n",
       "    <tr style=\"text-align: right;\">\n",
       "      <th></th>\n",
       "      <th>CRIM</th>\n",
       "      <th>ZN</th>\n",
       "      <th>INDUS</th>\n",
       "      <th>CHAS</th>\n",
       "      <th>NOX</th>\n",
       "      <th>RM</th>\n",
       "      <th>AGE</th>\n",
       "      <th>DIS</th>\n",
       "      <th>RAD</th>\n",
       "      <th>TAX</th>\n",
       "      <th>PTRATIO</th>\n",
       "      <th>B</th>\n",
       "      <th>LSTAT</th>\n",
       "      <th>MEDV</th>\n",
       "    </tr>\n",
       "  </thead>\n",
       "  <tbody>\n",
       "    <tr>\n",
       "      <td>count</td>\n",
       "      <td>506.000000</td>\n",
       "      <td>506.000000</td>\n",
       "      <td>506.000000</td>\n",
       "      <td>506.000000</td>\n",
       "      <td>506.000000</td>\n",
       "      <td>506.000000</td>\n",
       "      <td>506.000000</td>\n",
       "      <td>506.000000</td>\n",
       "      <td>506.000000</td>\n",
       "      <td>506.000000</td>\n",
       "      <td>506.000000</td>\n",
       "      <td>506.000000</td>\n",
       "      <td>506.000000</td>\n",
       "      <td>506.000000</td>\n",
       "    </tr>\n",
       "    <tr>\n",
       "      <td>mean</td>\n",
       "      <td>3.613524</td>\n",
       "      <td>11.363636</td>\n",
       "      <td>11.136779</td>\n",
       "      <td>0.069170</td>\n",
       "      <td>0.554695</td>\n",
       "      <td>6.284634</td>\n",
       "      <td>68.574901</td>\n",
       "      <td>3.795043</td>\n",
       "      <td>9.549407</td>\n",
       "      <td>408.237154</td>\n",
       "      <td>18.455534</td>\n",
       "      <td>356.674032</td>\n",
       "      <td>12.653063</td>\n",
       "      <td>22.532806</td>\n",
       "    </tr>\n",
       "    <tr>\n",
       "      <td>std</td>\n",
       "      <td>8.601545</td>\n",
       "      <td>23.322453</td>\n",
       "      <td>6.860353</td>\n",
       "      <td>0.253994</td>\n",
       "      <td>0.115878</td>\n",
       "      <td>0.702617</td>\n",
       "      <td>28.148861</td>\n",
       "      <td>2.105710</td>\n",
       "      <td>8.707259</td>\n",
       "      <td>168.537116</td>\n",
       "      <td>2.164946</td>\n",
       "      <td>91.294864</td>\n",
       "      <td>7.141062</td>\n",
       "      <td>9.197104</td>\n",
       "    </tr>\n",
       "    <tr>\n",
       "      <td>min</td>\n",
       "      <td>0.006320</td>\n",
       "      <td>0.000000</td>\n",
       "      <td>0.460000</td>\n",
       "      <td>0.000000</td>\n",
       "      <td>0.385000</td>\n",
       "      <td>3.561000</td>\n",
       "      <td>2.900000</td>\n",
       "      <td>1.129600</td>\n",
       "      <td>1.000000</td>\n",
       "      <td>187.000000</td>\n",
       "      <td>12.600000</td>\n",
       "      <td>0.320000</td>\n",
       "      <td>1.730000</td>\n",
       "      <td>5.000000</td>\n",
       "    </tr>\n",
       "    <tr>\n",
       "      <td>25%</td>\n",
       "      <td>0.082045</td>\n",
       "      <td>0.000000</td>\n",
       "      <td>5.190000</td>\n",
       "      <td>0.000000</td>\n",
       "      <td>0.449000</td>\n",
       "      <td>5.885500</td>\n",
       "      <td>45.025000</td>\n",
       "      <td>2.100175</td>\n",
       "      <td>4.000000</td>\n",
       "      <td>279.000000</td>\n",
       "      <td>17.400000</td>\n",
       "      <td>375.377500</td>\n",
       "      <td>6.950000</td>\n",
       "      <td>17.025000</td>\n",
       "    </tr>\n",
       "    <tr>\n",
       "      <td>50%</td>\n",
       "      <td>0.256510</td>\n",
       "      <td>0.000000</td>\n",
       "      <td>9.690000</td>\n",
       "      <td>0.000000</td>\n",
       "      <td>0.538000</td>\n",
       "      <td>6.208500</td>\n",
       "      <td>77.500000</td>\n",
       "      <td>3.207450</td>\n",
       "      <td>5.000000</td>\n",
       "      <td>330.000000</td>\n",
       "      <td>19.050000</td>\n",
       "      <td>391.440000</td>\n",
       "      <td>11.360000</td>\n",
       "      <td>21.200000</td>\n",
       "    </tr>\n",
       "    <tr>\n",
       "      <td>75%</td>\n",
       "      <td>3.677082</td>\n",
       "      <td>12.500000</td>\n",
       "      <td>18.100000</td>\n",
       "      <td>0.000000</td>\n",
       "      <td>0.624000</td>\n",
       "      <td>6.623500</td>\n",
       "      <td>94.075000</td>\n",
       "      <td>5.188425</td>\n",
       "      <td>24.000000</td>\n",
       "      <td>666.000000</td>\n",
       "      <td>20.200000</td>\n",
       "      <td>396.225000</td>\n",
       "      <td>16.955000</td>\n",
       "      <td>25.000000</td>\n",
       "    </tr>\n",
       "    <tr>\n",
       "      <td>max</td>\n",
       "      <td>88.976200</td>\n",
       "      <td>100.000000</td>\n",
       "      <td>27.740000</td>\n",
       "      <td>1.000000</td>\n",
       "      <td>0.871000</td>\n",
       "      <td>8.780000</td>\n",
       "      <td>100.000000</td>\n",
       "      <td>12.126500</td>\n",
       "      <td>24.000000</td>\n",
       "      <td>711.000000</td>\n",
       "      <td>22.000000</td>\n",
       "      <td>396.900000</td>\n",
       "      <td>37.970000</td>\n",
       "      <td>50.000000</td>\n",
       "    </tr>\n",
       "  </tbody>\n",
       "</table>\n",
       "</div>"
      ],
      "text/plain": [
       "             CRIM          ZN       INDUS        CHAS         NOX          RM  \\\n",
       "count  506.000000  506.000000  506.000000  506.000000  506.000000  506.000000   \n",
       "mean     3.613524   11.363636   11.136779    0.069170    0.554695    6.284634   \n",
       "std      8.601545   23.322453    6.860353    0.253994    0.115878    0.702617   \n",
       "min      0.006320    0.000000    0.460000    0.000000    0.385000    3.561000   \n",
       "25%      0.082045    0.000000    5.190000    0.000000    0.449000    5.885500   \n",
       "50%      0.256510    0.000000    9.690000    0.000000    0.538000    6.208500   \n",
       "75%      3.677082   12.500000   18.100000    0.000000    0.624000    6.623500   \n",
       "max     88.976200  100.000000   27.740000    1.000000    0.871000    8.780000   \n",
       "\n",
       "              AGE         DIS         RAD         TAX     PTRATIO           B  \\\n",
       "count  506.000000  506.000000  506.000000  506.000000  506.000000  506.000000   \n",
       "mean    68.574901    3.795043    9.549407  408.237154   18.455534  356.674032   \n",
       "std     28.148861    2.105710    8.707259  168.537116    2.164946   91.294864   \n",
       "min      2.900000    1.129600    1.000000  187.000000   12.600000    0.320000   \n",
       "25%     45.025000    2.100175    4.000000  279.000000   17.400000  375.377500   \n",
       "50%     77.500000    3.207450    5.000000  330.000000   19.050000  391.440000   \n",
       "75%     94.075000    5.188425   24.000000  666.000000   20.200000  396.225000   \n",
       "max    100.000000   12.126500   24.000000  711.000000   22.000000  396.900000   \n",
       "\n",
       "            LSTAT        MEDV  \n",
       "count  506.000000  506.000000  \n",
       "mean    12.653063   22.532806  \n",
       "std      7.141062    9.197104  \n",
       "min      1.730000    5.000000  \n",
       "25%      6.950000   17.025000  \n",
       "50%     11.360000   21.200000  \n",
       "75%     16.955000   25.000000  \n",
       "max     37.970000   50.000000  "
      ]
     },
     "execution_count": 5,
     "metadata": {},
     "output_type": "execute_result"
    }
   ],
   "source": [
    "# Provide summary statistics on the dataset\n",
    "df.describe()"
   ]
  },
  {
   "cell_type": "markdown",
   "metadata": {},
   "source": [
    "### Histograms\n",
    "\n",
    "From the histogram below we can see that the majority of towns (~400) have a crime rate of less than 4 per capita. From the summary statistics we can see that 75% of towns have a crime rate per capita of 3.7 but the mean is also close to this value at 3.6. This is due to a maximum value of 88.9 which is resulting in a right skew. The standard deviation for this is 8.6. \n",
    "\n",
    "For the B variable the opposite is true. From the histogram we can see that the majority (close to 400) are at the high end of the scale with a value greater than 375. From the summary stats we can see that the Q1 value is 375.4, the max is 396.9 and the minimum is 0.32. The mean (356.7) is close to the Q1 value (375.4). This attribute has a left skew.\n",
    "\n",
    "\n",
    "\n",
    "These differences, along with the differences in correlations above, are important to note for later on when we try to fit the data to the neural network. Preprocessing the data to remove the correlations, create a zero mean and standard deviation of 1 will improve the performance of the neural network."
   ]
  },
  {
   "cell_type": "code",
   "execution_count": 6,
   "metadata": {},
   "outputs": [
    {
     "data": {
      "text/plain": [
       "<Figure size 432x288 with 0 Axes>"
      ]
     },
     "metadata": {},
     "output_type": "display_data"
    },
    {
     "data": {
      "image/png": "[encoded data removed]",
      "text/plain": [
       "<Figure size 1008x1152 with 15 Axes>"
      ]
     },
     "metadata": {
      "needs_background": "light"
     },
     "output_type": "display_data"
    }
   ],
   "source": [
    "# Adapted from https://github.com/Tsmith5151/Boston-Housing-Prices/blob/master/boston_housing.ipynb\n",
    "%matplotlib inline\n",
    "import matplotlib.pyplot as plt\n",
    "\n",
    "plt.figure()\n",
    "fig,axes = plt.subplots(5, 3, figsize=(14, 16))\n",
    "fig.subplots_adjust(wspace=.2, hspace=.4)\n",
    "img_index = 0\n",
    "\n",
    "# Determine the number of columns in the dataframe\n",
    "cols = len(df.columns)\n",
    "\n",
    "# Loop through the colmuns\n",
    "for i in range(cols ):\n",
    "    # Each row will contain 3 plots\n",
    "    row, col = i // 3, i % 3\n",
    "    # Create the histograms for each attribute\n",
    "    axes[row][col].hist(df.iloc[:, i], bins=20)\n",
    "    axes[row][col].set_title(df.columns[i])\n",
    "plt.show()"
   ]
  },
  {
   "cell_type": "markdown",
   "metadata": {},
   "source": [
    "## Inferential Statistics\n",
    "\n",
    "We are interested in determining if there is a significant difference in house prices between houses that are along the Charles River and those that aren't. The Boston House Prices dataset does not contain the data for the entire population of houses in Boston but instead contains a sample which are the median values for each town. We can use inferential statistics to make inferences about the population from the sample data.[[2](#[2])] Inferential statistics can be used to determine the probability that there is a true relationship between two variables.[[3](#[3])]  "
   ]
  },
  {
   "cell_type": "code",
   "execution_count": 7,
   "metadata": {},
   "outputs": [
    {
     "data": {
      "text/plain": [
       "CHAS\n",
       "0    22.093843\n",
       "1    28.440000\n",
       "Name: MEDV, dtype: float64"
      ]
     },
     "execution_count": 7,
     "metadata": {},
     "output_type": "execute_result"
    }
   ],
   "source": [
    "# Determining the mean for both groups\n",
    "df[\"MEDV\"].groupby(df[\"CHAS\"]).mean()"
   ]
  },
  {
   "cell_type": "markdown",
   "metadata": {},
   "source": [
    "We can see that there is a difference in the means between the two groups. A t-test can be used to  determine if this difference is statistically significant. [[4](#[4])]"
   ]
  },
  {
   "cell_type": "markdown",
   "metadata": {},
   "source": [
    "### Selecting an appropriate test\n",
    "\n",
    "#### Student t-test\n",
    "\n",
    "The Student t-test was developed by William Sealy Gosset in 1908, while he was working for the Guinness brewery.[[5](#[5])] As the test was designed as an economical way to monitor the quality of stout, there was a fear that it could be used by Guinnesses competitors so the work was published under the pseudonym \"Student\".[[5](#[5])]\n",
    "\n",
    "There will be only one comparison made here: MEDV for CHAS = 0 and MEDV for CHAS = 1. As there is only one comparison to be made an ANOVA isn't necessary in this case and a t-test will be sufficient.\n",
    "\n",
    "We need to decide if a dependent or an independent t-test should be used. A dependent samples t-test is used when each entry is present in both samples.[[6](#[6])] As the towns that tract the Charles River are different to the towns that don't, then an independent Student t-test should be used here.\n",
    "\n",
    "For an independent Student t-test the samples should be of equal size and have the same variance.[[7](#[7])] In this case, as can be seen from below, the sample sizes are unequal with 471 and 35, and variances of 78.0 and 140.0, for those not along the Charles river and those along it respectively. Therefore, in this case a Student t-test is not appropriate."
   ]
  },
  {
   "cell_type": "code",
   "execution_count": 8,
   "metadata": {},
   "outputs": [
    {
     "data": {
      "text/plain": [
       "CHAS\n",
       "0    471\n",
       "1     35\n",
       "Name: MEDV, dtype: int64"
      ]
     },
     "execution_count": 8,
     "metadata": {},
     "output_type": "execute_result"
    }
   ],
   "source": [
    "# Determining the count for both groups\n",
    "df[\"MEDV\"].groupby(df[\"CHAS\"]).count()"
   ]
  },
  {
   "cell_type": "code",
   "execution_count": 9,
   "metadata": {},
   "outputs": [
    {
     "data": {
      "text/plain": [
       "CHAS\n",
       "0     77.992962\n",
       "1    139.633059\n",
       "Name: MEDV, dtype: float64"
      ]
     },
     "execution_count": 9,
     "metadata": {},
     "output_type": "execute_result"
    }
   ],
   "source": [
    "# Determining the variance for both groups\n",
    "df[\"MEDV\"].groupby(df[\"CHAS\"]).var()"
   ]
  },
  {
   "cell_type": "code",
   "execution_count": 10,
   "metadata": {},
   "outputs": [
    {
     "data": {
      "text/plain": [
       "CHAS\n",
       "0     8.831362\n",
       "1    11.816643\n",
       "Name: MEDV, dtype: float64"
      ]
     },
     "execution_count": 10,
     "metadata": {},
     "output_type": "execute_result"
    }
   ],
   "source": [
    "# Determining the standard deviation for both groups\n",
    "df[\"MEDV\"].groupby(df[\"CHAS\"]).std()"
   ]
  },
  {
   "cell_type": "markdown",
   "metadata": {},
   "source": [
    "#### Welch's t-test\n",
    "\n",
    "Benard Lewis Welch developed an adaption of the Student t-test. Welch's t-test can be used in place of the Student t-test where the variance and/or sample sizes differ.[[8](#[8])]\n",
    "\n",
    "A requirement for both the Student t-test and the Welch t-test is that the distributions must be normal.[[8](#[8])] However, as seen below, the distributions are not normal and therefore a Welch's t-test is not appropriate here either."
   ]
  },
  {
   "cell_type": "code",
   "execution_count": 11,
   "metadata": {},
   "outputs": [
    {
     "name": "stderr",
     "output_type": "stream",
     "text": [
      "C:\\ProgramData\\Anaconda3\\lib\\site-packages\\scipy\\stats\\stats.py:1713: FutureWarning: Using a non-tuple sequence for multidimensional indexing is deprecated; use `arr[tuple(seq)]` instead of `arr[seq]`. In the future this will be interpreted as an array index, `arr[np.array(seq)]`, which will result either in an error or a different result.\n",
      "  return np.add.reduce(sorted[indexer] * weights, axis=axis) / sumval\n"
     ]
    },
    {
     "data": {
      "text/plain": [
       "<function matplotlib.pyplot.show(*args, **kw)>"
      ]
     },
     "execution_count": 11,
     "metadata": {},
     "output_type": "execute_result"
    },
    {
     "data": {
      "image/png": "[encoded data removed]",
      "text/plain": [
       "<Figure size 432x288 with 1 Axes>"
      ]
     },
     "metadata": {
      "needs_background": "light"
     },
     "output_type": "display_data"
    }
   ],
   "source": [
    "# Importing seaborn to create distplots\n",
    "import seaborn as sns\n",
    "\n",
    "# Creating distplots \n",
    "sns.distplot(df[\"MEDV\"][df[\"CHAS\"] == 0], label=\"Not Along Charles River\")\n",
    "sns.distplot(df[\"MEDV\"][df[\"CHAS\"] == 1], label=\"Along Charles River\")\n",
    "\n",
    "# Plotting legends\n",
    "plt.legend()\n",
    "\n",
    "# Showing the plot\n",
    "plt.show"
   ]
  },
  {
   "cell_type": "markdown",
   "metadata": {},
   "source": [
    "From the above it looks like they may be normally distributed, except for the large number of entries for a MEDV of 50. The values above 50 may have been capped.[[9](#[9])] The census from which the dataset is composed has values above 50 recorded as 50+ so this may be so. We can use the [Shapiro-Wilk test](https://docs.scipy.org/doc/scipy-0.19.1/reference/generated/scipy.stats.shapiro.html) for normality which is provided by the [SciPy package](https://docs.scipy.org/doc/), to test if these are normally distributed."
   ]
  },
  {
   "cell_type": "code",
   "execution_count": 12,
   "metadata": {},
   "outputs": [
    {
     "data": {
      "text/plain": [
       "0.00011230883683310822"
      ]
     },
     "execution_count": 12,
     "metadata": {},
     "output_type": "execute_result"
    }
   ],
   "source": [
    "# Importing stats module from scipy\n",
    "from scipy import stats\n",
    "\n",
    "# Selecting the Median Value of houses along the Charles River\n",
    "alongCharlesRiver = df[\"MEDV\"][df[\"CHAS\"] == 1]\n",
    "\n",
    "# Determining if the distribution for tracts along Charles River are normal\n",
    "testStat, pValue = stats.shapiro(df[\"MEDV\"][df[\"CHAS\"] == 1])\n",
    "\n",
    "pValue"
   ]
  },
  {
   "cell_type": "code",
   "execution_count": 13,
   "metadata": {},
   "outputs": [
    {
     "data": {
      "text/plain": [
       "3.113930960958397e-14"
      ]
     },
     "execution_count": 13,
     "metadata": {},
     "output_type": "execute_result"
    }
   ],
   "source": [
    "# Selecting the Median Value of houses not along the Charles River\n",
    "notAlongCharlesRiver = df[\"MEDV\"][df[\"CHAS\"] == 0]\n",
    "\n",
    "# Determining if the distribution for tracts not along the Charles River are normal\n",
    "testStat, pValue = stats.shapiro(notAlongCharlesRiver)\n",
    "\n",
    "pValue"
   ]
  },
  {
   "cell_type": "markdown",
   "metadata": {},
   "source": [
    "The p-values above for both along and not along the Charles River are below 0.05, so we can reject the null hypothesis that the data is normally distributed. As these values may be affected by the MEDV 50.0 value. We can try to run the shapiro test again on the two subsets without the MEDV 50.0 value. As can be seen below, for those along the Charles River the p-value of 0.029 is still below 0.05 and therefore we again can reject the null hypothesis that the data is normally distributed."
   ]
  },
  {
   "cell_type": "code",
   "execution_count": 14,
   "metadata": {},
   "outputs": [
    {
     "data": {
      "text/plain": [
       "0.028505902737379074"
      ]
     },
     "execution_count": 14,
     "metadata": {},
     "output_type": "execute_result"
    }
   ],
   "source": [
    "testStat, pValue = stats.shapiro(alongCharlesRiver[df[\"MEDV\"] != 50.0])\n",
    "\n",
    "pValue"
   ]
  },
  {
   "cell_type": "code",
   "execution_count": 15,
   "metadata": {},
   "outputs": [
    {
     "data": {
      "text/plain": [
       "5.540209957466402e-10"
      ]
     },
     "execution_count": 15,
     "metadata": {},
     "output_type": "execute_result"
    }
   ],
   "source": [
    "testStat, pValue = stats.shapiro(notAlongCharlesRiver[df[\"MEDV\"] != 50.0])\n",
    "\n",
    "pValue"
   ]
  },
  {
   "cell_type": "markdown",
   "metadata": {},
   "source": [
    "#### Mann-Whitney U test\n",
    "As the data is not normally distributed a non-parametric test should be used.[[10](#[10])] The Mann-Whitney U test (or Wilcoxon rank-sum test) can be used for non-para-metric data to test for the difference between two independent variables.[[10](#[10])]\n",
    "\n",
    "Although the Student t-test and Welch t-test aren't appropriate here, I've included them below to show how the values between these tests can vary."
   ]
  },
  {
   "cell_type": "markdown",
   "metadata": {},
   "source": [
    "### Student t-test\n",
    "\n",
    "The p-value for the Student t-test is less than 0.05 and we can therefore reject the null hypothesis as there is a significant difference between the means"
   ]
  },
  {
   "cell_type": "code",
   "execution_count": 16,
   "metadata": {},
   "outputs": [
    {
     "data": {
      "text/plain": [
       "7.390623170519905e-05"
      ]
     },
     "execution_count": 16,
     "metadata": {},
     "output_type": "execute_result"
    }
   ],
   "source": [
    "# Code for Student t-test\n",
    "from scipy.stats import ttest_ind as tti\n",
    "\n",
    "stti_stat, stti_p = tti(df[\"MEDV\"][df[\"CHAS\"] == 0], df[\"MEDV\"][df[\"CHAS\"] == 1], equal_var=True)\n",
    "\n",
    "stti_p"
   ]
  },
  {
   "cell_type": "markdown",
   "metadata": {},
   "source": [
    "### Welch t-test\n",
    "\n",
    "The p-value for the Welch t-test is less than 0.05 and we can therefore reject the null hypothesis as there is a significant difference between the means"
   ]
  },
  {
   "cell_type": "code",
   "execution_count": 17,
   "metadata": {},
   "outputs": [
    {
     "data": {
      "text/plain": [
       "0.003567170098137517"
      ]
     },
     "execution_count": 17,
     "metadata": {},
     "output_type": "execute_result"
    }
   ],
   "source": [
    "# Code for Welch t-test\n",
    "from scipy.stats import ttest_ind as tti\n",
    "\n",
    "wtti_stat, wtti_p = tti(df[\"MEDV\"][df[\"CHAS\"] == 0], df[\"MEDV\"][df[\"CHAS\"] == 1], equal_var=False)\n",
    "\n",
    "wtti_p"
   ]
  },
  {
   "cell_type": "markdown",
   "metadata": {},
   "source": [
    "### Mann-Whitney U test \n",
    "\n",
    "The p-value for the Mann-Whitney U test is less than 0.05 and we can therefore reject the null hypothesis as there is a significant difference between the means"
   ]
  },
  {
   "cell_type": "code",
   "execution_count": 18,
   "metadata": {},
   "outputs": [
    {
     "data": {
      "text/plain": [
       "MannwhitneyuResult(statistic=5605.5, pvalue=0.0007908352505647487)"
      ]
     },
     "execution_count": 18,
     "metadata": {},
     "output_type": "execute_result"
    }
   ],
   "source": [
    "# Code for Mann-Whitney U test\n",
    "from scipy.stats import mannwhitneyu as mwu\n",
    "\n",
    "mwu(df[\"MEDV\"][df[\"CHAS\"] == 0], df[\"MEDV\"][df[\"CHAS\"] == 1])"
   ]
  },
  {
   "cell_type": "markdown",
   "metadata": {},
   "source": [
    "## Predicting the Median Value of Owner-Occupied Homes\n",
    "This is a regression predictive modeling problem. Regression predictive modeling problems involve predicting a real-valued quantity.[[11](#[11])]\n",
    "\n",
    "Here we will try to predict the median value of owner-occupied homes by providing the values to the remaining attributes of the dataset to a neural network developed using the [Keras](https://keras.io/) package. Keras is an open-source neural network package which can run on top of TensorFlow as well as other packages.[[12](#[12])]\n",
    "\n",
    "![Neuron](https://upload.wikimedia.org/wikipedia/commons/4/44/Neuron3.png \"Neuron\")\n",
    "[[13](#[13])]\n",
    "\n",
    "Neural networks are alorgithms that are modelled on the human brain.[[14](#[14])] The human brain is composed of neurons which can recieve inputs via dendrites and can output signals via axon terminals.[[15](#[15])] Neural networks, when given a dataset to train on, can make predictions about that dataset.[[16](#[16])] In this example, we will train the neural network with the training dataset, then we will provide the test inputs and make predictions about what the outputs will be. We can then compare the predicted outputs against the test outputs. We can determine how much each predicted output varys from the test output by squaring the difference between these and then getting the mean of those values. That will give us the Mean Squared Error (MSE). The Root Mean Squared Error (RMSE) can then be got by getting the square root of the MSE. The performance of the neural network will be measured by the RMSE, with a small RMSE meaning that it is performing well.\n",
    "\n",
    "![Neural Network](https://upload.wikimedia.org/wikipedia/commons/thumb/4/46/Colored_neural_network.svg/296px-Colored_neural_network.svg.png \"Neural Network\")\n",
    "[[17](#[17])]"
   ]
  },
  {
   "cell_type": "markdown",
   "metadata": {},
   "source": [
    "### Preparing the data for the neural network"
   ]
  },
  {
   "cell_type": "markdown",
   "metadata": {},
   "source": [
    "Creating separate columns for true and false values for CHAS"
   ]
  },
  {
   "cell_type": "code",
   "execution_count": 19,
   "metadata": {},
   "outputs": [],
   "source": [
    "# Adapted from course materials\n",
    "# Importing numpy package\n",
    "import numpy as np\n",
    "\n",
    "# Creating true and false attributes for CHAS variable\n",
    "df[\"CHAS_True\"] = df[\"CHAS\"]\n",
    "df[\"CHAS_False\"] = (df[\"CHAS\"] == 0).astype(np.int)"
   ]
  },
  {
   "cell_type": "markdown",
   "metadata": {},
   "source": [
    "Separating the data into the independent variables and the target variable 'MEDV'. Dropping the 'CHAS' variable from the input as this is included in the 'CHAS_True' and 'CHAS_False' variables created above"
   ]
  },
  {
   "cell_type": "code",
   "execution_count": 20,
   "metadata": {},
   "outputs": [
    {
     "data": {
      "text/html": [
       "<div>\n",
       "<style scoped>\n",
       "    .dataframe tbody tr th:only-of-type {\n",
       "        vertical-align: middle;\n",
       "    }\n",
       "\n",
       "    .dataframe tbody tr th {\n",
       "        vertical-align: top;\n",
       "    }\n",
       "\n",
       "    .dataframe thead th {\n",
       "        text-align: right;\n",
       "    }\n",
       "</style>\n",
       "<table border=\"1\" class=\"dataframe\">\n",
       "  <thead>\n",
       "    <tr style=\"text-align: right;\">\n",
       "      <th></th>\n",
       "      <th>CRIM</th>\n",
       "      <th>ZN</th>\n",
       "      <th>INDUS</th>\n",
       "      <th>CHAS</th>\n",
       "      <th>NOX</th>\n",
       "      <th>RM</th>\n",
       "      <th>AGE</th>\n",
       "      <th>DIS</th>\n",
       "      <th>RAD</th>\n",
       "      <th>TAX</th>\n",
       "      <th>PTRATIO</th>\n",
       "      <th>B</th>\n",
       "      <th>LSTAT</th>\n",
       "      <th>MEDV</th>\n",
       "      <th>CHAS_True</th>\n",
       "      <th>CHAS_False</th>\n",
       "    </tr>\n",
       "  </thead>\n",
       "  <tbody>\n",
       "    <tr>\n",
       "      <td>0</td>\n",
       "      <td>0.00632</td>\n",
       "      <td>18.0</td>\n",
       "      <td>2.31</td>\n",
       "      <td>0</td>\n",
       "      <td>0.538</td>\n",
       "      <td>6.575</td>\n",
       "      <td>65.2</td>\n",
       "      <td>4.0900</td>\n",
       "      <td>1</td>\n",
       "      <td>296.0</td>\n",
       "      <td>15.3</td>\n",
       "      <td>396.90</td>\n",
       "      <td>4.98</td>\n",
       "      <td>24.0</td>\n",
       "      <td>0</td>\n",
       "      <td>1</td>\n",
       "    </tr>\n",
       "    <tr>\n",
       "      <td>1</td>\n",
       "      <td>0.02731</td>\n",
       "      <td>0.0</td>\n",
       "      <td>7.07</td>\n",
       "      <td>0</td>\n",
       "      <td>0.469</td>\n",
       "      <td>6.421</td>\n",
       "      <td>78.9</td>\n",
       "      <td>4.9671</td>\n",
       "      <td>2</td>\n",
       "      <td>242.0</td>\n",
       "      <td>17.8</td>\n",
       "      <td>396.90</td>\n",
       "      <td>9.14</td>\n",
       "      <td>21.6</td>\n",
       "      <td>0</td>\n",
       "      <td>1</td>\n",
       "    </tr>\n",
       "    <tr>\n",
       "      <td>2</td>\n",
       "      <td>0.02729</td>\n",
       "      <td>0.0</td>\n",
       "      <td>7.07</td>\n",
       "      <td>0</td>\n",
       "      <td>0.469</td>\n",
       "      <td>7.185</td>\n",
       "      <td>61.1</td>\n",
       "      <td>4.9671</td>\n",
       "      <td>2</td>\n",
       "      <td>242.0</td>\n",
       "      <td>17.8</td>\n",
       "      <td>392.83</td>\n",
       "      <td>4.03</td>\n",
       "      <td>34.7</td>\n",
       "      <td>0</td>\n",
       "      <td>1</td>\n",
       "    </tr>\n",
       "    <tr>\n",
       "      <td>3</td>\n",
       "      <td>0.03237</td>\n",
       "      <td>0.0</td>\n",
       "      <td>2.18</td>\n",
       "      <td>0</td>\n",
       "      <td>0.458</td>\n",
       "      <td>6.998</td>\n",
       "      <td>45.8</td>\n",
       "      <td>6.0622</td>\n",
       "      <td>3</td>\n",
       "      <td>222.0</td>\n",
       "      <td>18.7</td>\n",
       "      <td>394.63</td>\n",
       "      <td>2.94</td>\n",
       "      <td>33.4</td>\n",
       "      <td>0</td>\n",
       "      <td>1</td>\n",
       "    </tr>\n",
       "    <tr>\n",
       "      <td>4</td>\n",
       "      <td>0.06905</td>\n",
       "      <td>0.0</td>\n",
       "      <td>2.18</td>\n",
       "      <td>0</td>\n",
       "      <td>0.458</td>\n",
       "      <td>7.147</td>\n",
       "      <td>54.2</td>\n",
       "      <td>6.0622</td>\n",
       "      <td>3</td>\n",
       "      <td>222.0</td>\n",
       "      <td>18.7</td>\n",
       "      <td>396.90</td>\n",
       "      <td>5.33</td>\n",
       "      <td>36.2</td>\n",
       "      <td>0</td>\n",
       "      <td>1</td>\n",
       "    </tr>\n",
       "  </tbody>\n",
       "</table>\n",
       "</div>"
      ],
      "text/plain": [
       "      CRIM    ZN  INDUS  CHAS    NOX     RM   AGE     DIS  RAD    TAX  \\\n",
       "0  0.00632  18.0   2.31     0  0.538  6.575  65.2  4.0900    1  296.0   \n",
       "1  0.02731   0.0   7.07     0  0.469  6.421  78.9  4.9671    2  242.0   \n",
       "2  0.02729   0.0   7.07     0  0.469  7.185  61.1  4.9671    2  242.0   \n",
       "3  0.03237   0.0   2.18     0  0.458  6.998  45.8  6.0622    3  222.0   \n",
       "4  0.06905   0.0   2.18     0  0.458  7.147  54.2  6.0622    3  222.0   \n",
       "\n",
       "   PTRATIO       B  LSTAT  MEDV  CHAS_True  CHAS_False  \n",
       "0     15.3  396.90   4.98  24.0          0           1  \n",
       "1     17.8  396.90   9.14  21.6          0           1  \n",
       "2     17.8  392.83   4.03  34.7          0           1  \n",
       "3     18.7  394.63   2.94  33.4          0           1  \n",
       "4     18.7  396.90   5.33  36.2          0           1  "
      ]
     },
     "execution_count": 20,
     "metadata": {},
     "output_type": "execute_result"
    }
   ],
   "source": [
    "df.head()"
   ]
  },
  {
   "cell_type": "code",
   "execution_count": 21,
   "metadata": {},
   "outputs": [],
   "source": [
    "# Input/independent variables\n",
    "X = df.drop(columns=[\"MEDV\", \"CHAS\"])\n",
    "\n",
    "# Output/dependent variable\n",
    "y = df[\"MEDV\"]"
   ]
  },
  {
   "cell_type": "code",
   "execution_count": 22,
   "metadata": {},
   "outputs": [
    {
     "data": {
      "text/html": [
       "<div>\n",
       "<style scoped>\n",
       "    .dataframe tbody tr th:only-of-type {\n",
       "        vertical-align: middle;\n",
       "    }\n",
       "\n",
       "    .dataframe tbody tr th {\n",
       "        vertical-align: top;\n",
       "    }\n",
       "\n",
       "    .dataframe thead th {\n",
       "        text-align: right;\n",
       "    }\n",
       "</style>\n",
       "<table border=\"1\" class=\"dataframe\">\n",
       "  <thead>\n",
       "    <tr style=\"text-align: right;\">\n",
       "      <th></th>\n",
       "      <th>CRIM</th>\n",
       "      <th>ZN</th>\n",
       "      <th>INDUS</th>\n",
       "      <th>NOX</th>\n",
       "      <th>RM</th>\n",
       "      <th>AGE</th>\n",
       "      <th>DIS</th>\n",
       "      <th>RAD</th>\n",
       "      <th>TAX</th>\n",
       "      <th>PTRATIO</th>\n",
       "      <th>B</th>\n",
       "      <th>LSTAT</th>\n",
       "      <th>CHAS_True</th>\n",
       "      <th>CHAS_False</th>\n",
       "    </tr>\n",
       "  </thead>\n",
       "  <tbody>\n",
       "    <tr>\n",
       "      <td>0</td>\n",
       "      <td>0.00632</td>\n",
       "      <td>18.0</td>\n",
       "      <td>2.31</td>\n",
       "      <td>0.538</td>\n",
       "      <td>6.575</td>\n",
       "      <td>65.2</td>\n",
       "      <td>4.0900</td>\n",
       "      <td>1</td>\n",
       "      <td>296.0</td>\n",
       "      <td>15.3</td>\n",
       "      <td>396.90</td>\n",
       "      <td>4.98</td>\n",
       "      <td>0</td>\n",
       "      <td>1</td>\n",
       "    </tr>\n",
       "    <tr>\n",
       "      <td>1</td>\n",
       "      <td>0.02731</td>\n",
       "      <td>0.0</td>\n",
       "      <td>7.07</td>\n",
       "      <td>0.469</td>\n",
       "      <td>6.421</td>\n",
       "      <td>78.9</td>\n",
       "      <td>4.9671</td>\n",
       "      <td>2</td>\n",
       "      <td>242.0</td>\n",
       "      <td>17.8</td>\n",
       "      <td>396.90</td>\n",
       "      <td>9.14</td>\n",
       "      <td>0</td>\n",
       "      <td>1</td>\n",
       "    </tr>\n",
       "    <tr>\n",
       "      <td>2</td>\n",
       "      <td>0.02729</td>\n",
       "      <td>0.0</td>\n",
       "      <td>7.07</td>\n",
       "      <td>0.469</td>\n",
       "      <td>7.185</td>\n",
       "      <td>61.1</td>\n",
       "      <td>4.9671</td>\n",
       "      <td>2</td>\n",
       "      <td>242.0</td>\n",
       "      <td>17.8</td>\n",
       "      <td>392.83</td>\n",
       "      <td>4.03</td>\n",
       "      <td>0</td>\n",
       "      <td>1</td>\n",
       "    </tr>\n",
       "    <tr>\n",
       "      <td>3</td>\n",
       "      <td>0.03237</td>\n",
       "      <td>0.0</td>\n",
       "      <td>2.18</td>\n",
       "      <td>0.458</td>\n",
       "      <td>6.998</td>\n",
       "      <td>45.8</td>\n",
       "      <td>6.0622</td>\n",
       "      <td>3</td>\n",
       "      <td>222.0</td>\n",
       "      <td>18.7</td>\n",
       "      <td>394.63</td>\n",
       "      <td>2.94</td>\n",
       "      <td>0</td>\n",
       "      <td>1</td>\n",
       "    </tr>\n",
       "    <tr>\n",
       "      <td>4</td>\n",
       "      <td>0.06905</td>\n",
       "      <td>0.0</td>\n",
       "      <td>2.18</td>\n",
       "      <td>0.458</td>\n",
       "      <td>7.147</td>\n",
       "      <td>54.2</td>\n",
       "      <td>6.0622</td>\n",
       "      <td>3</td>\n",
       "      <td>222.0</td>\n",
       "      <td>18.7</td>\n",
       "      <td>396.90</td>\n",
       "      <td>5.33</td>\n",
       "      <td>0</td>\n",
       "      <td>1</td>\n",
       "    </tr>\n",
       "  </tbody>\n",
       "</table>\n",
       "</div>"
      ],
      "text/plain": [
       "      CRIM    ZN  INDUS    NOX     RM   AGE     DIS  RAD    TAX  PTRATIO  \\\n",
       "0  0.00632  18.0   2.31  0.538  6.575  65.2  4.0900    1  296.0     15.3   \n",
       "1  0.02731   0.0   7.07  0.469  6.421  78.9  4.9671    2  242.0     17.8   \n",
       "2  0.02729   0.0   7.07  0.469  7.185  61.1  4.9671    2  242.0     17.8   \n",
       "3  0.03237   0.0   2.18  0.458  6.998  45.8  6.0622    3  222.0     18.7   \n",
       "4  0.06905   0.0   2.18  0.458  7.147  54.2  6.0622    3  222.0     18.7   \n",
       "\n",
       "        B  LSTAT  CHAS_True  CHAS_False  \n",
       "0  396.90   4.98          0           1  \n",
       "1  396.90   9.14          0           1  \n",
       "2  392.83   4.03          0           1  \n",
       "3  394.63   2.94          0           1  \n",
       "4  396.90   5.33          0           1  "
      ]
     },
     "execution_count": 22,
     "metadata": {},
     "output_type": "execute_result"
    }
   ],
   "source": [
    "X.head()"
   ]
  },
  {
   "cell_type": "code",
   "execution_count": 23,
   "metadata": {},
   "outputs": [
    {
     "data": {
      "text/plain": [
       "0    24.0\n",
       "1    21.6\n",
       "2    34.7\n",
       "3    33.4\n",
       "4    36.2\n",
       "Name: MEDV, dtype: float64"
      ]
     },
     "execution_count": 23,
     "metadata": {},
     "output_type": "execute_result"
    }
   ],
   "source": [
    "y.head()"
   ]
  },
  {
   "cell_type": "markdown",
   "metadata": {},
   "source": [
    "#### Splitting datasets into random train and test subsets\n",
    "\n",
    "Setting the test size to 33% of the dataset"
   ]
  },
  {
   "cell_type": "code",
   "execution_count": 24,
   "metadata": {},
   "outputs": [],
   "source": [
    "# Importing train test split from sklearn\n",
    "from sklearn.model_selection import train_test_split\n",
    "\n",
    "# Splitting the output and input datasets into train and test subsets\n",
    "X_train, X_test, y_train, y_test = train_test_split(X, y, test_size=0.33)"
   ]
  },
  {
   "cell_type": "code",
   "execution_count": 25,
   "metadata": {},
   "outputs": [
    {
     "data": {
      "text/html": [
       "<div>\n",
       "<style scoped>\n",
       "    .dataframe tbody tr th:only-of-type {\n",
       "        vertical-align: middle;\n",
       "    }\n",
       "\n",
       "    .dataframe tbody tr th {\n",
       "        vertical-align: top;\n",
       "    }\n",
       "\n",
       "    .dataframe thead th {\n",
       "        text-align: right;\n",
       "    }\n",
       "</style>\n",
       "<table border=\"1\" class=\"dataframe\">\n",
       "  <thead>\n",
       "    <tr style=\"text-align: right;\">\n",
       "      <th></th>\n",
       "      <th>CRIM</th>\n",
       "      <th>ZN</th>\n",
       "      <th>INDUS</th>\n",
       "      <th>NOX</th>\n",
       "      <th>RM</th>\n",
       "      <th>AGE</th>\n",
       "      <th>DIS</th>\n",
       "      <th>RAD</th>\n",
       "      <th>TAX</th>\n",
       "      <th>PTRATIO</th>\n",
       "      <th>B</th>\n",
       "      <th>LSTAT</th>\n",
       "      <th>CHAS_True</th>\n",
       "      <th>CHAS_False</th>\n",
       "    </tr>\n",
       "  </thead>\n",
       "  <tbody>\n",
       "    <tr>\n",
       "      <td>419</td>\n",
       "      <td>11.81230</td>\n",
       "      <td>0.0</td>\n",
       "      <td>18.10</td>\n",
       "      <td>0.718</td>\n",
       "      <td>6.824</td>\n",
       "      <td>76.5</td>\n",
       "      <td>1.7940</td>\n",
       "      <td>24</td>\n",
       "      <td>666.0</td>\n",
       "      <td>20.2</td>\n",
       "      <td>48.45</td>\n",
       "      <td>22.74</td>\n",
       "      <td>0</td>\n",
       "      <td>1</td>\n",
       "    </tr>\n",
       "    <tr>\n",
       "      <td>340</td>\n",
       "      <td>0.06151</td>\n",
       "      <td>0.0</td>\n",
       "      <td>5.19</td>\n",
       "      <td>0.515</td>\n",
       "      <td>5.968</td>\n",
       "      <td>58.5</td>\n",
       "      <td>4.8122</td>\n",
       "      <td>5</td>\n",
       "      <td>224.0</td>\n",
       "      <td>20.2</td>\n",
       "      <td>396.90</td>\n",
       "      <td>9.29</td>\n",
       "      <td>0</td>\n",
       "      <td>1</td>\n",
       "    </tr>\n",
       "    <tr>\n",
       "      <td>100</td>\n",
       "      <td>0.14866</td>\n",
       "      <td>0.0</td>\n",
       "      <td>8.56</td>\n",
       "      <td>0.520</td>\n",
       "      <td>6.727</td>\n",
       "      <td>79.9</td>\n",
       "      <td>2.7778</td>\n",
       "      <td>5</td>\n",
       "      <td>384.0</td>\n",
       "      <td>20.9</td>\n",
       "      <td>394.76</td>\n",
       "      <td>9.42</td>\n",
       "      <td>0</td>\n",
       "      <td>1</td>\n",
       "    </tr>\n",
       "    <tr>\n",
       "      <td>403</td>\n",
       "      <td>24.80170</td>\n",
       "      <td>0.0</td>\n",
       "      <td>18.10</td>\n",
       "      <td>0.693</td>\n",
       "      <td>5.349</td>\n",
       "      <td>96.0</td>\n",
       "      <td>1.7028</td>\n",
       "      <td>24</td>\n",
       "      <td>666.0</td>\n",
       "      <td>20.2</td>\n",
       "      <td>396.90</td>\n",
       "      <td>19.77</td>\n",
       "      <td>0</td>\n",
       "      <td>1</td>\n",
       "    </tr>\n",
       "    <tr>\n",
       "      <td>127</td>\n",
       "      <td>0.25915</td>\n",
       "      <td>0.0</td>\n",
       "      <td>21.89</td>\n",
       "      <td>0.624</td>\n",
       "      <td>5.693</td>\n",
       "      <td>96.0</td>\n",
       "      <td>1.7883</td>\n",
       "      <td>4</td>\n",
       "      <td>437.0</td>\n",
       "      <td>21.2</td>\n",
       "      <td>392.11</td>\n",
       "      <td>17.19</td>\n",
       "      <td>0</td>\n",
       "      <td>1</td>\n",
       "    </tr>\n",
       "  </tbody>\n",
       "</table>\n",
       "</div>"
      ],
      "text/plain": [
       "         CRIM   ZN  INDUS    NOX     RM   AGE     DIS  RAD    TAX  PTRATIO  \\\n",
       "419  11.81230  0.0  18.10  0.718  6.824  76.5  1.7940   24  666.0     20.2   \n",
       "340   0.06151  0.0   5.19  0.515  5.968  58.5  4.8122    5  224.0     20.2   \n",
       "100   0.14866  0.0   8.56  0.520  6.727  79.9  2.7778    5  384.0     20.9   \n",
       "403  24.80170  0.0  18.10  0.693  5.349  96.0  1.7028   24  666.0     20.2   \n",
       "127   0.25915  0.0  21.89  0.624  5.693  96.0  1.7883    4  437.0     21.2   \n",
       "\n",
       "          B  LSTAT  CHAS_True  CHAS_False  \n",
       "419   48.45  22.74          0           1  \n",
       "340  396.90   9.29          0           1  \n",
       "100  394.76   9.42          0           1  \n",
       "403  396.90  19.77          0           1  \n",
       "127  392.11  17.19          0           1  "
      ]
     },
     "execution_count": 25,
     "metadata": {},
     "output_type": "execute_result"
    }
   ],
   "source": [
    "X_train.head()"
   ]
  },
  {
   "cell_type": "code",
   "execution_count": 26,
   "metadata": {},
   "outputs": [
    {
     "data": {
      "text/html": [
       "<div>\n",
       "<style scoped>\n",
       "    .dataframe tbody tr th:only-of-type {\n",
       "        vertical-align: middle;\n",
       "    }\n",
       "\n",
       "    .dataframe tbody tr th {\n",
       "        vertical-align: top;\n",
       "    }\n",
       "\n",
       "    .dataframe thead th {\n",
       "        text-align: right;\n",
       "    }\n",
       "</style>\n",
       "<table border=\"1\" class=\"dataframe\">\n",
       "  <thead>\n",
       "    <tr style=\"text-align: right;\">\n",
       "      <th></th>\n",
       "      <th>CRIM</th>\n",
       "      <th>ZN</th>\n",
       "      <th>INDUS</th>\n",
       "      <th>NOX</th>\n",
       "      <th>RM</th>\n",
       "      <th>AGE</th>\n",
       "      <th>DIS</th>\n",
       "      <th>RAD</th>\n",
       "      <th>TAX</th>\n",
       "      <th>PTRATIO</th>\n",
       "      <th>B</th>\n",
       "      <th>LSTAT</th>\n",
       "      <th>CHAS_True</th>\n",
       "      <th>CHAS_False</th>\n",
       "    </tr>\n",
       "  </thead>\n",
       "  <tbody>\n",
       "    <tr>\n",
       "      <td>205</td>\n",
       "      <td>0.13642</td>\n",
       "      <td>0.0</td>\n",
       "      <td>10.59</td>\n",
       "      <td>0.489</td>\n",
       "      <td>5.891</td>\n",
       "      <td>22.3</td>\n",
       "      <td>3.9454</td>\n",
       "      <td>4</td>\n",
       "      <td>277.0</td>\n",
       "      <td>18.6</td>\n",
       "      <td>396.90</td>\n",
       "      <td>10.87</td>\n",
       "      <td>0</td>\n",
       "      <td>1</td>\n",
       "    </tr>\n",
       "    <tr>\n",
       "      <td>116</td>\n",
       "      <td>0.13158</td>\n",
       "      <td>0.0</td>\n",
       "      <td>10.01</td>\n",
       "      <td>0.547</td>\n",
       "      <td>6.176</td>\n",
       "      <td>72.5</td>\n",
       "      <td>2.7301</td>\n",
       "      <td>6</td>\n",
       "      <td>432.0</td>\n",
       "      <td>17.8</td>\n",
       "      <td>393.30</td>\n",
       "      <td>12.04</td>\n",
       "      <td>0</td>\n",
       "      <td>1</td>\n",
       "    </tr>\n",
       "    <tr>\n",
       "      <td>313</td>\n",
       "      <td>0.26938</td>\n",
       "      <td>0.0</td>\n",
       "      <td>9.90</td>\n",
       "      <td>0.544</td>\n",
       "      <td>6.266</td>\n",
       "      <td>82.8</td>\n",
       "      <td>3.2628</td>\n",
       "      <td>4</td>\n",
       "      <td>304.0</td>\n",
       "      <td>18.4</td>\n",
       "      <td>393.39</td>\n",
       "      <td>7.90</td>\n",
       "      <td>0</td>\n",
       "      <td>1</td>\n",
       "    </tr>\n",
       "    <tr>\n",
       "      <td>504</td>\n",
       "      <td>0.10959</td>\n",
       "      <td>0.0</td>\n",
       "      <td>11.93</td>\n",
       "      <td>0.573</td>\n",
       "      <td>6.794</td>\n",
       "      <td>89.3</td>\n",
       "      <td>2.3889</td>\n",
       "      <td>1</td>\n",
       "      <td>273.0</td>\n",
       "      <td>21.0</td>\n",
       "      <td>393.45</td>\n",
       "      <td>6.48</td>\n",
       "      <td>0</td>\n",
       "      <td>1</td>\n",
       "    </tr>\n",
       "    <tr>\n",
       "      <td>137</td>\n",
       "      <td>0.35233</td>\n",
       "      <td>0.0</td>\n",
       "      <td>21.89</td>\n",
       "      <td>0.624</td>\n",
       "      <td>6.454</td>\n",
       "      <td>98.4</td>\n",
       "      <td>1.8498</td>\n",
       "      <td>4</td>\n",
       "      <td>437.0</td>\n",
       "      <td>21.2</td>\n",
       "      <td>394.08</td>\n",
       "      <td>14.59</td>\n",
       "      <td>0</td>\n",
       "      <td>1</td>\n",
       "    </tr>\n",
       "  </tbody>\n",
       "</table>\n",
       "</div>"
      ],
      "text/plain": [
       "        CRIM   ZN  INDUS    NOX     RM   AGE     DIS  RAD    TAX  PTRATIO  \\\n",
       "205  0.13642  0.0  10.59  0.489  5.891  22.3  3.9454    4  277.0     18.6   \n",
       "116  0.13158  0.0  10.01  0.547  6.176  72.5  2.7301    6  432.0     17.8   \n",
       "313  0.26938  0.0   9.90  0.544  6.266  82.8  3.2628    4  304.0     18.4   \n",
       "504  0.10959  0.0  11.93  0.573  6.794  89.3  2.3889    1  273.0     21.0   \n",
       "137  0.35233  0.0  21.89  0.624  6.454  98.4  1.8498    4  437.0     21.2   \n",
       "\n",
       "          B  LSTAT  CHAS_True  CHAS_False  \n",
       "205  396.90  10.87          0           1  \n",
       "116  393.30  12.04          0           1  \n",
       "313  393.39   7.90          0           1  \n",
       "504  393.45   6.48          0           1  \n",
       "137  394.08  14.59          0           1  "
      ]
     },
     "execution_count": 26,
     "metadata": {},
     "output_type": "execute_result"
    }
   ],
   "source": [
    "X_test.head()"
   ]
  },
  {
   "cell_type": "code",
   "execution_count": 27,
   "metadata": {},
   "outputs": [
    {
     "data": {
      "text/plain": [
       "419     8.4\n",
       "340    18.7\n",
       "100    27.5\n",
       "403     8.3\n",
       "127    16.2\n",
       "Name: MEDV, dtype: float64"
      ]
     },
     "execution_count": 27,
     "metadata": {},
     "output_type": "execute_result"
    }
   ],
   "source": [
    "y_train.head()"
   ]
  },
  {
   "cell_type": "code",
   "execution_count": 28,
   "metadata": {},
   "outputs": [
    {
     "data": {
      "text/plain": [
       "205    22.6\n",
       "116    21.2\n",
       "313    21.6\n",
       "504    22.0\n",
       "137    17.1\n",
       "Name: MEDV, dtype: float64"
      ]
     },
     "execution_count": 28,
     "metadata": {},
     "output_type": "execute_result"
    }
   ],
   "source": [
    "y_test.head()"
   ]
  },
  {
   "cell_type": "markdown",
   "metadata": {},
   "source": [
    "### Defining the neural net\n",
    "\n",
    "The input dimensions have been set to the number of columns in the input dataset. The first hidden layer is set at twice the input size. The next layer is equal in size to the input layer. The output has been set to 1. The whitened dataset above has been chosen based on further testing done below which appears to give the best result out of either the whitened/scaled/whitened and scaled datasets.\n",
    "\n",
    "All layers are using the Rectified Linear Unit (ReLU) activation function. Other activation functions didn't appear to give as good a result but maybe different combinations of activation functions might have. The ReLU activation function produces a zero output for all negative inputs and a positive linear output for postive inputs. [[18](#[18])]"
   ]
  },
  {
   "cell_type": "code",
   "execution_count": 29,
   "metadata": {},
   "outputs": [
    {
     "name": "stderr",
     "output_type": "stream",
     "text": [
      "Using TensorFlow backend.\n"
     ]
    }
   ],
   "source": [
    "# Adapted from https://machinelearningmastery.com/tutorial-first-neural-network-python-keras/\n",
    "\n",
    "# Importing packages\n",
    "from keras.models import Sequential\n",
    "from keras.layers import Dense\n",
    "\n",
    "# Determining the size of the input\n",
    "inputSize = len(X_train.columns)\n",
    "\n",
    "# Defining the neural network\n",
    "model = Sequential()\n",
    "model.add(Dense(2*inputSize, input_dim=inputSize, activation='relu'))\n",
    "model.add(Dense(inputSize, activation='relu'))\n",
    "model.add(Dense(1, activation='relu'))"
   ]
  },
  {
   "cell_type": "code",
   "execution_count": 30,
   "metadata": {},
   "outputs": [
    {
     "name": "stdout",
     "output_type": "stream",
     "text": [
      "Model: \"sequential_1\"\n",
      "_________________________________________________________________\n",
      "Layer (type)                 Output Shape              Param #   \n",
      "=================================================================\n",
      "dense_1 (Dense)              (None, 28)                420       \n",
      "_________________________________________________________________\n",
      "dense_2 (Dense)              (None, 14)                406       \n",
      "_________________________________________________________________\n",
      "dense_3 (Dense)              (None, 1)                 15        \n",
      "=================================================================\n",
      "Total params: 841\n",
      "Trainable params: 841\n",
      "Non-trainable params: 0\n",
      "_________________________________________________________________\n"
     ]
    }
   ],
   "source": [
    "model.summary()"
   ]
  },
  {
   "cell_type": "markdown",
   "metadata": {},
   "source": [
    "### Compiling the neural net\n",
    "\n",
    "As this is a regression problem, a Regression Loss Function will be used. Setting this to a Mean Squared Error Loss function. The mean squared error (MSE) is the average of the squares of the difference between the predicted value and the true value.[[19](#[19])] The root mean squared error (RMSE) is the square root of this.[[20](#[20])]"
   ]
  },
  {
   "cell_type": "code",
   "execution_count": 31,
   "metadata": {},
   "outputs": [],
   "source": [
    "# Compiling the neural net\n",
    "model.compile(loss='mean_squared_error', optimizer='adam')"
   ]
  },
  {
   "cell_type": "markdown",
   "metadata": {},
   "source": [
    "### Fitting the neural net to the training dataset"
   ]
  },
  {
   "cell_type": "code",
   "execution_count": 32,
   "metadata": {},
   "outputs": [
    {
     "data": {
      "text/plain": [
       "<keras.callbacks.callbacks.History at 0x1789c9ba400>"
      ]
     },
     "execution_count": 32,
     "metadata": {},
     "output_type": "execute_result"
    }
   ],
   "source": [
    "# Fitting the neural net\n",
    "model.fit(X_train, y_train, epochs=150, batch_size=8, verbose=0)"
   ]
  },
  {
   "cell_type": "markdown",
   "metadata": {},
   "source": [
    "### Predicting the output for test dataset\n",
    "\n",
    "We can view both the predicted values and the test values to compare them."
   ]
  },
  {
   "cell_type": "code",
   "execution_count": 33,
   "metadata": {},
   "outputs": [
    {
     "data": {
      "text/plain": [
       "array([[24.6, 24.2, 25.8, 25.9, 25.2, 43.4, 20.9, 20.2, 24.3, 34.7, 30.7,\n",
       "        16.1, 23. , 21.5, 20.1, 37. ,  9.4, 26.4, 23.7,  3.8, 24.3, 27.6,\n",
       "        24.4, 27.3, 15.9, 34.8, 21.6, 28.7, 32.3, 20.9, 37.6, 11.7, 41.4,\n",
       "        19.4, 26.7, 29.7, 26.6, 17.4, 38.2, 25.4, 26.7, 23.5, 27.6,  0. ,\n",
       "        28.2, 25. , 27.6, 16.8, 23.8, 25.2, 22.6, 25.1, 17.6, 10.3, 23.2,\n",
       "         7.7, 26. , 43.9, 31.1, 13.9, 34.5, 19.6, 17.2, 13.8, 30.9, 21. ,\n",
       "        38.2, 16.8, 15.2, 12.6, 13.5, 31.5, 17.6, 37.9, 28.4, 23.7, 26.9,\n",
       "        25.5, 23. , 23. , 22.1, 23.4, 24.6, 23.3, 21.6, 23.6, 26. , 25.8,\n",
       "        20.7, 23.6, 30.3, 30.8, 22.9, 29.2, 22.2, 20.1, 20.8, 31.8, 15. ,\n",
       "        22.4, 23.5, 20.6, 21.6, 37.6, 27.8, 27.6, 33.1, 26.8, 36.3, 18.3,\n",
       "        17.7, 24.3, 17.9, 12.5, 27.4, 21.1, 20.1, 24.7, 23.7, 25.2, 19.8,\n",
       "        29.2, 21.2, 18.4, 22.1, 21.7, 22.8, 23.1, 29.1, 25.3, 25.6, 23.6,\n",
       "        25.4, 14.9, 21.2, 28.5, 19.9, 20.2, 24.3, 24. , 23.3, 29.9, 18.7,\n",
       "        21.1, 27.8, 22.5, 33.7, 17.7, 13.1, 22.8, 29.2, 25.8, 28.4, 18.6,\n",
       "        26.7, 27.4, 27.6, 26. , 35.1, 18.1, 27.3, 21.3, 20.3, 27.6, 16.9,\n",
       "        23.3, 16.7]], dtype=float32)"
      ]
     },
     "execution_count": 33,
     "metadata": {},
     "output_type": "execute_result"
    }
   ],
   "source": [
    "# Predicting the median house prices for the whitened input dataset\n",
    "y_predicted = model.predict(X_test)\n",
    "\n",
    "# Convert the y_predicted array into a numpy array \n",
    "y_predictedNP = np.array(y_predicted)\n",
    "\n",
    "# Transposing and rounding the predicted values dataset for easier viewing\n",
    "y_predictedNP.T.round(1)"
   ]
  },
  {
   "cell_type": "code",
   "execution_count": 34,
   "metadata": {},
   "outputs": [
    {
     "data": {
      "text/plain": [
       "array([23., 21., 22., 22., 17., 50., 19., 22., 18., 35., 30.,  7., 25.,\n",
       "       19., 19., 50., 14., 22., 12.,  8., 22., 24., 25., 24., 13., 37.,\n",
       "       20., 30., 35., 16., 38.,  6., 48., 17., 23., 44., 19., 15., 45.,\n",
       "       14., 24., 17., 19.,  7., 24., 20., 23., 20., 23., 19., 19., 23.,\n",
       "       12., 14., 30.,  5., 20., 50., 42., 17., 28., 15., 16., 12., 36.,\n",
       "       16., 44., 14., 13.,  8., 10., 48., 23., 41., 25., 20., 23., 24.,\n",
       "       13., 16., 21., 21., 20., 16., 18., 30., 27., 18., 15., 22., 33.,\n",
       "       33., 19., 37., 20., 13., 14., 31., 12., 13., 28., 20., 18., 36.,\n",
       "       17., 31., 35., 25., 37., 27., 19., 18., 13., 12., 15., 19., 12.,\n",
       "       21., 21., 28., 17., 29., 15., 18., 18., 12., 16., 19., 28., 22.,\n",
       "       21., 15., 21., 12., 20., 29., 20., 13., 20., 22., 21., 32., 21.,\n",
       "       22., 24., 17., 39., 17., 16., 17., 29., 26., 23., 18., 23., 22.,\n",
       "       26., 23., 23., 20., 23., 21., 14., 17., 10., 23., 19.])"
      ]
     },
     "execution_count": 34,
     "metadata": {},
     "output_type": "execute_result"
    }
   ],
   "source": [
    "# Viewing the y test values\n",
    "y_test.values.round()"
   ]
  },
  {
   "cell_type": "markdown",
   "metadata": {},
   "source": [
    "We can also plot the predicted values against the test values. The true values are represented by a straight line (the x and y values have both been set to the y_test array to produce a line with slope 1). Any dot that is above this line represents a value that has been over predicted by the model and any below the line has been under predicted. We can see that the test values that are 50 have been under predicted. There also seems to be a lot of values in the ~15 to ~25 range that have been over predicted.  "
   ]
  },
  {
   "cell_type": "code",
   "execution_count": 35,
   "metadata": {},
   "outputs": [
    {
     "data": {
      "image/png": "[encoded data removed]",
      "text/plain": [
       "<Figure size 432x288 with 1 Axes>"
      ]
     },
     "metadata": {
      "needs_background": "light"
     },
     "output_type": "display_data"
    }
   ],
   "source": [
    "# Adapted from course materials\n",
    "# Plotting the test values against the predicted values\n",
    "plt.plot(y_test.values, y_predictedNP.T[0], 'r.', label='Prediction')\n",
    "\n",
    "# Creating the straight line\n",
    "plt.plot(y_test.values, y_test.values, 'k-', label='Test')\n",
    "\n",
    "# Creating a legend\n",
    "plt.legend()\n",
    "\n",
    "# Showing the plot\n",
    "plt.show()"
   ]
  },
  {
   "cell_type": "markdown",
   "metadata": {},
   "source": [
    "### Evaluating the neural net"
   ]
  },
  {
   "cell_type": "code",
   "execution_count": 36,
   "metadata": {},
   "outputs": [
    {
     "name": "stdout",
     "output_type": "stream",
     "text": [
      "167/167 [==============================] - 0s 323us/step\n"
     ]
    },
    {
     "data": {
      "text/plain": [
       "5.315283907671319"
      ]
     },
     "execution_count": 36,
     "metadata": {},
     "output_type": "execute_result"
    }
   ],
   "source": [
    "# Get the MSE\n",
    "mse = model.evaluate(X_test, y_test) \n",
    "    \n",
    "# Get the RMSE by getting the square root of the MSE\n",
    "rmse = mse ** 0.5\n",
    "\n",
    "# Viewing the RMSE\n",
    "rmse"
   ]
  },
  {
   "cell_type": "markdown",
   "metadata": {},
   "source": [
    "## Improving the Neural Network\n",
    "\n",
    "There are a number of steps we can take to improve the neural network. Below we will look at preprocessing the dataset as well as determining the best setting for the epochs and batch size.\n",
    "\n",
    "### Preprocessing the dataset\n",
    "\n",
    "#### Scaling the dataset\n",
    "\n",
    "Machine learning algorithms can sometimes perform poorly if the dataset is not first standarized.[[21](#[21])] We can use the [sklearn](https://scikit-learn.org/stable/modules/preprocessing.html) StandardScaler function to scale the dataset. This removes the mean value from each feature and then divides by them by their standard deviation.[[21](#[21])]"
   ]
  },
  {
   "cell_type": "code",
   "execution_count": 37,
   "metadata": {},
   "outputs": [
    {
     "name": "stderr",
     "output_type": "stream",
     "text": [
      "C:\\ProgramData\\Anaconda3\\lib\\site-packages\\sklearn\\preprocessing\\data.py:625: DataConversionWarning: Data with input dtype int32, int64, float64 were all converted to float64 by StandardScaler.\n",
      "  return self.partial_fit(X, y)\n",
      "C:\\ProgramData\\Anaconda3\\lib\\site-packages\\ipykernel_launcher.py:12: DataConversionWarning: Data with input dtype int32, int64, float64 were all converted to float64 by StandardScaler.\n",
      "  if sys.path[0] == '':\n",
      "C:\\ProgramData\\Anaconda3\\lib\\site-packages\\ipykernel_launcher.py:13: DataConversionWarning: Data with input dtype int32, int64, float64 were all converted to float64 by StandardScaler.\n",
      "  del sys.path[0]\n"
     ]
    }
   ],
   "source": [
    "# Adapted from course materials\n",
    "import pandas as pd\n",
    "import sklearn.preprocessing as pre\n",
    "import numpy as np\n",
    "\n",
    "# Initialize the scaler\n",
    "scaler = pre.StandardScaler()\n",
    "# Fit the scaler to the training input dataset\n",
    "scaler.fit(X_train)\n",
    "\n",
    "# Scale the train and test input datasets\n",
    "scaled_X_train =  pd.DataFrame(scaler.transform(X_train), columns=X_train.columns)\n",
    "scaled_X_test = pd.DataFrame(scaler.transform(X_test), columns=X_test.columns)"
   ]
  },
  {
   "cell_type": "code",
   "execution_count": 38,
   "metadata": {},
   "outputs": [
    {
     "data": {
      "text/html": [
       "<div>\n",
       "<style scoped>\n",
       "    .dataframe tbody tr th:only-of-type {\n",
       "        vertical-align: middle;\n",
       "    }\n",
       "\n",
       "    .dataframe tbody tr th {\n",
       "        vertical-align: top;\n",
       "    }\n",
       "\n",
       "    .dataframe thead th {\n",
       "        text-align: right;\n",
       "    }\n",
       "</style>\n",
       "<table border=\"1\" class=\"dataframe\">\n",
       "  <thead>\n",
       "    <tr style=\"text-align: right;\">\n",
       "      <th></th>\n",
       "      <th>CRIM</th>\n",
       "      <th>ZN</th>\n",
       "      <th>INDUS</th>\n",
       "      <th>NOX</th>\n",
       "      <th>RM</th>\n",
       "      <th>AGE</th>\n",
       "      <th>DIS</th>\n",
       "      <th>RAD</th>\n",
       "      <th>TAX</th>\n",
       "      <th>PTRATIO</th>\n",
       "      <th>B</th>\n",
       "      <th>LSTAT</th>\n",
       "      <th>CHAS_True</th>\n",
       "      <th>CHAS_False</th>\n",
       "    </tr>\n",
       "  </thead>\n",
       "  <tbody>\n",
       "    <tr>\n",
       "      <td>count</td>\n",
       "      <td>339.00</td>\n",
       "      <td>339.00</td>\n",
       "      <td>339.00</td>\n",
       "      <td>339.00</td>\n",
       "      <td>339.00</td>\n",
       "      <td>339.00</td>\n",
       "      <td>339.00</td>\n",
       "      <td>339.00</td>\n",
       "      <td>339.00</td>\n",
       "      <td>339.00</td>\n",
       "      <td>339.00</td>\n",
       "      <td>339.00</td>\n",
       "      <td>339.00</td>\n",
       "      <td>339.00</td>\n",
       "    </tr>\n",
       "    <tr>\n",
       "      <td>mean</td>\n",
       "      <td>-0.00</td>\n",
       "      <td>-0.00</td>\n",
       "      <td>0.00</td>\n",
       "      <td>0.00</td>\n",
       "      <td>0.00</td>\n",
       "      <td>-0.00</td>\n",
       "      <td>-0.00</td>\n",
       "      <td>-0.00</td>\n",
       "      <td>0.00</td>\n",
       "      <td>-0.00</td>\n",
       "      <td>-0.00</td>\n",
       "      <td>-0.00</td>\n",
       "      <td>0.00</td>\n",
       "      <td>0.00</td>\n",
       "    </tr>\n",
       "    <tr>\n",
       "      <td>std</td>\n",
       "      <td>1.00</td>\n",
       "      <td>1.00</td>\n",
       "      <td>1.00</td>\n",
       "      <td>1.00</td>\n",
       "      <td>1.00</td>\n",
       "      <td>1.00</td>\n",
       "      <td>1.00</td>\n",
       "      <td>1.00</td>\n",
       "      <td>1.00</td>\n",
       "      <td>1.00</td>\n",
       "      <td>1.00</td>\n",
       "      <td>1.00</td>\n",
       "      <td>1.00</td>\n",
       "      <td>1.00</td>\n",
       "    </tr>\n",
       "    <tr>\n",
       "      <td>min</td>\n",
       "      <td>-0.40</td>\n",
       "      <td>-0.52</td>\n",
       "      <td>-1.54</td>\n",
       "      <td>-1.47</td>\n",
       "      <td>-3.77</td>\n",
       "      <td>-2.29</td>\n",
       "      <td>-1.26</td>\n",
       "      <td>-1.00</td>\n",
       "      <td>-1.29</td>\n",
       "      <td>-2.77</td>\n",
       "      <td>-3.83</td>\n",
       "      <td>-1.51</td>\n",
       "      <td>-0.26</td>\n",
       "      <td>-3.80</td>\n",
       "    </tr>\n",
       "    <tr>\n",
       "      <td>25%</td>\n",
       "      <td>-0.40</td>\n",
       "      <td>-0.52</td>\n",
       "      <td>-0.84</td>\n",
       "      <td>-0.91</td>\n",
       "      <td>-0.56</td>\n",
       "      <td>-0.87</td>\n",
       "      <td>-0.84</td>\n",
       "      <td>-0.66</td>\n",
       "      <td>-0.75</td>\n",
       "      <td>-0.52</td>\n",
       "      <td>0.21</td>\n",
       "      <td>-0.78</td>\n",
       "      <td>-0.26</td>\n",
       "      <td>0.26</td>\n",
       "    </tr>\n",
       "    <tr>\n",
       "      <td>50%</td>\n",
       "      <td>-0.38</td>\n",
       "      <td>-0.52</td>\n",
       "      <td>-0.34</td>\n",
       "      <td>-0.15</td>\n",
       "      <td>-0.12</td>\n",
       "      <td>0.32</td>\n",
       "      <td>-0.24</td>\n",
       "      <td>-0.54</td>\n",
       "      <td>-0.53</td>\n",
       "      <td>0.27</td>\n",
       "      <td>0.38</td>\n",
       "      <td>-0.23</td>\n",
       "      <td>-0.26</td>\n",
       "      <td>0.26</td>\n",
       "    </tr>\n",
       "    <tr>\n",
       "      <td>75%</td>\n",
       "      <td>-0.02</td>\n",
       "      <td>0.32</td>\n",
       "      <td>1.07</td>\n",
       "      <td>0.71</td>\n",
       "      <td>0.49</td>\n",
       "      <td>0.90</td>\n",
       "      <td>0.65</td>\n",
       "      <td>1.64</td>\n",
       "      <td>1.53</td>\n",
       "      <td>0.79</td>\n",
       "      <td>0.43</td>\n",
       "      <td>0.56</td>\n",
       "      <td>-0.26</td>\n",
       "      <td>0.26</td>\n",
       "    </tr>\n",
       "    <tr>\n",
       "      <td>max</td>\n",
       "      <td>8.92</td>\n",
       "      <td>3.71</td>\n",
       "      <td>2.49</td>\n",
       "      <td>2.89</td>\n",
       "      <td>3.47</td>\n",
       "      <td>1.16</td>\n",
       "      <td>3.67</td>\n",
       "      <td>1.64</td>\n",
       "      <td>1.80</td>\n",
       "      <td>1.63</td>\n",
       "      <td>0.44</td>\n",
       "      <td>3.56</td>\n",
       "      <td>3.80</td>\n",
       "      <td>0.26</td>\n",
       "    </tr>\n",
       "  </tbody>\n",
       "</table>\n",
       "</div>"
      ],
      "text/plain": [
       "         CRIM      ZN   INDUS     NOX      RM     AGE     DIS     RAD     TAX  \\\n",
       "count  339.00  339.00  339.00  339.00  339.00  339.00  339.00  339.00  339.00   \n",
       "mean    -0.00   -0.00    0.00    0.00    0.00   -0.00   -0.00   -0.00    0.00   \n",
       "std      1.00    1.00    1.00    1.00    1.00    1.00    1.00    1.00    1.00   \n",
       "min     -0.40   -0.52   -1.54   -1.47   -3.77   -2.29   -1.26   -1.00   -1.29   \n",
       "25%     -0.40   -0.52   -0.84   -0.91   -0.56   -0.87   -0.84   -0.66   -0.75   \n",
       "50%     -0.38   -0.52   -0.34   -0.15   -0.12    0.32   -0.24   -0.54   -0.53   \n",
       "75%     -0.02    0.32    1.07    0.71    0.49    0.90    0.65    1.64    1.53   \n",
       "max      8.92    3.71    2.49    2.89    3.47    1.16    3.67    1.64    1.80   \n",
       "\n",
       "       PTRATIO       B   LSTAT  CHAS_True  CHAS_False  \n",
       "count   339.00  339.00  339.00     339.00      339.00  \n",
       "mean     -0.00   -0.00   -0.00       0.00        0.00  \n",
       "std       1.00    1.00    1.00       1.00        1.00  \n",
       "min      -2.77   -3.83   -1.51      -0.26       -3.80  \n",
       "25%      -0.52    0.21   -0.78      -0.26        0.26  \n",
       "50%       0.27    0.38   -0.23      -0.26        0.26  \n",
       "75%       0.79    0.43    0.56      -0.26        0.26  \n",
       "max       1.63    0.44    3.56       3.80        0.26  "
      ]
     },
     "execution_count": 38,
     "metadata": {},
     "output_type": "execute_result"
    }
   ],
   "source": [
    "# Viewing the scaled training input dataset\n",
    "round(scaled_X_train.describe(), 2)"
   ]
  },
  {
   "cell_type": "markdown",
   "metadata": {},
   "source": [
    "#### Whitening the dataset\n",
    "\n",
    "A dataset can be whitened by using Principal Components Analysis, which is used for dimensionality reduction.[[22](#[22])] Whitening the dataset will have the effect of uncorrelating the variables.[[23](#[23])]"
   ]
  },
  {
   "cell_type": "code",
   "execution_count": 39,
   "metadata": {},
   "outputs": [],
   "source": [
    "# Adapted from course materials\n",
    "import sklearn.decomposition as dec\n",
    "\n",
    "# Create the PCA model that will whiten the input datasets\n",
    "pca = dec.PCA(n_components=len(X_train.columns), whiten=True)\n",
    "\n",
    "# Fit the model to the input training dataset\n",
    "pca.fit(X_train)\n",
    "\n",
    "# Create the whitened input datasets\n",
    "whitened_X_train = pd.DataFrame(pca.transform(X_train), columns=X_train.columns)\n",
    "whitened_X_test = pd.DataFrame(pca.transform(X_test), columns=X_test.columns)"
   ]
  },
  {
   "cell_type": "code",
   "execution_count": 40,
   "metadata": {},
   "outputs": [
    {
     "data": {
      "text/html": [
       "<div>\n",
       "<style scoped>\n",
       "    .dataframe tbody tr th:only-of-type {\n",
       "        vertical-align: middle;\n",
       "    }\n",
       "\n",
       "    .dataframe tbody tr th {\n",
       "        vertical-align: top;\n",
       "    }\n",
       "\n",
       "    .dataframe thead th {\n",
       "        text-align: right;\n",
       "    }\n",
       "</style>\n",
       "<table border=\"1\" class=\"dataframe\">\n",
       "  <thead>\n",
       "    <tr style=\"text-align: right;\">\n",
       "      <th></th>\n",
       "      <th>CRIM</th>\n",
       "      <th>ZN</th>\n",
       "      <th>INDUS</th>\n",
       "      <th>NOX</th>\n",
       "      <th>RM</th>\n",
       "      <th>AGE</th>\n",
       "      <th>DIS</th>\n",
       "      <th>RAD</th>\n",
       "      <th>TAX</th>\n",
       "      <th>PTRATIO</th>\n",
       "      <th>B</th>\n",
       "      <th>LSTAT</th>\n",
       "      <th>CHAS_True</th>\n",
       "      <th>CHAS_False</th>\n",
       "    </tr>\n",
       "  </thead>\n",
       "  <tbody>\n",
       "    <tr>\n",
       "      <td>CRIM</td>\n",
       "      <td>1.0</td>\n",
       "      <td>0.0</td>\n",
       "      <td>-0.0</td>\n",
       "      <td>-0.0</td>\n",
       "      <td>0.0</td>\n",
       "      <td>-0.0</td>\n",
       "      <td>-0.0</td>\n",
       "      <td>0.0</td>\n",
       "      <td>0.0</td>\n",
       "      <td>0.0</td>\n",
       "      <td>-0.0</td>\n",
       "      <td>0.0</td>\n",
       "      <td>0.0</td>\n",
       "      <td>0.0</td>\n",
       "    </tr>\n",
       "    <tr>\n",
       "      <td>ZN</td>\n",
       "      <td>0.0</td>\n",
       "      <td>1.0</td>\n",
       "      <td>0.0</td>\n",
       "      <td>-0.0</td>\n",
       "      <td>-0.0</td>\n",
       "      <td>-0.0</td>\n",
       "      <td>0.0</td>\n",
       "      <td>-0.0</td>\n",
       "      <td>0.0</td>\n",
       "      <td>-0.0</td>\n",
       "      <td>0.0</td>\n",
       "      <td>-0.0</td>\n",
       "      <td>-0.0</td>\n",
       "      <td>-0.0</td>\n",
       "    </tr>\n",
       "    <tr>\n",
       "      <td>INDUS</td>\n",
       "      <td>-0.0</td>\n",
       "      <td>0.0</td>\n",
       "      <td>1.0</td>\n",
       "      <td>0.0</td>\n",
       "      <td>-0.0</td>\n",
       "      <td>0.0</td>\n",
       "      <td>-0.0</td>\n",
       "      <td>-0.0</td>\n",
       "      <td>-0.0</td>\n",
       "      <td>0.0</td>\n",
       "      <td>-0.0</td>\n",
       "      <td>-0.0</td>\n",
       "      <td>0.0</td>\n",
       "      <td>0.0</td>\n",
       "    </tr>\n",
       "    <tr>\n",
       "      <td>NOX</td>\n",
       "      <td>-0.0</td>\n",
       "      <td>-0.0</td>\n",
       "      <td>0.0</td>\n",
       "      <td>1.0</td>\n",
       "      <td>-0.0</td>\n",
       "      <td>0.0</td>\n",
       "      <td>-0.0</td>\n",
       "      <td>0.0</td>\n",
       "      <td>-0.0</td>\n",
       "      <td>0.0</td>\n",
       "      <td>0.0</td>\n",
       "      <td>-0.0</td>\n",
       "      <td>-0.0</td>\n",
       "      <td>-0.0</td>\n",
       "    </tr>\n",
       "    <tr>\n",
       "      <td>RM</td>\n",
       "      <td>0.0</td>\n",
       "      <td>-0.0</td>\n",
       "      <td>-0.0</td>\n",
       "      <td>-0.0</td>\n",
       "      <td>1.0</td>\n",
       "      <td>-0.0</td>\n",
       "      <td>-0.0</td>\n",
       "      <td>0.0</td>\n",
       "      <td>-0.0</td>\n",
       "      <td>-0.0</td>\n",
       "      <td>-0.0</td>\n",
       "      <td>-0.0</td>\n",
       "      <td>0.0</td>\n",
       "      <td>0.0</td>\n",
       "    </tr>\n",
       "    <tr>\n",
       "      <td>AGE</td>\n",
       "      <td>-0.0</td>\n",
       "      <td>-0.0</td>\n",
       "      <td>0.0</td>\n",
       "      <td>0.0</td>\n",
       "      <td>-0.0</td>\n",
       "      <td>1.0</td>\n",
       "      <td>0.0</td>\n",
       "      <td>-0.0</td>\n",
       "      <td>-0.0</td>\n",
       "      <td>0.0</td>\n",
       "      <td>-0.0</td>\n",
       "      <td>-0.0</td>\n",
       "      <td>0.0</td>\n",
       "      <td>0.0</td>\n",
       "    </tr>\n",
       "    <tr>\n",
       "      <td>DIS</td>\n",
       "      <td>-0.0</td>\n",
       "      <td>0.0</td>\n",
       "      <td>-0.0</td>\n",
       "      <td>-0.0</td>\n",
       "      <td>-0.0</td>\n",
       "      <td>0.0</td>\n",
       "      <td>1.0</td>\n",
       "      <td>-0.0</td>\n",
       "      <td>-0.0</td>\n",
       "      <td>0.0</td>\n",
       "      <td>0.0</td>\n",
       "      <td>-0.0</td>\n",
       "      <td>0.0</td>\n",
       "      <td>0.0</td>\n",
       "    </tr>\n",
       "    <tr>\n",
       "      <td>RAD</td>\n",
       "      <td>0.0</td>\n",
       "      <td>-0.0</td>\n",
       "      <td>-0.0</td>\n",
       "      <td>0.0</td>\n",
       "      <td>0.0</td>\n",
       "      <td>-0.0</td>\n",
       "      <td>-0.0</td>\n",
       "      <td>1.0</td>\n",
       "      <td>-0.0</td>\n",
       "      <td>0.0</td>\n",
       "      <td>0.0</td>\n",
       "      <td>-0.0</td>\n",
       "      <td>-0.0</td>\n",
       "      <td>-0.0</td>\n",
       "    </tr>\n",
       "    <tr>\n",
       "      <td>TAX</td>\n",
       "      <td>0.0</td>\n",
       "      <td>0.0</td>\n",
       "      <td>-0.0</td>\n",
       "      <td>-0.0</td>\n",
       "      <td>-0.0</td>\n",
       "      <td>-0.0</td>\n",
       "      <td>-0.0</td>\n",
       "      <td>-0.0</td>\n",
       "      <td>1.0</td>\n",
       "      <td>-0.0</td>\n",
       "      <td>-0.0</td>\n",
       "      <td>0.0</td>\n",
       "      <td>-0.0</td>\n",
       "      <td>-0.0</td>\n",
       "    </tr>\n",
       "    <tr>\n",
       "      <td>PTRATIO</td>\n",
       "      <td>0.0</td>\n",
       "      <td>-0.0</td>\n",
       "      <td>0.0</td>\n",
       "      <td>0.0</td>\n",
       "      <td>-0.0</td>\n",
       "      <td>0.0</td>\n",
       "      <td>0.0</td>\n",
       "      <td>0.0</td>\n",
       "      <td>-0.0</td>\n",
       "      <td>1.0</td>\n",
       "      <td>0.0</td>\n",
       "      <td>-0.0</td>\n",
       "      <td>0.0</td>\n",
       "      <td>-0.0</td>\n",
       "    </tr>\n",
       "    <tr>\n",
       "      <td>B</td>\n",
       "      <td>-0.0</td>\n",
       "      <td>0.0</td>\n",
       "      <td>-0.0</td>\n",
       "      <td>0.0</td>\n",
       "      <td>-0.0</td>\n",
       "      <td>-0.0</td>\n",
       "      <td>0.0</td>\n",
       "      <td>0.0</td>\n",
       "      <td>-0.0</td>\n",
       "      <td>0.0</td>\n",
       "      <td>1.0</td>\n",
       "      <td>-0.0</td>\n",
       "      <td>-0.0</td>\n",
       "      <td>1.0</td>\n",
       "    </tr>\n",
       "    <tr>\n",
       "      <td>LSTAT</td>\n",
       "      <td>0.0</td>\n",
       "      <td>-0.0</td>\n",
       "      <td>-0.0</td>\n",
       "      <td>-0.0</td>\n",
       "      <td>-0.0</td>\n",
       "      <td>-0.0</td>\n",
       "      <td>-0.0</td>\n",
       "      <td>-0.0</td>\n",
       "      <td>0.0</td>\n",
       "      <td>-0.0</td>\n",
       "      <td>-0.0</td>\n",
       "      <td>1.0</td>\n",
       "      <td>-0.0</td>\n",
       "      <td>-0.0</td>\n",
       "    </tr>\n",
       "    <tr>\n",
       "      <td>CHAS_True</td>\n",
       "      <td>0.0</td>\n",
       "      <td>-0.0</td>\n",
       "      <td>0.0</td>\n",
       "      <td>-0.0</td>\n",
       "      <td>0.0</td>\n",
       "      <td>0.0</td>\n",
       "      <td>0.0</td>\n",
       "      <td>-0.0</td>\n",
       "      <td>-0.0</td>\n",
       "      <td>0.0</td>\n",
       "      <td>-0.0</td>\n",
       "      <td>-0.0</td>\n",
       "      <td>1.0</td>\n",
       "      <td>-0.0</td>\n",
       "    </tr>\n",
       "    <tr>\n",
       "      <td>CHAS_False</td>\n",
       "      <td>0.0</td>\n",
       "      <td>-0.0</td>\n",
       "      <td>0.0</td>\n",
       "      <td>-0.0</td>\n",
       "      <td>0.0</td>\n",
       "      <td>0.0</td>\n",
       "      <td>0.0</td>\n",
       "      <td>-0.0</td>\n",
       "      <td>-0.0</td>\n",
       "      <td>-0.0</td>\n",
       "      <td>1.0</td>\n",
       "      <td>-0.0</td>\n",
       "      <td>-0.0</td>\n",
       "      <td>1.0</td>\n",
       "    </tr>\n",
       "  </tbody>\n",
       "</table>\n",
       "</div>"
      ],
      "text/plain": [
       "            CRIM   ZN  INDUS  NOX   RM  AGE  DIS  RAD  TAX  PTRATIO    B  \\\n",
       "CRIM         1.0  0.0   -0.0 -0.0  0.0 -0.0 -0.0  0.0  0.0      0.0 -0.0   \n",
       "ZN           0.0  1.0    0.0 -0.0 -0.0 -0.0  0.0 -0.0  0.0     -0.0  0.0   \n",
       "INDUS       -0.0  0.0    1.0  0.0 -0.0  0.0 -0.0 -0.0 -0.0      0.0 -0.0   \n",
       "NOX         -0.0 -0.0    0.0  1.0 -0.0  0.0 -0.0  0.0 -0.0      0.0  0.0   \n",
       "RM           0.0 -0.0   -0.0 -0.0  1.0 -0.0 -0.0  0.0 -0.0     -0.0 -0.0   \n",
       "AGE         -0.0 -0.0    0.0  0.0 -0.0  1.0  0.0 -0.0 -0.0      0.0 -0.0   \n",
       "DIS         -0.0  0.0   -0.0 -0.0 -0.0  0.0  1.0 -0.0 -0.0      0.0  0.0   \n",
       "RAD          0.0 -0.0   -0.0  0.0  0.0 -0.0 -0.0  1.0 -0.0      0.0  0.0   \n",
       "TAX          0.0  0.0   -0.0 -0.0 -0.0 -0.0 -0.0 -0.0  1.0     -0.0 -0.0   \n",
       "PTRATIO      0.0 -0.0    0.0  0.0 -0.0  0.0  0.0  0.0 -0.0      1.0  0.0   \n",
       "B           -0.0  0.0   -0.0  0.0 -0.0 -0.0  0.0  0.0 -0.0      0.0  1.0   \n",
       "LSTAT        0.0 -0.0   -0.0 -0.0 -0.0 -0.0 -0.0 -0.0  0.0     -0.0 -0.0   \n",
       "CHAS_True    0.0 -0.0    0.0 -0.0  0.0  0.0  0.0 -0.0 -0.0      0.0 -0.0   \n",
       "CHAS_False   0.0 -0.0    0.0 -0.0  0.0  0.0  0.0 -0.0 -0.0     -0.0  1.0   \n",
       "\n",
       "            LSTAT  CHAS_True  CHAS_False  \n",
       "CRIM          0.0        0.0         0.0  \n",
       "ZN           -0.0       -0.0        -0.0  \n",
       "INDUS        -0.0        0.0         0.0  \n",
       "NOX          -0.0       -0.0        -0.0  \n",
       "RM           -0.0        0.0         0.0  \n",
       "AGE          -0.0        0.0         0.0  \n",
       "DIS          -0.0        0.0         0.0  \n",
       "RAD          -0.0       -0.0        -0.0  \n",
       "TAX           0.0       -0.0        -0.0  \n",
       "PTRATIO      -0.0        0.0        -0.0  \n",
       "B            -0.0       -0.0         1.0  \n",
       "LSTAT         1.0       -0.0        -0.0  \n",
       "CHAS_True    -0.0        1.0        -0.0  \n",
       "CHAS_False   -0.0       -0.0         1.0  "
      ]
     },
     "execution_count": 40,
     "metadata": {},
     "output_type": "execute_result"
    }
   ],
   "source": [
    "# Viewing the whitened dataset\n",
    "round(whitened_X_train.corr())"
   ]
  },
  {
   "cell_type": "markdown",
   "metadata": {},
   "source": [
    "#### Combining Whitening with Scaling"
   ]
  },
  {
   "cell_type": "code",
   "execution_count": 41,
   "metadata": {},
   "outputs": [],
   "source": [
    "# Adapted from course materials\n",
    "import sklearn.decomposition as dec\n",
    "\n",
    "# Create the PCA model that will whiten the input datasets\n",
    "pca = dec.PCA(n_components=len(scaled_X_train.columns), whiten=True)\n",
    "\n",
    "# Fitting the PCA model to the Scaled dataset\n",
    "pca.fit(scaled_X_train)\n",
    "\n",
    "# Creating the scaled and whitened input datasets\n",
    "whitenedAndScaled_X_train = pd.DataFrame(pca.transform(scaled_X_train), columns=scaled_X_train.columns)\n",
    "whitenedAndScaled_X_test = pd.DataFrame(pca.transform(scaled_X_test), columns=scaled_X_test.columns)"
   ]
  },
  {
   "cell_type": "markdown",
   "metadata": {},
   "source": [
    "### Creating a function for the machine learning algorithm\n",
    "\n",
    "Next we can define a function that can pass the different preprocessed datasets to the neural network. It will then provide a graph with the RMSE at each epoch for the test and train datasets. The minimum RMSE and the epoch at which it occurred is also returned. The epoch and the batch size can also be altered with a call to the function. The y value for the plot can also be changed to give the best view on the graph."
   ]
  },
  {
   "cell_type": "code",
   "execution_count": 42,
   "metadata": {},
   "outputs": [],
   "source": [
    "# Function to predict the output values for XTest, evaluated against yTest using a neural network\n",
    "# NeuralNet is trained on XTrain and yTrain\n",
    "def neuralNet(XTrain, XTest, yTrain, yTest, plot_y_top, epoch_value, batch_value):\n",
    "    # Importing packages\n",
    "    from keras.models import Sequential\n",
    "    from keras.layers import Dense\n",
    "\n",
    "    # Determining the size of the input\n",
    "    inputSize = len(XTrain.columns)\n",
    "    \n",
    "    # Defining the neural network\n",
    "    model = Sequential()\n",
    "    model.add(Dense(2*inputSize, input_dim=inputSize, activation='relu'))\n",
    "    model.add(Dense(inputSize, activation='relu'))\n",
    "    model.add(Dense(1, activation='relu'))\n",
    "\n",
    "    # Compiling the neural net \n",
    "    model.compile(loss='mean_squared_error', optimizer='adam')\n",
    "    \n",
    "    \n",
    "    # Adapted from https://keras.io/visualization/\n",
    "    # Fitting the neural net\n",
    "    history = model.fit(XTrain, yTrain, epochs=epoch_value, validation_data=(XTest, yTest), batch_size=batch_value, verbose=0)\n",
    "    \n",
    "    # Plot training & validation loss values\n",
    "    plt.figure(figsize=(12,6))\n",
    "    plt.plot(np.sqrt(history.history['loss']))\n",
    "    plt.plot(np.sqrt(history.history['val_loss']))\n",
    "    plt.title('Model loss')\n",
    "    plt.ylabel('Loss')\n",
    "    plt.xlabel('Epoch')\n",
    "    plt.legend(['Train', 'Test'], loc='upper left')\n",
    "    plt.ylim(top=plot_y_top, bottom=0)\n",
    "    plt.show()\n",
    "    \n",
    "    # Get the MSE\n",
    "    mse = model.evaluate(XTest, yTest, verbose=0) \n",
    "    \n",
    "    # Get the RMSE by getting the square root of the MSE\n",
    "    rmse = mse ** 0.5\n",
    "\n",
    "    epochForMinMSEValue = history.history['val_loss'].index(min(history.history['val_loss']))\n",
    "    minMSEValue = min(history.history['val_loss'])\n",
    "    \n",
    "    return epochForMinMSEValue, minMSEValue**0.5"
   ]
  },
  {
   "cell_type": "markdown",
   "metadata": {},
   "source": [
    "In our first call to the function we can input values similar to the model created above but have a much higher epochs value. We can see from below that we get a much better RMSE but the epoch at which this improved RMSE occurs is almost 20 times that of the original model above."
   ]
  },
  {
   "cell_type": "code",
   "execution_count": 49,
   "metadata": {},
   "outputs": [
    {
     "data": {
      "image/png": "[encoded data removed]",
      "text/plain": [
       "<Figure size 864x432 with 1 Axes>"
      ]
     },
     "metadata": {
      "needs_background": "light"
     },
     "output_type": "display_data"
    },
    {
     "data": {
      "text/plain": [
       "(1484, 3.039164952810091)"
      ]
     },
     "execution_count": 49,
     "metadata": {},
     "output_type": "execute_result"
    }
   ],
   "source": [
    "neuralNet(X_train, X_test, y_train, y_test, plot_y_top=30, epoch_value=3000, batch_value=4)"
   ]
  },
  {
   "cell_type": "markdown",
   "metadata": {},
   "source": [
    "Next we have the scaled dataset. Here we can see that the epoch at which the lowest value for the RMSE occurs is around 70 times less that with the orginal non-preprocessed dataset. We can also clearly graph that the RMSE for the test dataset rises. This is due to overfitting of the training dataset. "
   ]
  },
  {
   "cell_type": "code",
   "execution_count": 44,
   "metadata": {},
   "outputs": [
    {
     "data": {
      "image/png": "[encoded data removed]",
      "text/plain": [
       "<Figure size 864x432 with 1 Axes>"
      ]
     },
     "metadata": {
      "needs_background": "light"
     },
     "output_type": "display_data"
    },
    {
     "data": {
      "text/plain": [
       "(69, 3.297117098861881)"
      ]
     },
     "execution_count": 44,
     "metadata": {},
     "output_type": "execute_result"
    }
   ],
   "source": [
    "neuralNet(scaled_X_train, scaled_X_test, y_train, y_test, plot_y_top=25, epoch_value=300, batch_value=4)"
   ]
  },
  {
   "cell_type": "markdown",
   "metadata": {},
   "source": [
    "Next with the whitened dataset we have a similar RMSE to the scaled dataset but the epoch at which this occurs is almost 10 times higher."
   ]
  },
  {
   "cell_type": "code",
   "execution_count": 45,
   "metadata": {},
   "outputs": [
    {
     "data": {
      "image/png": "[encoded data removed]",
      "text/plain": [
       "<Figure size 864x432 with 1 Axes>"
      ]
     },
     "metadata": {
      "needs_background": "light"
     },
     "output_type": "display_data"
    },
    {
     "data": {
      "text/plain": [
       "(156, 3.202643186273586)"
      ]
     },
     "execution_count": 45,
     "metadata": {},
     "output_type": "execute_result"
    }
   ],
   "source": [
    "neuralNet(whitened_X_train, whitened_X_test, y_train, y_test, plot_y_top=25, epoch_value=300, batch_value=4)"
   ]
  },
  {
   "cell_type": "markdown",
   "metadata": {},
   "source": [
    "Next we can see that the dataset that has been both whitened and scaled performs worse compared to the whitened dataset in terms of the RMSE and the epoch at which this occurs. However, compared to the scaled only it appears to preform worse."
   ]
  },
  {
   "cell_type": "code",
   "execution_count": 50,
   "metadata": {},
   "outputs": [
    {
     "data": {
      "image/png": "[encoded data removed]",
      "text/plain": [
       "<Figure size 864x432 with 1 Axes>"
      ]
     },
     "metadata": {
      "needs_background": "light"
     },
     "output_type": "display_data"
    },
    {
     "data": {
      "text/plain": [
       "(140, 3.1418857569646628)"
      ]
     },
     "execution_count": 50,
     "metadata": {},
     "output_type": "execute_result"
    }
   ],
   "source": [
    "neuralNet(whitenedAndScaled_X_train, whitenedAndScaled_X_test, y_train, y_test, plot_y_top=25, epoch_value=300, batch_value=4)"
   ]
  },
  {
   "cell_type": "markdown",
   "metadata": {},
   "source": [
    "As the whitened dataset appears to perform much better than the others, we can take a further look at this. We can try changing the batch size to see what effect this will have. Increasing the batch size will make the model fit faster but will reduce the RMSE. Setting the batch size to 124 gives us a RMSE that is worse than for a batch size of 4 above. The epoch at which this occurs is also much higher."
   ]
  },
  {
   "cell_type": "code",
   "execution_count": 47,
   "metadata": {},
   "outputs": [
    {
     "data": {
      "image/png": "[encoded data removed]",
      "text/plain": [
       "<Figure size 864x432 with 1 Axes>"
      ]
     },
     "metadata": {
      "needs_background": "light"
     },
     "output_type": "display_data"
    },
    {
     "data": {
      "text/plain": [
       "(789, 3.3650097383750475)"
      ]
     },
     "execution_count": 47,
     "metadata": {},
     "output_type": "execute_result"
    }
   ],
   "source": [
    "neuralNet(whitened_X_train, whitened_X_test, y_train, y_test, plot_y_top=25, epoch_value=2000, batch_value=124)"
   ]
  },
  {
   "cell_type": "markdown",
   "metadata": {},
   "source": [
    "Setting the batch size to only 1 gives us a much better output for the RMSE. The epoch at which this occurs is much lower but it will take the model longer to fit with a batch size that is this low."
   ]
  },
  {
   "cell_type": "code",
   "execution_count": 48,
   "metadata": {},
   "outputs": [
    {
     "data": {
      "image/png": "[encoded data removed]",
      "text/plain": [
       "<Figure size 864x432 with 1 Axes>"
      ]
     },
     "metadata": {
      "needs_background": "light"
     },
     "output_type": "display_data"
    },
    {
     "data": {
      "text/plain": [
       "(51, 3.2597941819378824)"
      ]
     },
     "execution_count": 48,
     "metadata": {},
     "output_type": "execute_result"
    }
   ],
   "source": [
    "neuralNet(whitened_X_train, whitened_X_test, y_train, y_test, plot_y_top=25, epoch_value=200, batch_value=1)"
   ]
  },
  {
   "cell_type": "markdown",
   "metadata": {},
   "source": [
    "The neuralNet function could be improved further by giving the time to get the lowest RMSE as well as providing extra parameters such as the optimiser or the dimensions for the various layers. Combining this with a genetic algorithm that would chose at random different inputs and refine based on what gives the best output could make further improvements. A great example of combining a neural network with a genetic algroithm can be found on [Towards Data Science](https://towardsdatascience.com/gas-and-nns-6a41f1e8146d)."
   ]
  },
  {
   "cell_type": "markdown",
   "metadata": {},
   "source": [
    "# Conclusion\n",
    "\n",
    "In this notebook we have used descriptive and inferential statistics as well as machine learning to analyse the Boston House Prices dataset. \n",
    "\n",
    "In the descriptive statistics section we have seen how the different attributes compared with each other in terms of there distributions and their summary statistics. We also looked at how they correlated with each other. We noticed from this that there was a very low correlation between the median house prices for houses along the Charles River and those that are not. \n",
    "\n",
    "In the next section, we used inferential statistics to examine this relationship further. We found that there is a strong likelyhood that there is a link between higher median house prices for house along the Charles River compared to those that are not. \n",
    "\n",
    "Finally, we used the Keras package to construct a neural network which we used to predict the median house prices given the remaining attributes from the dataset as input. We found that preprocessing the dataset produced a lower RMSE and did so using less epochs. We also saw how choosing the correct number of epochs to use when fitting the model would prevent both over and under fitting the model to the training dataset."
   ]
  },
  {
   "cell_type": "markdown",
   "metadata": {},
   "source": [
    "# References"
   ]
  },
  {
   "cell_type": "markdown",
   "metadata": {},
   "source": [
    "<a name=\"[1]\"></a>[1] Cite Seer X. Hedonic Housing Prices and the Demand for Clean Air. [http://citeseerx.ist.psu.edu/viewdoc/download?doi=10.1.1.926.5532&rep=rep1&type=pdf]\n",
    "\n",
    "<a name=\"[2]\"></a>[2] Towards Data Science. Inferential Statistics for Data Science. [https://towardsdatascience.com/inferential-statistics-for-data-science-b0075670fc8a]\n",
    "\n",
    "<a name=\"[3]\"></a>[3] Science Direct. Inferential Statistics. [https://www.sciencedirect.com/topics/medicine-and-dentistry/inferential-statistics]\n",
    "\n",
    "<a name=\"[4]\"></a>[4] Investopedia. T-Test. [https://www.investopedia.com/terms/t/t-test.asp]\n",
    "\n",
    "<a name=\"[5]\"></a>[5] Wikipedia. Student's t-test. [https://en.wikipedia.org/wiki/Student%27s_t-test]\n",
    "\n",
    "<a name=\"[6]\"></a>[6] Step by Step Solutions: T-tests: Paired/Dependent and Independent. RPubs. [https://rpubs.com/raquelsbf/t-tests]\n",
    "\n",
    "<a name=\"[7]\"></a>[7] Wikipedia. Student's t-test. [https://en.wikipedia.org/wiki/Student%27s_t-test#Independent_two-sample_t-test]\n",
    "\n",
    "<a name=\"[8]\"></a>[8] Wikipedia. Welch's t-test. [https://en.wikipedia.org/wiki/Welch%27s_t-test]\n",
    "\n",
    "<a name=\"[9]\"></a>[9] Towards Data Science. Linear Regression on Boston Housing Dataset. [https://towardsdatascience.com/linear-regression-on-boston-housing-dataset-f409b7e4a155]\n",
    "\n",
    "<a name=\"[10]\"></a>[10] University of Minnesota. Types of Statistical Test. [https://cyfar.org/types-statistical-tests]\n",
    "\n",
    "<a name=\"[11]\"></a>[11] Machine Learning Mastery. How to Choose Loss Functions When Training Deep Learning Neural Networks. [https://machinelearningmastery.com/how-to-choose-loss-functions-when-training-deep-learning-neural-networks/]\n",
    "\n",
    "<a name=\"[12]\"></a>[12] Wikipedia. Keras. [https://en.wikipedia.org/wiki/Keras]\n",
    "\n",
    "<a name=\"[13]\"></a>[13] Wikipedia. Neuron. [https://upload.wikimedia.org/wikipedia/commons/4/44/Neuron3.png \"Neuron\"] \n",
    "\n",
    "<a name=\"[14]\"></a>[14] Skymind. A Beginner's Guide to Neural Networks and Deep Learning. [https://skymind.ai/wiki/neural-network]\n",
    "\n",
    "<a name=\"[15]\"></a>[15] Wikipedia. Artificial neural network. [https://en.wikipedia.org/wiki/Artificial_neural_network]\n",
    "\n",
    "<a name=\"[16]\"></a>[16] Skymind. A Beginner's Guide to Neural Networks and Deep Learning. [https://skymind.ai/wiki/neural-network]\n",
    "\n",
    "<a name=\"[17]\"></a>[17] Wikipedia. Neural Network. [https://upload.wikimedia.org/wikipedia/commons/thumb/4/46/Colored_neural_network.svg/296px-Colored_neural_network.svg.png \"Neural Network\"]\n",
    "\n",
    "<a name=\"[18]\"></a>[18] Medium. A Practical Guide to ReLU. [https://medium.com/@danqing/a-practical-guide-to-relu-b83ca804f1f7]\n",
    "\n",
    "<a name=\"[19]\"></a>[19] Statistics How To. Mean Square Error. [https://www.statisticshowto.datasciencecentral.com/mean-squared-error/]\n",
    "\n",
    "<a name=\"[20]\"></a>[20] Vernier. What are Mean Squared Error and Root Mean Squared Error? [https://www.vernier.com/til/1014/]\n",
    "\n",
    "<a name=\"[21]\"></a>[21] Scikit Learn. Preprocessing data. [https://scikit-learn.org/stable/modules/preprocessing.html]\n",
    "\n",
    "<a name=\"[22]\"></a>[22] Stanford University. PCA Whitening. [http://ufldl.stanford.edu/tutorial/unsupervised/PCAWhitening/]\n",
    "\n",
    "<a name=\"[23]\"></a>[23] Wikipedia. Whitening transformation. [https://en.wikipedia.org/wiki/Whitening_transformation]"
   ]
  },
  {
   "cell_type": "code",
   "execution_count": null,
   "metadata": {},
   "outputs": [],
   "source": []
  }
 ],
 "metadata": {
  "kernelspec": {
   "display_name": "Python 3",
   "language": "python",
   "name": "python3"
  },
  "language_info": {
   "codemirror_mode": {
    "name": "ipython",
    "version": 3
   },
   "file_extension": ".py",
   "mimetype": "text/x-python",
   "name": "python",
   "nbconvert_exporter": "python",
   "pygments_lexer": "ipython3",
   "version": "3.6.9"
  }
 },
 "nbformat": 4,
 "nbformat_minor": 2
}
